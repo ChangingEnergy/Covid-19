{
 "cells": [
  {
   "cell_type": "markdown",
   "metadata": {
    "slideshow": {
     "slide_type": "slide"
    }
   },
   "source": [
    "### Covid-19 Live Data\n",
    "<img src=\"qualitrolcorp.png\" alt=\"covid-19_qualitrolcorp\" width=\"500\"/>"
   ]
  },
  {
   "cell_type": "markdown",
   "metadata": {
    "slideshow": {
     "slide_type": "slide"
    }
   },
   "source": [
    "## Quick Run - Top 10 Country View"
   ]
  },
  {
   "cell_type": "code",
   "execution_count": null,
   "metadata": {
    "slideshow": {
     "slide_type": "subslide"
    }
   },
   "outputs": [],
   "source": [
    "import pandas as pd\n",
    "import numpy as np\n",
    "import matplotlib.pyplot as plt\n",
    "\n",
    "%matplotlib inline\n",
    "\n",
    "#for dropdown widget \n",
    "from ipywidgets import widgets as wd \n",
    "from IPython.display import display\n",
    "\n",
    "import datetime\n",
    "import os \n",
    "\n",
    "allData = pd.read_excel(\"https://www.ecdc.europa.eu/sites/default/files/documents/COVID-19-geographic-disbtribution-worldwide.xlsx\")\n",
    "\n",
    "allData.head()\n",
    "\n",
    "#and John Hopkins data\n",
    "\n",
    "lastDataDate = datetime.date.strftime(datetime.date.today()- datetime.timedelta(1),\"%m-%d-%Y\")\n",
    "\n",
    "enigma = pd.read_csv(os.path.join(\"https://raw.githubusercontent.com/CSSEGISandData/COVID-19/master/csse_covid_19_data/csse_covid_19_daily_reports/\", lastDataDate + \".csv\"))\n",
    "\n",
    "\n",
    "# Enigma / John Hopkins plot\n",
    "\n",
    "#de-one hot encode by adding a single status column for deaths, recovered and active\n",
    "enigmaReportCols = [\"Deaths\",\"Recovered\",\"Active\"]\n",
    "\n",
    "meltedEnigma = enigma.melt(id_vars=enigma.drop(enigmaReportCols, axis=1), value_vars=enigmaReportCols, var_name=['Status'], value_name='Number') # Melting\n",
    "\n",
    "\n",
    "#display as a grouped DF by country, sorted in descending order of confirmed cases \n",
    "meltedEnigmaSummary = meltedEnigma.groupby(['Country_Region','Status']).sum()\n",
    "meltedEnigmaSummary.head()\n",
    "meltedEnigmaSummary.shape\n",
    "meltedEnigmaSummary=pd.DataFrame(meltedEnigmaSummary.to_records())\n",
    "meltedEnigmaSummary = meltedEnigmaSummary.sort_values(['Confirmed'],ascending = False)\n",
    "meltedEnigmaSummary=meltedEnigmaSummary.head(30)\n",
    "\n",
    "#get top10 countries by confirmed cases\n",
    "top10=meltedEnigmaSummary.head(30).Country_Region.unique()\n",
    "top10\n",
    "top10_enigma = enigma[enigma[\"Country_Region\"].isin(top10)]\n",
    "top10_enigma_stats=top10_enigma[[\"Country_Region\",\"Deaths\",\"Recovered\",\"Active\",\"Confirmed\"]]\n",
    "top10_enigma_stats=top10_enigma_stats.groupby(\"Country_Region\").sum()\n",
    "top10_enigma_stats=top10_enigma_stats.sort_values(['Confirmed'],ascending = False)\n",
    "\n",
    "\n",
    "#see also this link for adding datatable below\n",
    "#https://matplotlib.org/3.1.1/gallery/misc/table_demo.html#sphx-glr-gallery-misc-table-demo-py\n",
    "\n",
    "import numpy as np\n",
    "import matplotlib.pyplot as plt\n",
    "from matplotlib.ticker import FormatStrFormatter\n",
    "\n",
    "A = top10_enigma_stats.Deaths\n",
    "B = top10_enigma_stats.Recovered\n",
    "C = top10_enigma_stats.Active\n",
    "\n",
    "fig = plt.figure(facecolor=\"white\",figsize=(15,8))\n",
    "plt.title(\"Confirmed Cases by Country\", fontsize=18)\n",
    "\n",
    "ax = fig.add_subplot(1, 1, 1)\n",
    "bar_width = 0.5\n",
    "bar_l = np.arange(1, 11)\n",
    "tick_pos = [i-0.5 + bar_width for i in bar_l]\n",
    "\n",
    "ax1 = ax.bar(bar_l, A, width=bar_width, label=\"deaths\", color=\"red\") #deaths\n",
    "ax2 = ax.bar(bar_l, B, bottom=A, width=bar_width, label=\"recovered\", color=\"green\") #recovered\n",
    "ax3 = ax.bar(bar_l, C, bottom=A+B, width=bar_width, label=\"active\", color=\"orange\") #active\n",
    "\n",
    "ax.set_ylabel(\"Count (k)\", fontsize=14)\n",
    "ax.get_yaxis().set_major_formatter(plt.FuncFormatter(lambda x, loc: \"{:,}\".format(int(x))))\n",
    "\n",
    "#ax.set_xlabel(\"Country\", fontsize=18)\n",
    "ax.legend(loc=\"best\")\n",
    "plt.xticks(tick_pos, top10, fontsize=10)\n",
    "plt.yticks(fontsize=14)\n",
    "\n",
    "for r1, r2, r3 in zip(ax1, ax2, ax3):\n",
    "    h1 = r1.get_height()\n",
    "    h2 = r2.get_height()\n",
    "    h3 = r3.get_height()\n",
    "#     plt.text(r1.get_x() + r1.get_width()-0.25  , 10 , \"%d\" % h1, ha=\"center\", va=\"center\", color=\"white\", fontsize=10, fontweight=\"bold\")\n",
    "#     plt.text(r2.get_x() + r2.get_width()-0.25  , h1 + h2 / 3., \"%d\" % h2, ha=\"center\", va=\"bottom\", color=\"white\", fontsize=10, fontweight=\"bold\")\n",
    "#     plt.text(r3.get_x() + r3.get_width() -0.25 , h1 + h2 + h3 / 3., \"%d\" % h3, ha=\"center\", va=\"bottom\", color=\"black\", fontsize=10, fontweight=\"bold\")\n",
    "\n",
    "    plt.text(r1.get_x() + r1.get_width()-0.25  , 100 , f'{h1:,}', ha=\"center\", va=\"bottom\", color=\"white\", fontsize=10, fontweight=\"bold\")\n",
    "    plt.text(r2.get_x() + r2.get_width()-0.25  , h1 + h2 / 3., f'{h2:,}', ha=\"center\", va=\"bottom\", color=\"white\", fontsize=10,fontweight=\"bold\")\n",
    "    plt.text(r3.get_x() + r3.get_width() -0.25 , h1 + h2 + h3 / 3., f'{h3:,}', ha=\"center\", va=\"bottom\", color=\"black\", fontsize=10, fontweight=\"bold\")"
   ]
  },
  {
   "cell_type": "code",
   "execution_count": null,
   "metadata": {
    "slideshow": {
     "slide_type": "slide"
    }
   },
   "outputs": [],
   "source": [
    "print(top10_enigma_stats)\n",
    "\n",
    "fig"
   ]
  },
  {
   "cell_type": "markdown",
   "metadata": {
    "slideshow": {
     "slide_type": "slide"
    }
   },
   "source": [
    "## Quick Run - Country Breakdown"
   ]
  },
  {
   "cell_type": "code",
   "execution_count": null,
   "metadata": {
    "slideshow": {
     "slide_type": "subslide"
    }
   },
   "outputs": [],
   "source": [
    "userOptions = wd.Dropdown(\n",
    "        options=allData.countriesAndTerritories.unique(),\n",
    "        value='Afghanistan',\n",
    "        description='Countries:',\n",
    "        disabled=False\n",
    "        )\n",
    "\n",
    "display(userOptions)"
   ]
  },
  {
   "cell_type": "code",
   "execution_count": null,
   "metadata": {
    "slideshow": {
     "slide_type": "subslide"
    }
   },
   "outputs": [],
   "source": [
    "userCountry =userOptions.value\n",
    "\n",
    "filtered_df = allData.loc[allData['countriesAndTerritories'] == userCountry] #region filter\n",
    "\n",
    "filtered_df.head()\n",
    "\n",
    "# Plotting\n",
    "\n",
    "# config\n",
    "from datetime import datetime as dt\n",
    "\n",
    "plot_df=filtered_df # copy just for plotting\n",
    "\n",
    "#change to simpler date format, dont need year\n",
    "plot_df['dateRep'] = plot_df['dateRep'].dt.strftime('%d-%b')\n",
    "#sortindex in descending order so that x-axes moves eft to right from historic to present\n",
    "plot_df=plot_df.sort_index(axis=0, ascending=False)\n",
    "#set date as new index for plotting\n",
    "plot_df=plot_df.set_index('dateRep')\n",
    "\n",
    "x1 = plot_df.index\n",
    "x2 = plot_df.index\n",
    "y1 = plot_df.cases.values #drop .values if doing a line plot (see next cell*)\n",
    "y2 = plot_df.deaths.values #drop .values if doing a line plot (see next cell*)"
   ]
  },
  {
   "cell_type": "code",
   "execution_count": null,
   "metadata": {
    "slideshow": {
     "slide_type": "slide"
    }
   },
   "outputs": [],
   "source": [
    "from matplotlib.ticker import (MultipleLocator, FormatStrFormatter, AutoMinorLocator)\n",
    "\n",
    "fig, axes = plt.subplots(nrows=1, ncols=2, figsize=(12, 5))\n",
    "\n",
    "axes[0].bar(x1, y1,color='b') #.plot would give a line plot*\n",
    "axes[1].bar(x2, y2,color='r') #.plot would give a line plot*\n",
    "axes[0].xaxis.set_major_locator(MultipleLocator(28))\n",
    "axes[1].xaxis.set_major_locator(MultipleLocator(28))\n",
    "\n",
    "#axes[0].set_title('Cases (latest: ' + str(plot_df[\"cases\"][-1]) + ')')\n",
    "#axes[1].set_title('Deaths (latest: ' + str(plot_df[\"deaths\"][-1]) + ')')\n",
    "\n",
    "fig.suptitle(userCountry, x= 0.5, y = 1.05, fontsize=16)\n",
    "plt.figtext(0.2, 0.7, 'Cases:\\n\\n Total ' + str(plot_df.cases.sum()) + '\\nLatest ' + str(plot_df[\"cases\"][-1]), horizontalalignment='right')\n",
    "plt.figtext(0.7, 0.7, 'Deaths:\\n\\n Total ' + str(plot_df.deaths.sum()) + '\\nLatest ' + str(plot_df[\"deaths\"][-1]), horizontalalignment='right')\n",
    "\n",
    "fig.tight_layout()"
   ]
  },
  {
   "cell_type": "markdown",
   "metadata": {
    "slideshow": {
     "slide_type": "slide"
    }
   },
   "source": [
    "## Quick Run - Regional Breakdown"
   ]
  },
  {
   "cell_type": "code",
   "execution_count": null,
   "metadata": {
    "slideshow": {
     "slide_type": "subslide"
    }
   },
   "outputs": [],
   "source": [
    "#import live data\n",
    "US_Confirmed = pd.read_csv(\"https://raw.githubusercontent.com/CSSEGISandData/COVID-19/master/csse_covid_19_data/csse_covid_19_time_series/time_series_covid19_confirmed_US.csv\")\n",
    "Global_Confirmed = pd.read_csv(\"https://raw.githubusercontent.com/CSSEGISandData/COVID-19/master/csse_covid_19_data/csse_covid_19_time_series/time_series_covid19_confirmed_global.csv\")\n",
    "US_Deaths = pd.read_csv(\"https://raw.githubusercontent.com/CSSEGISandData/COVID-19/master/csse_covid_19_data/csse_covid_19_time_series/time_series_covid19_deaths_US.csv\")\n",
    "Global_Deaths = pd.read_csv(\"https://raw.githubusercontent.com/CSSEGISandData/COVID-19/master/csse_covid_19_data/csse_covid_19_time_series/time_series_covid19_deaths_global.csv\")\n",
    "Global_Recovered = pd.read_csv(\"https://raw.githubusercontent.com/CSSEGISandData/COVID-19/master/csse_covid_19_data/csse_covid_19_time_series/time_series_covid19_recovered_global.csv\")\n",
    "\n",
    "#we just want state break down so aggregate\n",
    "US_Confirmed = US_Confirmed.groupby('Province_State', as_index=False).sum() \n",
    "US_Deaths = US_Deaths.groupby('Province_State', as_index=False).sum() \n",
    "Global_Confirmed = Global_Confirmed.groupby('Province/State', as_index=False).sum() \n",
    "Global_Deaths = Global_Deaths.groupby('Province/State', as_index=False).sum() \n",
    "Global_Recovered = Global_Recovered.groupby('Province/State', as_index=False).sum() \n",
    "\n",
    "#Simplify and combine datasets for plotting\n",
    "\n",
    "#drop all columns except region and dates\n",
    "US_Confirmed = US_Confirmed.drop(columns=['UID', 'code3', 'FIPS', 'Lat', 'Long_'])\n",
    "US_Deaths = US_Deaths.drop(columns=['UID', 'code3', 'FIPS', 'Lat', 'Long_', 'Population'])\n",
    "Global_Confirmed = Global_Confirmed.drop(columns=['Lat','Long'])\n",
    "Global_Deaths = Global_Deaths.drop(columns=['Lat','Long'])\n",
    "Global_Recovered = Global_Recovered.drop(columns=['Lat','Long'])\n",
    "\n",
    "\n",
    "#put dates in long format, not wide\n",
    "US_Confirmed = US_Confirmed.melt(id_vars=\"Province_State\",var_name=\"Date\",value_name=\"Confirmed\")\n",
    "US_Deaths = US_Deaths.melt(id_vars=\"Province_State\",var_name=\"Date\",value_name=\"Deaths\")\n",
    "Global_Confirmed = Global_Confirmed.melt(id_vars=\"Province/State\",var_name=\"Date\",value_name=\"Confirmed\")\n",
    "Global_Deaths = Global_Deaths.melt(id_vars=\"Province/State\",var_name=\"Date\",value_name=\"Deaths\")\n",
    "Global_Recovered = Global_Recovered.melt(id_vars=\"Province/State\",var_name=\"Date\",value_name=\"Recovered\")\n",
    "\n",
    "\n",
    "# Join US Confirmed to Deaths\n",
    "US_all = US_Confirmed.merge(US_Deaths, on=['Province_State','Date'])\n",
    "Global_all = Global_Confirmed.merge(Global_Deaths, on=['Province/State','Date'])\n",
    "#and join with global recoveries\n",
    "Global_all = Global_all.merge(Global_Recovered, on=['Province/State','Date'])\n",
    "#rename column\n",
    "Global_all = Global_all.rename(columns={\"Province/State\": \"Province_State\"})\n",
    "\n",
    "#final dataset for plotting\n",
    "all = US_all.append(Global_all)"
   ]
  },
  {
   "cell_type": "code",
   "execution_count": null,
   "metadata": {
    "slideshow": {
     "slide_type": "slide"
    }
   },
   "outputs": [],
   "source": [
    "#user prompt for regions\n",
    "\n",
    "userOptionsRegion = wd.Dropdown(\n",
    "        options=all.Province_State.unique(),\n",
    "        value='American Samoa',\n",
    "        description='Regions:',\n",
    "        disabled=False\n",
    "        )\n",
    "\n",
    "display(userOptionsRegion)"
   ]
  },
  {
   "cell_type": "code",
   "execution_count": null,
   "metadata": {
    "slideshow": {
     "slide_type": "subslide"
    }
   },
   "outputs": [],
   "source": [
    "userRegion =userOptionsRegion.value\n",
    "\n",
    "filtered = all.loc[all['Province_State'] == userRegion] #region filter\n",
    "\n",
    "# need to change Date to datetime\n",
    "filtered[\"Date\"] = pd.to_datetime(filtered[\"Date\"])\n",
    "\n",
    "# take the differences from one day to the next to get back to daily totals\n",
    "filtered.Confirmed=filtered.Confirmed.diff()\n",
    "filtered.Deaths=filtered.Deaths.diff()\n",
    "filtered.Recovered=filtered.Recovered.diff()\n",
    "\n",
    "from datetime import datetime as dt\n",
    "\n",
    "#change to simpler date format, dont need year\n",
    "filtered['Date'] = filtered['Date'].dt.strftime('%d-%b')\n",
    "\n",
    "#set date as new index for plotting\n",
    "filtered=filtered.set_index('Date')\n",
    "\n",
    "x1 = filtered.index\n",
    "x2 = filtered.index\n",
    "y1 = filtered.Confirmed.values #drop .values if doing a line plot (see next cell*)\n",
    "y2 = filtered.Deaths.values #drop .values if doing a line plot (see next cell*)"
   ]
  },
  {
   "cell_type": "code",
   "execution_count": null,
   "metadata": {
    "slideshow": {
     "slide_type": "slide"
    }
   },
   "outputs": [],
   "source": [
    "from matplotlib.ticker import (MultipleLocator, FormatStrFormatter,AutoMinorLocator)\n",
    "\n",
    "fig, axes = plt.subplots(nrows=1, ncols=2, figsize=(12, 5))\n",
    "\n",
    "axes[0].bar(x1, y1,color='b') #.plot would give a line plot*\n",
    "axes[1].bar(x2, y2,color='r') #.plot would give a line plot*\n",
    "axes[0].xaxis.set_major_locator(MultipleLocator(28))\n",
    "axes[1].xaxis.set_major_locator(MultipleLocator(28))\n",
    "\n",
    "fig.suptitle(userRegion, x= 0.5, y = 1.05, fontsize=16)\n",
    "plt.figtext(0.2, 0.7, 'Cases:\\n\\n Total ' + str(filtered.Confirmed.sum()) + '\\nLatest ' + str(filtered[\"Confirmed\"][-1]), horizontalalignment='right')\n",
    "plt.figtext(0.7, 0.7, 'Deaths:\\n\\n Total ' + str(filtered.Deaths.sum()) + '\\nLatest ' + str(filtered[\"Deaths\"][-1]), horizontalalignment='right')\n",
    "\n",
    "fig.tight_layout()"
   ]
  },
  {
   "cell_type": "code",
   "execution_count": null,
   "metadata": {},
   "outputs": [],
   "source": []
  },
  {
   "cell_type": "markdown",
   "metadata": {},
   "source": [
    "## Full Run - Top 10 Country View"
   ]
  },
  {
   "cell_type": "code",
   "execution_count": null,
   "metadata": {
    "slideshow": {
     "slide_type": "slide"
    }
   },
   "outputs": [],
   "source": [
    "import pandas as pd\n",
    "import numpy as np\n",
    "import matplotlib.pyplot as plt\n",
    "\n",
    "%matplotlib inline\n",
    "\n",
    "#for dropdown widget \n",
    "from ipywidgets import widgets as wd \n",
    "from IPython.display import display\n",
    "\n",
    "import datetime\n",
    "import os \n",
    "\n",
    "allData = pd.read_excel(\"https://www.ecdc.europa.eu/sites/default/files/documents/COVID-19-geographic-disbtribution-worldwide.xlsx\")\n",
    "\n",
    "allData.head()\n",
    "\n",
    "#and John Hopkins data\n",
    "\n",
    "lastDataDate = datetime.date.strftime(datetime.date.today()- datetime.timedelta(1),\"%m-%d-%Y\")\n",
    "\n",
    "enigma = pd.read_csv(os.path.join(\"https://raw.githubusercontent.com/CSSEGISandData/COVID-19/master/csse_covid_19_data/csse_covid_19_daily_reports/\", lastDataDate + \".csv\"))"
   ]
  },
  {
   "cell_type": "markdown",
   "metadata": {
    "slideshow": {
     "slide_type": "slide"
    }
   },
   "source": [
    "### Enigma / John Hopkins University data exploration"
   ]
  },
  {
   "cell_type": "code",
   "execution_count": null,
   "metadata": {
    "slideshow": {
     "slide_type": "slide"
    }
   },
   "outputs": [],
   "source": [
    "enigma.head()"
   ]
  },
  {
   "cell_type": "code",
   "execution_count": null,
   "metadata": {
    "slideshow": {
     "slide_type": "-"
    }
   },
   "outputs": [],
   "source": [
    "enigma.tail()"
   ]
  },
  {
   "cell_type": "code",
   "execution_count": null,
   "metadata": {
    "slideshow": {
     "slide_type": "-"
    }
   },
   "outputs": [],
   "source": [
    "enigma.shape"
   ]
  },
  {
   "cell_type": "code",
   "execution_count": null,
   "metadata": {
    "slideshow": {
     "slide_type": "-"
    }
   },
   "outputs": [],
   "source": [
    "enigma.nunique()"
   ]
  },
  {
   "cell_type": "code",
   "execution_count": null,
   "metadata": {
    "slideshow": {
     "slide_type": "-"
    }
   },
   "outputs": [],
   "source": [
    "enigma.Country_Region.unique()"
   ]
  },
  {
   "cell_type": "code",
   "execution_count": null,
   "metadata": {},
   "outputs": [],
   "source": [
    "enigma.Province_State.unique()"
   ]
  },
  {
   "cell_type": "markdown",
   "metadata": {
    "slideshow": {
     "slide_type": "slide"
    }
   },
   "source": [
    "### Enigma / John Hopkins plot"
   ]
  },
  {
   "cell_type": "code",
   "execution_count": null,
   "metadata": {
    "slideshow": {
     "slide_type": "slide"
    }
   },
   "outputs": [],
   "source": [
    "#de-one hot encode by adding a single status column for deaths, recovered and active\n",
    "enigmaReportCols = [\"Deaths\",\"Recovered\",\"Active\"]\n",
    "\n",
    "meltedEnigma = enigma.melt(id_vars=enigma.drop(enigmaReportCols, axis=1), value_vars=enigmaReportCols, var_name=['Status'], value_name='Number') # Melting"
   ]
  },
  {
   "cell_type": "code",
   "execution_count": null,
   "metadata": {},
   "outputs": [],
   "source": [
    "meltedEnigma.head()"
   ]
  },
  {
   "cell_type": "code",
   "execution_count": null,
   "metadata": {},
   "outputs": [],
   "source": [
    "meltedEnigma.shape"
   ]
  },
  {
   "cell_type": "code",
   "execution_count": null,
   "metadata": {
    "slideshow": {
     "slide_type": "slide"
    }
   },
   "outputs": [],
   "source": [
    "#display as a grouped DF by country, sorted in descending order of confirmed cases \n",
    "meltedEnigmaSummary = meltedEnigma.groupby(['Country_Region','Status']).sum()\n",
    "meltedEnigmaSummary.head()\n",
    "meltedEnigmaSummary.shape\n",
    "meltedEnigmaSummary=pd.DataFrame(meltedEnigmaSummary.to_records())\n",
    "meltedEnigmaSummary = meltedEnigmaSummary.sort_values(['Confirmed'],ascending = False)\n",
    "meltedEnigmaSummary=meltedEnigmaSummary.head(30)\n",
    "\n",
    "#get top10 countries by confirmed cases\n",
    "top10=meltedEnigmaSummary.head(30).Country_Region.unique()\n",
    "top10\n",
    "top10_enigma = enigma[enigma[\"Country_Region\"].isin(top10)]\n",
    "top10_enigma_stats=top10_enigma[[\"Country_Region\",\"Deaths\",\"Recovered\",\"Active\",\"Confirmed\"]]\n",
    "top10_enigma_stats=top10_enigma_stats.groupby(\"Country_Region\").sum()\n",
    "top10_enigma_stats=top10_enigma_stats.sort_values(['Confirmed'],ascending = False)"
   ]
  },
  {
   "cell_type": "code",
   "execution_count": null,
   "metadata": {
    "scrolled": true,
    "slideshow": {
     "slide_type": "slide"
    }
   },
   "outputs": [],
   "source": [
    "#see also this link for adding datatable below\n",
    "#https://matplotlib.org/3.1.1/gallery/misc/table_demo.html#sphx-glr-gallery-misc-table-demo-py\n",
    "\n",
    "import numpy as np\n",
    "import matplotlib.pyplot as plt\n",
    "from matplotlib.ticker import FormatStrFormatter\n",
    "\n",
    "A = top10_enigma_stats.Deaths\n",
    "B = top10_enigma_stats.Recovered\n",
    "C = top10_enigma_stats.Active\n",
    "\n",
    "fig = plt.figure(facecolor=\"white\",figsize=(15,8))\n",
    "plt.title(\"Confirmed Cases by Country\", fontsize=18)\n",
    "\n",
    "ax = fig.add_subplot(1, 1, 1)\n",
    "bar_width = 0.5\n",
    "bar_l = np.arange(1, 11)\n",
    "tick_pos = [i-0.5 + bar_width for i in bar_l]\n",
    "\n",
    "ax1 = ax.bar(bar_l, A, width=bar_width, label=\"deaths\", color=\"red\") #deaths\n",
    "ax2 = ax.bar(bar_l, B, bottom=A, width=bar_width, label=\"recovered\", color=\"green\") #recovered\n",
    "ax3 = ax.bar(bar_l, C, bottom=A+B, width=bar_width, label=\"active\", color=\"orange\") #active\n",
    "\n",
    "ax.set_ylabel(\"Count (k)\", fontsize=14)\n",
    "ax.get_yaxis().set_major_formatter(plt.FuncFormatter(lambda x, loc: \"{:,}\".format(int(x))))\n",
    "\n",
    "#ax.set_xlabel(\"Country\", fontsize=18)\n",
    "ax.legend(loc=\"best\")\n",
    "plt.xticks(tick_pos, top10, fontsize=10)\n",
    "plt.yticks(fontsize=14)\n",
    "\n",
    "for r1, r2, r3 in zip(ax1, ax2, ax3):\n",
    "    h1 = r1.get_height()\n",
    "    h2 = r2.get_height()\n",
    "    h3 = r3.get_height()\n",
    "#     plt.text(r1.get_x() + r1.get_width()-0.25  , 10 , \"%d\" % h1, ha=\"center\", va=\"center\", color=\"white\", fontsize=10, fontweight=\"bold\")\n",
    "#     plt.text(r2.get_x() + r2.get_width()-0.25  , h1 + h2 / 3., \"%d\" % h2, ha=\"center\", va=\"bottom\", color=\"white\", fontsize=10, fontweight=\"bold\")\n",
    "#     plt.text(r3.get_x() + r3.get_width() -0.25 , h1 + h2 + h3 / 3., \"%d\" % h3, ha=\"center\", va=\"bottom\", color=\"black\", fontsize=10, fontweight=\"bold\")\n",
    "\n",
    "    plt.text(r1.get_x() + r1.get_width()-0.25  , 100 , f'{h1:,}', ha=\"center\", va=\"bottom\", color=\"white\", fontsize=10, fontweight=\"bold\")\n",
    "    plt.text(r2.get_x() + r2.get_width()-0.25  , h1 + h2 / 3., f'{h2:,}', ha=\"center\", va=\"bottom\", color=\"white\", fontsize=10,fontweight=\"bold\")\n",
    "    plt.text(r3.get_x() + r3.get_width() -0.25 , h1 + h2 + h3 / 3., f'{h3:,}', ha=\"center\", va=\"bottom\", color=\"black\", fontsize=10, fontweight=\"bold\")"
   ]
  },
  {
   "cell_type": "code",
   "execution_count": null,
   "metadata": {
    "slideshow": {
     "slide_type": "slide"
    }
   },
   "outputs": [],
   "source": [
    "fig"
   ]
  },
  {
   "cell_type": "code",
   "execution_count": null,
   "metadata": {
    "slideshow": {
     "slide_type": "slide"
    }
   },
   "outputs": [],
   "source": [
    "top10_enigma_stats"
   ]
  },
  {
   "cell_type": "markdown",
   "metadata": {
    "slideshow": {
     "slide_type": "slide"
    }
   },
   "source": [
    "### Filter by Country"
   ]
  },
  {
   "cell_type": "code",
   "execution_count": null,
   "metadata": {
    "slideshow": {
     "slide_type": "skip"
    }
   },
   "outputs": [],
   "source": [
    "#alternative\n",
    "\n",
    "# List of countries\n",
    "\n",
    "print(allData.countriesAndTerritories.unique())\n",
    "\n",
    "#alternative\n",
    "\n",
    "#userCountry = input(\"\\nchoose a country: \")"
   ]
  },
  {
   "cell_type": "code",
   "execution_count": null,
   "metadata": {
    "slideshow": {
     "slide_type": "slide"
    }
   },
   "outputs": [],
   "source": [
    "userOptions = wd.Dropdown(\n",
    "        options=allData.countriesAndTerritories.unique(),\n",
    "        value='Afghanistan',\n",
    "        description='Countries:',\n",
    "        disabled=False\n",
    "        )\n",
    "\n",
    "display(userOptions)"
   ]
  },
  {
   "cell_type": "code",
   "execution_count": null,
   "metadata": {
    "slideshow": {
     "slide_type": "slide"
    }
   },
   "outputs": [],
   "source": [
    "userCountry =userOptions.value\n",
    "\n",
    "filtered_df = allData.loc[allData['countriesAndTerritories'] == userCountry] #region filter\n",
    "\n",
    "filtered_df.head()"
   ]
  },
  {
   "cell_type": "code",
   "execution_count": null,
   "metadata": {
    "slideshow": {
     "slide_type": "skip"
    }
   },
   "outputs": [],
   "source": [
    "filtered_df.dtypes"
   ]
  },
  {
   "cell_type": "markdown",
   "metadata": {
    "slideshow": {
     "slide_type": "slide"
    }
   },
   "source": [
    "### Plotting"
   ]
  },
  {
   "cell_type": "code",
   "execution_count": null,
   "metadata": {
    "slideshow": {
     "slide_type": "slide"
    }
   },
   "outputs": [],
   "source": [
    "# config\n",
    "from datetime import datetime as dt\n",
    "\n",
    "plot_df=filtered_df # copy just for plotting\n",
    "\n",
    "#change to simpler date format, dont need year\n",
    "plot_df['dateRep'] = plot_df['dateRep'].dt.strftime('%d-%b')\n",
    "#sortindex in descending order so that x-axes moves eft to right from historic to present\n",
    "plot_df=plot_df.sort_index(axis=0, ascending=False)\n",
    "#set date as new index for plotting\n",
    "plot_df=plot_df.set_index('dateRep')\n",
    "\n",
    "x1 = plot_df.index\n",
    "x2 = plot_df.index\n",
    "y1 = plot_df.cases.values #drop .values if doing a line plot (see next cell*)\n",
    "y2 = plot_df.deaths.values #drop .values if doing a line plot (see next cell*)\n",
    "\n",
    "from matplotlib.ticker import (MultipleLocator, FormatStrFormatter,\n",
    "                               AutoMinorLocator)"
   ]
  },
  {
   "cell_type": "code",
   "execution_count": null,
   "metadata": {
    "slideshow": {
     "slide_type": "slide"
    }
   },
   "outputs": [],
   "source": [
    "fig, axes = plt.subplots(nrows=1, ncols=2, figsize=(12, 5))\n",
    "\n",
    "axes[0].bar(x1, y1,color='b') #.plot would give a line plot*\n",
    "axes[1].bar(x2, y2,color='r') #.plot would give a line plot*\n",
    "axes[0].xaxis.set_major_locator(MultipleLocator(28))\n",
    "axes[1].xaxis.set_major_locator(MultipleLocator(28))\n",
    "\n",
    "#axes[0].set_title('Cases (latest: ' + str(plot_df[\"cases\"][-1]) + ')')\n",
    "#axes[1].set_title('Deaths (latest: ' + str(plot_df[\"deaths\"][-1]) + ')')\n",
    "\n",
    "fig.suptitle(userCountry, x= 0.5, y = 1.05, fontsize=16)\n",
    "plt.figtext(0.2, 0.7, 'Cases:\\n\\n Total ' + str(plot_df.cases.sum()) + '\\nLatest ' + str(plot_df[\"cases\"][-1]), horizontalalignment='right')\n",
    "plt.figtext(0.7, 0.7, 'Deaths:\\n\\n Total ' + str(plot_df.deaths.sum()) + '\\nLatest ' + str(plot_df[\"deaths\"][-1]), horizontalalignment='right')\n",
    "\n",
    "fig.tight_layout()"
   ]
  },
  {
   "cell_type": "markdown",
   "metadata": {
    "slideshow": {
     "slide_type": "slide"
    }
   },
   "source": [
    "### Filter by Region"
   ]
  },
  {
   "cell_type": "code",
   "execution_count": null,
   "metadata": {
    "slideshow": {
     "slide_type": "slide"
    }
   },
   "outputs": [],
   "source": [
    "#libraries again if needed\n",
    "\n",
    "import pandas as pd\n",
    "import numpy as np\n",
    "import matplotlib.pyplot as plt\n",
    "\n",
    "%matplotlib inline\n",
    "\n",
    "#for dropdown widget \n",
    "from ipywidgets import widgets as wd \n",
    "from IPython.display import display\n",
    "\n",
    "import datetime\n",
    "import os "
   ]
  },
  {
   "cell_type": "code",
   "execution_count": null,
   "metadata": {},
   "outputs": [],
   "source": [
    "US_Confirmed = pd.read_csv(\"https://raw.githubusercontent.com/CSSEGISandData/COVID-19/master/csse_covid_19_data/csse_covid_19_time_series/time_series_covid19_confirmed_US.csv\")\n",
    "Global_Confirmed = pd.read_csv(\"https://raw.githubusercontent.com/CSSEGISandData/COVID-19/master/csse_covid_19_data/csse_covid_19_time_series/time_series_covid19_confirmed_global.csv\")\n",
    "US_Deaths = pd.read_csv(\"https://raw.githubusercontent.com/CSSEGISandData/COVID-19/master/csse_covid_19_data/csse_covid_19_time_series/time_series_covid19_deaths_US.csv\")\n",
    "Global_Deaths = pd.read_csv(\"https://raw.githubusercontent.com/CSSEGISandData/COVID-19/master/csse_covid_19_data/csse_covid_19_time_series/time_series_covid19_deaths_global.csv\")\n",
    "Global_Recovered = pd.read_csv(\"https://raw.githubusercontent.com/CSSEGISandData/COVID-19/master/csse_covid_19_data/csse_covid_19_time_series/time_series_covid19_recovered_global.csv\")"
   ]
  },
  {
   "cell_type": "code",
   "execution_count": null,
   "metadata": {},
   "outputs": [],
   "source": [
    "#we just want state break down so aggregate\n",
    "US_Confirmed = US_Confirmed.groupby('Province_State', as_index=False).sum() \n",
    "US_Deaths = US_Deaths.groupby('Province_State', as_index=False).sum() "
   ]
  },
  {
   "cell_type": "code",
   "execution_count": null,
   "metadata": {},
   "outputs": [],
   "source": [
    "Global_Confirmed = Global_Confirmed.groupby('Province/State', as_index=False).sum() \n",
    "Global_Deaths = Global_Deaths.groupby('Province/State', as_index=False).sum() \n",
    "Global_Recovered = Global_Recovered.groupby('Province/State', as_index=False).sum() "
   ]
  },
  {
   "cell_type": "markdown",
   "metadata": {},
   "source": [
    "####  Simplify and combine datasets for plotting"
   ]
  },
  {
   "cell_type": "code",
   "execution_count": null,
   "metadata": {},
   "outputs": [],
   "source": [
    "#drop all columns except region and dates\n",
    "US_Confirmed = US_Confirmed.drop(columns=['UID', 'code3', 'FIPS', 'Lat', 'Long_'])\n",
    "#put dates in long format, not wide\n",
    "US_Confirmed = US_Confirmed.melt(id_vars=\"Province_State\",var_name=\"Date\",value_name=\"Confirmed\")"
   ]
  },
  {
   "cell_type": "code",
   "execution_count": null,
   "metadata": {},
   "outputs": [],
   "source": [
    "#drop all columns except region and dates\n",
    "US_Deaths = US_Deaths.drop(columns=['UID', 'code3', 'FIPS', 'Lat', 'Long_', 'Population'])\n",
    "#put dates in long format, not wide\n",
    "US_Deaths = US_Deaths.melt(id_vars=\"Province_State\",var_name=\"Date\",value_name=\"Deaths\")"
   ]
  },
  {
   "cell_type": "code",
   "execution_count": null,
   "metadata": {},
   "outputs": [],
   "source": [
    "# Join US Confirmed to Deaths\n",
    "US_all = US_Confirmed.merge(US_Deaths, on=['Province_State','Date'])"
   ]
  },
  {
   "cell_type": "code",
   "execution_count": null,
   "metadata": {},
   "outputs": [],
   "source": [
    "#Global Confirmed\n",
    "#drop all columns except region and dates\n",
    "Global_Confirmed = Global_Confirmed.drop(columns=['Lat','Long'])\n",
    "#put dates in long format, not wide\n",
    "Global_Confirmed = Global_Confirmed.melt(id_vars=\"Province/State\",var_name=\"Date\",value_name=\"Confirmed\")"
   ]
  },
  {
   "cell_type": "code",
   "execution_count": null,
   "metadata": {},
   "outputs": [],
   "source": [
    "#Global Confirmed\n",
    "#drop all columns except region and dates\n",
    "Global_Deaths = Global_Deaths.drop(columns=['Lat','Long'])\n",
    "#put dates in long format, not wide\n",
    "Global_Deaths = Global_Deaths.melt(id_vars=\"Province/State\",var_name=\"Date\",value_name=\"Deaths\")"
   ]
  },
  {
   "cell_type": "code",
   "execution_count": null,
   "metadata": {
    "scrolled": true
   },
   "outputs": [],
   "source": [
    "#Global Recovered\n",
    "#drop all columns except region and dates\n",
    "Global_Recovered = Global_Recovered.drop(columns=['Lat','Long'])\n",
    "#put dates in long format, not wide\n",
    "Global_Recovered = Global_Recovered.melt(id_vars=\"Province/State\",var_name=\"Date\",value_name=\"Recovered\")"
   ]
  },
  {
   "cell_type": "code",
   "execution_count": null,
   "metadata": {},
   "outputs": [],
   "source": [
    "# Join Global datasets\n",
    "Global_all = Global_Confirmed.merge(Global_Deaths, on=['Province/State','Date'])\n"
   ]
  },
  {
   "cell_type": "code",
   "execution_count": null,
   "metadata": {},
   "outputs": [],
   "source": [
    "# Join Global datasets\n",
    "Global_all = Global_all.merge(Global_Recovered, on=['Province/State','Date'])"
   ]
  },
  {
   "cell_type": "code",
   "execution_count": null,
   "metadata": {},
   "outputs": [],
   "source": [
    "Global_all.head()"
   ]
  },
  {
   "cell_type": "code",
   "execution_count": null,
   "metadata": {},
   "outputs": [],
   "source": [
    "Global_all = Global_all.rename(columns={\"Province/State\": \"Province_State\"})"
   ]
  },
  {
   "cell_type": "code",
   "execution_count": null,
   "metadata": {},
   "outputs": [],
   "source": [
    "all = US_all.append(Global_all)"
   ]
  },
  {
   "cell_type": "markdown",
   "metadata": {},
   "source": [
    "#### User prompt for region"
   ]
  },
  {
   "cell_type": "code",
   "execution_count": null,
   "metadata": {
    "slideshow": {
     "slide_type": "slide"
    }
   },
   "outputs": [],
   "source": [
    "userOptionsRegion = wd.Dropdown(\n",
    "        options=all.Province_State.unique(),\n",
    "        value='American Samoa',\n",
    "        description='Regions:',\n",
    "        disabled=False\n",
    "        )\n",
    "\n",
    "display(userOptionsRegion)"
   ]
  },
  {
   "cell_type": "code",
   "execution_count": null,
   "metadata": {
    "slideshow": {
     "slide_type": "slide"
    }
   },
   "outputs": [],
   "source": [
    "userRegion =userOptionsRegion.value\n",
    "\n",
    "# filtered_regions_confirmed = all[Confirmed].loc[all['Province_State'] == userRegion] #region filter\n",
    "# filtered_regions_deaths = all.loc[all['Province_State'] == userRegion] #region filter\n",
    "\n",
    "filtered = all.loc[all['Province_State'] == userRegion] #region filter\n",
    "\n",
    "filtered.head()"
   ]
  },
  {
   "cell_type": "code",
   "execution_count": null,
   "metadata": {},
   "outputs": [],
   "source": [
    "# need to change Date to datetime\n",
    "\n",
    "filtered[\"Date\"] = pd.to_datetime(filtered[\"Date\"])"
   ]
  },
  {
   "cell_type": "code",
   "execution_count": null,
   "metadata": {},
   "outputs": [],
   "source": [
    "# also as data is showing counts as cummulative, need to just show the daily totals\n",
    "\n",
    "#first sort by Province/State then Date\n",
    "#filtered=filtered.sort_values([\"Province_State\", \"Date\"], ascending = (True, True))\n",
    "\n",
    "# take the differences from one day to the next to get back to daily totals\n",
    "filtered.Confirmed=filtered.Confirmed.diff()\n",
    "filtered.Deaths=filtered.Deaths.diff()\n",
    "filtered.Recovered=filtered.Recovered.diff()"
   ]
  },
  {
   "cell_type": "markdown",
   "metadata": {
    "slideshow": {
     "slide_type": "slide"
    }
   },
   "source": [
    "### Plotting"
   ]
  },
  {
   "cell_type": "code",
   "execution_count": null,
   "metadata": {
    "slideshow": {
     "slide_type": "slide"
    }
   },
   "outputs": [],
   "source": [
    "# config\n",
    "from datetime import datetime as dt\n",
    "\n",
    "#change to simpler date format, dont need year\n",
    "filtered['Date'] = filtered['Date'].dt.strftime('%d-%b')\n",
    "\n",
    "#set date as new index for plotting\n",
    "filtered=filtered.set_index('Date')\n",
    "\n",
    "x1 = filtered.index\n",
    "x2 = filtered.index\n",
    "y1 = filtered.Confirmed.values #drop .values if doing a line plot (see next cell*)\n",
    "y2 = filtered.Deaths.values #drop .values if doing a line plot (see next cell*)\n",
    "\n",
    "from matplotlib.ticker import (MultipleLocator, FormatStrFormatter,\n",
    "                               AutoMinorLocator)"
   ]
  },
  {
   "cell_type": "code",
   "execution_count": null,
   "metadata": {
    "slideshow": {
     "slide_type": "slide"
    }
   },
   "outputs": [],
   "source": [
    "fig, axes = plt.subplots(nrows=1, ncols=2, figsize=(12, 5))\n",
    "\n",
    "axes[0].bar(x1, y1,color='b') #.plot would give a line plot*\n",
    "axes[1].bar(x2, y2,color='r') #.plot would give a line plot*\n",
    "axes[0].xaxis.set_major_locator(MultipleLocator(28))\n",
    "axes[1].xaxis.set_major_locator(MultipleLocator(28))\n",
    "\n",
    "fig.suptitle(userRegion, x= 0.5, y = 1.05, fontsize=16)\n",
    "plt.figtext(0.2, 0.7, 'Cases:\\n\\n Total ' + str(filtered.Confirmed.sum()) + '\\nLatest ' + str(filtered[\"Confirmed\"][-1]), horizontalalignment='right')\n",
    "plt.figtext(0.7, 0.7, 'Deaths:\\n\\n Total ' + str(filtered.Deaths.sum()) + '\\nLatest ' + str(filtered[\"Deaths\"][-1]), horizontalalignment='right')\n",
    "\n",
    "fig.tight_layout()"
   ]
  },
  {
   "cell_type": "markdown",
   "metadata": {},
   "source": [
    "### Additional"
   ]
  },
  {
   "cell_type": "code",
   "execution_count": null,
   "metadata": {},
   "outputs": [],
   "source": [
    "# test - stacked bar chart\n",
    "\n",
    "# check https://altair-viz.github.io/user_guide/customization.html#adjusting-axis-labels\n",
    "\n",
    "#%pip install altair\n",
    "\n",
    "import altair as alt\n",
    "import pandas as pd\n",
    "\n",
    "metricsOrder=[\"Deaths\",\"Recovered\",\"Active\"]\n",
    "\n",
    "bars=alt.Chart().mark_bar().encode(\n",
    "    x=alt.X('sum(Number)',stack='zero'), # this should be a new \"number\" column for number of Confirmed\tDeaths\tRecovered\tActive\n",
    "    y=alt.Y('Country_Region', sort=top10), # countries'\n",
    "    color=alt.Color('Status',sort=[\"Deaths\",\"Recovered\",\"Active\"],\n",
    "                   scale = alt.Scale(domain=[\"Deaths\",\"Recovered\",\"Active\"], range=['red','green', 'grey']))\n",
    ").properties(\n",
    "    width=400,\n",
    "    height=200)\n",
    "\n",
    "# text=alt.Chart().mark_text(dx=-15, dy=3).encode(\n",
    "#     y=alt.Y('Country_Region', sort=top10),\n",
    "#     x=alt.X('sum(Number)',  stack='zero'),\n",
    "#     color=alt.Color('Status', legend=None, scale=alt.Scale(range=['white']),sort=[\"Deaths\",\"Recovered\",\"Active\"]),\n",
    "#     text=alt.Text('sum(Number)',format='.0f')\n",
    "# )\n",
    "\n",
    "# horsepower = ranked_text.encode(text='Horsepower:N').properties(title='Horsepower')\n",
    "# mpg = ranked_text.encode(text='Miles_per_Gallon:N').properties(title='MPG')\n",
    "# origin = ranked_text.encode(text='Origin:N').properties(title='Origin')\n",
    "# text = alt.hconcat(horsepower, mpg, origin) # Combine data tables\n",
    "text = top10_enigma_stats # Combine data tables\n",
    "\n",
    "#scale = alt.Scale(domain=[\"Deaths\",\"Recovered\",\"Active\"], range=['red','green', 'amber'])\n",
    "\n",
    "alt.layer(bars, text, data=meltedEnigmaSummary).resolve_scale(color='independent')"
   ]
  },
  {
   "cell_type": "code",
   "execution_count": null,
   "metadata": {},
   "outputs": [],
   "source": [
    "meltedEnigmaSummary.head(25)"
   ]
  },
  {
   "cell_type": "code",
   "execution_count": null,
   "metadata": {},
   "outputs": [],
   "source": [
    "# test - stacked bar chart\n",
    "\n",
    "import altair as alt\n",
    "import pandas as pd\n",
    "from vega_datasets import data\n",
    "\n",
    "df=data.barley()\n",
    "\n",
    "bars=alt.Chart().mark_bar().encode(\n",
    "    x=alt.X('sum(yield)',stack='zero'), # this should be a new \"number\" column for number of Confirmed\tDeaths\tRecovered\tActive\n",
    "    y=alt.Y('variety'), ' countries'\n",
    "    color=alt.Color('site') # this should be a new \"status\" column: Confirmed\tDeaths\tRecovered\tActive\n",
    ")\n",
    "\n",
    "text=alt.Chart().mark_text(dx=-15, dy=3).encode(\n",
    "    y=alt.Y('variety'),\n",
    "    x=alt.X('sum(yield)',  stack='zero'),\n",
    "    color=alt.Color('site', legend=None, scale=alt.Scale(range=['white'])),\n",
    "    text=alt.Text('sum(yield)',format='.1f')\n",
    ")\n",
    "\n",
    "alt.layer(bars, text, data=df).resolve_scale(color='independent')"
   ]
  },
  {
   "cell_type": "markdown",
   "metadata": {},
   "source": [
    "### Other"
   ]
  },
  {
   "cell_type": "code",
   "execution_count": null,
   "metadata": {
    "slideshow": {
     "slide_type": "skip"
    }
   },
   "outputs": [],
   "source": [
    "# set MonthYear as index\n",
    "#filtered_df.set_index('dateRep', inplace=True)\n",
    "\n",
    "#plot cases and deaths\n",
    "\n",
    "fig = plt.figure(figsize=(12,8))\n",
    "\n",
    "fig.suptitle('Covd-19 latest cases and deaths distribution: ' , fontsize=12)\n",
    "\n",
    "ax1 = fig.add_subplot(111)\n",
    "ax1.plot(filtered_df[\"cases\"],label=\"Cases\")\n",
    "ax2 = ax1.twinx()\n",
    "ax2.plot(filtered_df[\"deaths\"], color='r',label=\"Deaths\")\n",
    "\n",
    "ax1.set_ylabel('Cases', fontsize=12 )\n",
    "ax2.set_ylabel('Deaths', fontsize=12)\n",
    "\n",
    "fig.legend(loc='best')"
   ]
  },
  {
   "cell_type": "code",
   "execution_count": null,
   "metadata": {
    "slideshow": {
     "slide_type": "skip"
    }
   },
   "outputs": [],
   "source": [
    "#alternative (basic)\n",
    "\n",
    "#filter plot data only\n",
    "plot_df=filtered_df[[ \"cases\",\"deaths\"]]\n",
    "plot_df.head()\n",
    "\n",
    "ax = plot_df.plot(figsize=(14,6), lw=2, style='k-')"
   ]
  },
  {
   "cell_type": "code",
   "execution_count": null,
   "metadata": {
    "scrolled": true,
    "slideshow": {
     "slide_type": "skip"
    }
   },
   "outputs": [],
   "source": [
    "#alternative (side by side)\n",
    "\n",
    "#filter plot data only\n",
    "plot_cases=filtered_df[[\"cases\"]]\n",
    "plot_deaths=filtered_df[[\"deaths\"]]\n",
    "\n",
    "plot_cases.plot(figsize=(6,4), color='b', lw=2)\n",
    "plot_deaths.plot(figsize=(6,4), color='r', lw=2)"
   ]
  }
 ],
 "metadata": {
  "celltoolbar": "Slideshow",
  "kernelspec": {
   "display_name": "Python 3",
   "language": "python",
   "name": "python3"
  },
  "language_info": {
   "codemirror_mode": {
    "name": "ipython",
    "version": 3
   },
   "file_extension": ".py",
   "mimetype": "text/x-python",
   "name": "python",
   "nbconvert_exporter": "python",
   "pygments_lexer": "ipython3",
   "version": "3.7.6"
  },
  "rise": {
   "autolaunch": true,
   "enable_chalkboard": true,
   "theme": "solarized"
  }
 },
 "nbformat": 4,
 "nbformat_minor": 2
}
