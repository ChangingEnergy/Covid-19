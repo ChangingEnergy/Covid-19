{
 "cells": [
  {
   "cell_type": "markdown",
   "metadata": {
    "slideshow": {
     "slide_type": "slide"
    }
   },
   "source": [
    "### Covid-19 Live Data\n",
    "<img src=\"qualitrolcorp.png\" alt=\"covid-19_qualitrolcorp\" width=\"500\"/>"
   ]
  },
  {
   "cell_type": "code",
   "execution_count": 57,
   "metadata": {
    "slideshow": {
     "slide_type": "slide"
    }
   },
   "outputs": [],
   "source": [
    "import pandas as pd\n",
    "import numpy as np\n",
    "import matplotlib.pyplot as plt\n",
    "\n",
    "%matplotlib inline\n",
    "\n",
    "#for dropdown widget \n",
    "from ipywidgets import widgets as wd \n",
    "from IPython.display import display\n",
    "\n",
    "import datetime\n",
    "import os \n",
    "\n",
    "allData = pd.read_excel(\"https://www.ecdc.europa.eu/sites/default/files/documents/COVID-19-geographic-disbtribution-worldwide.xlsx\")\n",
    "\n",
    "allData.head()\n",
    "\n",
    "#and John Hopkins data\n",
    "\n",
    "lastDataDate = datetime.date.strftime(datetime.date.today()- datetime.timedelta(1),\"%m-%d-%Y\")\n",
    "\n",
    "enigma = pd.read_csv(os.path.join(\"https://raw.githubusercontent.com/CSSEGISandData/COVID-19/master/csse_covid_19_data/csse_covid_19_daily_reports/\", lastDataDate + \".csv\"))"
   ]
  },
  {
   "cell_type": "markdown",
   "metadata": {
    "slideshow": {
     "slide_type": "slide"
    }
   },
   "source": [
    "### Enigma / John Hopkins University data exploration"
   ]
  },
  {
   "cell_type": "code",
   "execution_count": 2,
   "metadata": {
    "collapsed": true,
    "slideshow": {
     "slide_type": "slide"
    }
   },
   "outputs": [
    {
     "data": {
      "text/html": [
       "<div>\n",
       "<style scoped>\n",
       "    .dataframe tbody tr th:only-of-type {\n",
       "        vertical-align: middle;\n",
       "    }\n",
       "\n",
       "    .dataframe tbody tr th {\n",
       "        vertical-align: top;\n",
       "    }\n",
       "\n",
       "    .dataframe thead th {\n",
       "        text-align: right;\n",
       "    }\n",
       "</style>\n",
       "<table border=\"1\" class=\"dataframe\">\n",
       "  <thead>\n",
       "    <tr style=\"text-align: right;\">\n",
       "      <th></th>\n",
       "      <th>FIPS</th>\n",
       "      <th>Admin2</th>\n",
       "      <th>Province_State</th>\n",
       "      <th>Country_Region</th>\n",
       "      <th>Last_Update</th>\n",
       "      <th>Lat</th>\n",
       "      <th>Long_</th>\n",
       "      <th>Confirmed</th>\n",
       "      <th>Deaths</th>\n",
       "      <th>Recovered</th>\n",
       "      <th>Active</th>\n",
       "      <th>Combined_Key</th>\n",
       "      <th>Incidence_Rate</th>\n",
       "      <th>Case-Fatality_Ratio</th>\n",
       "    </tr>\n",
       "  </thead>\n",
       "  <tbody>\n",
       "    <tr>\n",
       "      <th>0</th>\n",
       "      <td>45001.0</td>\n",
       "      <td>Abbeville</td>\n",
       "      <td>South Carolina</td>\n",
       "      <td>US</td>\n",
       "      <td>2020-06-14 03:33:15</td>\n",
       "      <td>34.223334</td>\n",
       "      <td>-82.461707</td>\n",
       "      <td>63</td>\n",
       "      <td>0</td>\n",
       "      <td>0</td>\n",
       "      <td>63</td>\n",
       "      <td>Abbeville, South Carolina, US</td>\n",
       "      <td>256.859787</td>\n",
       "      <td>0.000000</td>\n",
       "    </tr>\n",
       "    <tr>\n",
       "      <th>1</th>\n",
       "      <td>22001.0</td>\n",
       "      <td>Acadia</td>\n",
       "      <td>Louisiana</td>\n",
       "      <td>US</td>\n",
       "      <td>2020-06-14 03:33:15</td>\n",
       "      <td>30.295065</td>\n",
       "      <td>-92.414197</td>\n",
       "      <td>577</td>\n",
       "      <td>31</td>\n",
       "      <td>0</td>\n",
       "      <td>546</td>\n",
       "      <td>Acadia, Louisiana, US</td>\n",
       "      <td>929.970183</td>\n",
       "      <td>5.372617</td>\n",
       "    </tr>\n",
       "    <tr>\n",
       "      <th>2</th>\n",
       "      <td>51001.0</td>\n",
       "      <td>Accomack</td>\n",
       "      <td>Virginia</td>\n",
       "      <td>US</td>\n",
       "      <td>2020-06-14 03:33:15</td>\n",
       "      <td>37.767072</td>\n",
       "      <td>-75.632346</td>\n",
       "      <td>989</td>\n",
       "      <td>14</td>\n",
       "      <td>0</td>\n",
       "      <td>975</td>\n",
       "      <td>Accomack, Virginia, US</td>\n",
       "      <td>3060.403515</td>\n",
       "      <td>1.415571</td>\n",
       "    </tr>\n",
       "    <tr>\n",
       "      <th>3</th>\n",
       "      <td>16001.0</td>\n",
       "      <td>Ada</td>\n",
       "      <td>Idaho</td>\n",
       "      <td>US</td>\n",
       "      <td>2020-06-14 03:33:15</td>\n",
       "      <td>43.452658</td>\n",
       "      <td>-116.241552</td>\n",
       "      <td>877</td>\n",
       "      <td>22</td>\n",
       "      <td>0</td>\n",
       "      <td>855</td>\n",
       "      <td>Ada, Idaho, US</td>\n",
       "      <td>182.106245</td>\n",
       "      <td>2.508552</td>\n",
       "    </tr>\n",
       "    <tr>\n",
       "      <th>4</th>\n",
       "      <td>19001.0</td>\n",
       "      <td>Adair</td>\n",
       "      <td>Iowa</td>\n",
       "      <td>US</td>\n",
       "      <td>2020-06-14 03:33:15</td>\n",
       "      <td>41.330756</td>\n",
       "      <td>-94.471059</td>\n",
       "      <td>11</td>\n",
       "      <td>0</td>\n",
       "      <td>0</td>\n",
       "      <td>11</td>\n",
       "      <td>Adair, Iowa, US</td>\n",
       "      <td>153.803132</td>\n",
       "      <td>0.000000</td>\n",
       "    </tr>\n",
       "  </tbody>\n",
       "</table>\n",
       "</div>"
      ],
      "text/plain": [
       "      FIPS     Admin2  Province_State Country_Region          Last_Update  \\\n",
       "0  45001.0  Abbeville  South Carolina             US  2020-06-14 03:33:15   \n",
       "1  22001.0     Acadia       Louisiana             US  2020-06-14 03:33:15   \n",
       "2  51001.0   Accomack        Virginia             US  2020-06-14 03:33:15   \n",
       "3  16001.0        Ada           Idaho             US  2020-06-14 03:33:15   \n",
       "4  19001.0      Adair            Iowa             US  2020-06-14 03:33:15   \n",
       "\n",
       "         Lat       Long_  Confirmed  Deaths  Recovered  Active  \\\n",
       "0  34.223334  -82.461707         63       0          0      63   \n",
       "1  30.295065  -92.414197        577      31          0     546   \n",
       "2  37.767072  -75.632346        989      14          0     975   \n",
       "3  43.452658 -116.241552        877      22          0     855   \n",
       "4  41.330756  -94.471059         11       0          0      11   \n",
       "\n",
       "                    Combined_Key  Incidence_Rate  Case-Fatality_Ratio  \n",
       "0  Abbeville, South Carolina, US      256.859787             0.000000  \n",
       "1          Acadia, Louisiana, US      929.970183             5.372617  \n",
       "2         Accomack, Virginia, US     3060.403515             1.415571  \n",
       "3                 Ada, Idaho, US      182.106245             2.508552  \n",
       "4                Adair, Iowa, US      153.803132             0.000000  "
      ]
     },
     "execution_count": 2,
     "metadata": {},
     "output_type": "execute_result"
    }
   ],
   "source": [
    "enigma.head()"
   ]
  },
  {
   "cell_type": "code",
   "execution_count": 36,
   "metadata": {
    "collapsed": true,
    "slideshow": {
     "slide_type": "-"
    }
   },
   "outputs": [
    {
     "data": {
      "text/html": [
       "<div>\n",
       "<style scoped>\n",
       "    .dataframe tbody tr th:only-of-type {\n",
       "        vertical-align: middle;\n",
       "    }\n",
       "\n",
       "    .dataframe tbody tr th {\n",
       "        vertical-align: top;\n",
       "    }\n",
       "\n",
       "    .dataframe thead th {\n",
       "        text-align: right;\n",
       "    }\n",
       "</style>\n",
       "<table border=\"1\" class=\"dataframe\">\n",
       "  <thead>\n",
       "    <tr style=\"text-align: right;\">\n",
       "      <th></th>\n",
       "      <th>FIPS</th>\n",
       "      <th>Admin2</th>\n",
       "      <th>Province_State</th>\n",
       "      <th>Country_Region</th>\n",
       "      <th>Last_Update</th>\n",
       "      <th>Lat</th>\n",
       "      <th>Long_</th>\n",
       "      <th>Confirmed</th>\n",
       "      <th>Deaths</th>\n",
       "      <th>Recovered</th>\n",
       "      <th>Active</th>\n",
       "      <th>Combined_Key</th>\n",
       "      <th>Incidence_Rate</th>\n",
       "      <th>Case-Fatality_Ratio</th>\n",
       "    </tr>\n",
       "  </thead>\n",
       "  <tbody>\n",
       "    <tr>\n",
       "      <th>3736</th>\n",
       "      <td>NaN</td>\n",
       "      <td>NaN</td>\n",
       "      <td>NaN</td>\n",
       "      <td>West Bank and Gaza</td>\n",
       "      <td>2020-06-14 03:33:15</td>\n",
       "      <td>31.952200</td>\n",
       "      <td>35.233200</td>\n",
       "      <td>489</td>\n",
       "      <td>3</td>\n",
       "      <td>415</td>\n",
       "      <td>71</td>\n",
       "      <td>West Bank and Gaza</td>\n",
       "      <td>9.585574</td>\n",
       "      <td>0.613497</td>\n",
       "    </tr>\n",
       "    <tr>\n",
       "      <th>3737</th>\n",
       "      <td>NaN</td>\n",
       "      <td>NaN</td>\n",
       "      <td>NaN</td>\n",
       "      <td>Western Sahara</td>\n",
       "      <td>2020-06-14 03:33:15</td>\n",
       "      <td>24.215500</td>\n",
       "      <td>-12.885800</td>\n",
       "      <td>9</td>\n",
       "      <td>1</td>\n",
       "      <td>8</td>\n",
       "      <td>0</td>\n",
       "      <td>Western Sahara</td>\n",
       "      <td>1.506705</td>\n",
       "      <td>11.111111</td>\n",
       "    </tr>\n",
       "    <tr>\n",
       "      <th>3738</th>\n",
       "      <td>NaN</td>\n",
       "      <td>NaN</td>\n",
       "      <td>NaN</td>\n",
       "      <td>Yemen</td>\n",
       "      <td>2020-06-14 03:33:15</td>\n",
       "      <td>15.552727</td>\n",
       "      <td>48.516388</td>\n",
       "      <td>705</td>\n",
       "      <td>160</td>\n",
       "      <td>39</td>\n",
       "      <td>506</td>\n",
       "      <td>Yemen</td>\n",
       "      <td>2.363712</td>\n",
       "      <td>22.695035</td>\n",
       "    </tr>\n",
       "    <tr>\n",
       "      <th>3739</th>\n",
       "      <td>NaN</td>\n",
       "      <td>NaN</td>\n",
       "      <td>NaN</td>\n",
       "      <td>Zambia</td>\n",
       "      <td>2020-06-14 03:33:15</td>\n",
       "      <td>-13.133897</td>\n",
       "      <td>27.849332</td>\n",
       "      <td>1357</td>\n",
       "      <td>10</td>\n",
       "      <td>1104</td>\n",
       "      <td>243</td>\n",
       "      <td>Zambia</td>\n",
       "      <td>7.381436</td>\n",
       "      <td>0.736920</td>\n",
       "    </tr>\n",
       "    <tr>\n",
       "      <th>3740</th>\n",
       "      <td>NaN</td>\n",
       "      <td>NaN</td>\n",
       "      <td>NaN</td>\n",
       "      <td>Zimbabwe</td>\n",
       "      <td>2020-06-14 03:33:15</td>\n",
       "      <td>-19.015438</td>\n",
       "      <td>29.154857</td>\n",
       "      <td>356</td>\n",
       "      <td>4</td>\n",
       "      <td>54</td>\n",
       "      <td>298</td>\n",
       "      <td>Zimbabwe</td>\n",
       "      <td>2.395221</td>\n",
       "      <td>1.123596</td>\n",
       "    </tr>\n",
       "  </tbody>\n",
       "</table>\n",
       "</div>"
      ],
      "text/plain": [
       "      FIPS Admin2 Province_State      Country_Region          Last_Update  \\\n",
       "3736   NaN    NaN            NaN  West Bank and Gaza  2020-06-14 03:33:15   \n",
       "3737   NaN    NaN            NaN      Western Sahara  2020-06-14 03:33:15   \n",
       "3738   NaN    NaN            NaN               Yemen  2020-06-14 03:33:15   \n",
       "3739   NaN    NaN            NaN              Zambia  2020-06-14 03:33:15   \n",
       "3740   NaN    NaN            NaN            Zimbabwe  2020-06-14 03:33:15   \n",
       "\n",
       "            Lat      Long_  Confirmed  Deaths  Recovered  Active  \\\n",
       "3736  31.952200  35.233200        489       3        415      71   \n",
       "3737  24.215500 -12.885800          9       1          8       0   \n",
       "3738  15.552727  48.516388        705     160         39     506   \n",
       "3739 -13.133897  27.849332       1357      10       1104     243   \n",
       "3740 -19.015438  29.154857        356       4         54     298   \n",
       "\n",
       "            Combined_Key  Incidence_Rate  Case-Fatality_Ratio  \n",
       "3736  West Bank and Gaza        9.585574             0.613497  \n",
       "3737      Western Sahara        1.506705            11.111111  \n",
       "3738               Yemen        2.363712            22.695035  \n",
       "3739              Zambia        7.381436             0.736920  \n",
       "3740            Zimbabwe        2.395221             1.123596  "
      ]
     },
     "execution_count": 36,
     "metadata": {},
     "output_type": "execute_result"
    }
   ],
   "source": [
    "enigma.tail()"
   ]
  },
  {
   "cell_type": "code",
   "execution_count": null,
   "metadata": {
    "slideshow": {
     "slide_type": "-"
    }
   },
   "outputs": [],
   "source": [
    "enigma.shape"
   ]
  },
  {
   "cell_type": "code",
   "execution_count": null,
   "metadata": {
    "slideshow": {
     "slide_type": "-"
    }
   },
   "outputs": [],
   "source": [
    "enigma.nunique()"
   ]
  },
  {
   "cell_type": "code",
   "execution_count": 3,
   "metadata": {
    "collapsed": true,
    "slideshow": {
     "slide_type": "-"
    }
   },
   "outputs": [
    {
     "data": {
      "text/plain": [
       "array(['US', 'Italy', 'Brazil', 'Russia', 'Mexico', 'Japan', 'Canada',\n",
       "       'Colombia', 'Peru', 'Spain', 'India', 'United Kingdom', 'China',\n",
       "       'Chile', 'Netherlands', 'Australia', 'Pakistan', 'Germany',\n",
       "       'Sweden', 'Ukraine', 'Denmark', 'France', 'Afghanistan', 'Albania',\n",
       "       'Algeria', 'Andorra', 'Angola', 'Antigua and Barbuda', 'Argentina',\n",
       "       'Armenia', 'Austria', 'Azerbaijan', 'Bahamas', 'Bahrain',\n",
       "       'Bangladesh', 'Barbados', 'Belarus', 'Belgium', 'Belize', 'Benin',\n",
       "       'Bhutan', 'Bolivia', 'Bosnia and Herzegovina', 'Botswana',\n",
       "       'Brunei', 'Bulgaria', 'Burkina Faso', 'Burma', 'Burundi',\n",
       "       'Cabo Verde', 'Cambodia', 'Cameroon', 'Central African Republic',\n",
       "       'Chad', 'Comoros', 'Congo (Brazzaville)', 'Congo (Kinshasa)',\n",
       "       'Costa Rica', \"Cote d'Ivoire\", 'Croatia', 'Cuba', 'Cyprus',\n",
       "       'Czechia', 'Diamond Princess', 'Djibouti', 'Dominica',\n",
       "       'Dominican Republic', 'Ecuador', 'Egypt', 'El Salvador',\n",
       "       'Equatorial Guinea', 'Eritrea', 'Estonia', 'Eswatini', 'Ethiopia',\n",
       "       'Fiji', 'Finland', 'Gabon', 'Gambia', 'Georgia', 'Ghana', 'Greece',\n",
       "       'Grenada', 'Guatemala', 'Guinea', 'Guinea-Bissau', 'Guyana',\n",
       "       'Haiti', 'Holy See', 'Honduras', 'Hungary', 'Iceland', 'Indonesia',\n",
       "       'Iran', 'Iraq', 'Ireland', 'Israel', 'Jamaica', 'Jordan',\n",
       "       'Kazakhstan', 'Kenya', 'Korea, South', 'Kosovo', 'Kuwait',\n",
       "       'Kyrgyzstan', 'Laos', 'Latvia', 'Lebanon', 'Lesotho', 'Liberia',\n",
       "       'Libya', 'Liechtenstein', 'Lithuania', 'Luxembourg', 'MS Zaandam',\n",
       "       'Madagascar', 'Malawi', 'Malaysia', 'Maldives', 'Mali', 'Malta',\n",
       "       'Mauritania', 'Mauritius', 'Moldova', 'Monaco', 'Mongolia',\n",
       "       'Montenegro', 'Morocco', 'Mozambique', 'Namibia', 'Nepal',\n",
       "       'New Zealand', 'Nicaragua', 'Niger', 'Nigeria', 'North Macedonia',\n",
       "       'Norway', 'Oman', 'Panama', 'Papua New Guinea', 'Paraguay',\n",
       "       'Philippines', 'Poland', 'Portugal', 'Qatar', 'Romania', 'Rwanda',\n",
       "       'Saint Kitts and Nevis', 'Saint Lucia',\n",
       "       'Saint Vincent and the Grenadines', 'San Marino',\n",
       "       'Sao Tome and Principe', 'Saudi Arabia', 'Senegal', 'Serbia',\n",
       "       'Seychelles', 'Sierra Leone', 'Singapore', 'Slovakia', 'Slovenia',\n",
       "       'Somalia', 'South Africa', 'South Sudan', 'Sri Lanka', 'Sudan',\n",
       "       'Suriname', 'Switzerland', 'Syria', 'Taiwan*', 'Tajikistan',\n",
       "       'Tanzania', 'Thailand', 'Timor-Leste', 'Togo',\n",
       "       'Trinidad and Tobago', 'Tunisia', 'Turkey', 'Uganda',\n",
       "       'United Arab Emirates', 'Uruguay', 'Uzbekistan', 'Venezuela',\n",
       "       'Vietnam', 'West Bank and Gaza', 'Western Sahara', 'Yemen',\n",
       "       'Zambia', 'Zimbabwe'], dtype=object)"
      ]
     },
     "execution_count": 3,
     "metadata": {},
     "output_type": "execute_result"
    }
   ],
   "source": [
    "enigma.Country_Region.unique()"
   ]
  },
  {
   "cell_type": "code",
   "execution_count": 4,
   "metadata": {
    "collapsed": true
   },
   "outputs": [
    {
     "data": {
      "text/plain": [
       "array(['South Carolina', 'Louisiana', 'Virginia', 'Idaho', 'Iowa',\n",
       "       'Kentucky', 'Missouri', 'Oklahoma', 'Colorado', 'Illinois',\n",
       "       'Indiana', 'Mississippi', 'Nebraska', 'Ohio', 'Pennsylvania',\n",
       "       'Washington', 'Wisconsin', 'Vermont', 'Minnesota', 'Florida',\n",
       "       'North Carolina', 'California', 'New York', 'Wyoming', 'Michigan',\n",
       "       'Maryland', 'Kansas', 'Alaska', 'Tennessee', 'Texas', 'Maine',\n",
       "       'Arizona', 'Georgia', 'Arkansas', 'New Jersey', 'South Dakota',\n",
       "       'Alabama', 'Oregon', 'West Virginia', 'North Dakota',\n",
       "       'Massachusetts', 'Utah', 'Montana', 'New Hampshire', 'New Mexico',\n",
       "       'Rhode Island', 'Nevada', 'District of Columbia', 'Connecticut',\n",
       "       'Hawaii', 'Delaware', 'Abruzzo', 'Acre', 'Adygea Republic',\n",
       "       'Aguascalientes', 'Aichi', 'Akita', 'Alagoas', 'Alberta',\n",
       "       'Altai Krai', 'Altai Republic', 'Amapa', 'Amazonas', 'Amur Oblast',\n",
       "       'Ancash', 'Andalusia', 'Andaman and Nicobar Islands',\n",
       "       'Andhra Pradesh', 'Anguilla', 'Anhui', 'Antioquia', 'Antofagasta',\n",
       "       'Aomori', 'Apurimac', 'Aragon', 'Arauca', 'Araucania', 'Arequipa',\n",
       "       'Arica y Parinacota', 'Arkhangelsk Oblast', 'Aruba',\n",
       "       'Arunachal Pradesh', 'Assam', 'Astrakhan Oblast', 'Asturias',\n",
       "       'Atacama', 'Atlantico', 'Australian Capital Territory', 'Ayacucho',\n",
       "       'Aysen', 'Azad Jammu and Kashmir', 'Baden-Wurttemberg', 'Bahia',\n",
       "       'Baja California', 'Baja California Sur', 'Baleares',\n",
       "       'Balochistan', 'Bashkortostan Republic', 'Basilicata', 'Bayern',\n",
       "       'Beijing', 'Belgorod Oblast', 'Berlin', 'Bermuda', 'Bihar',\n",
       "       'Biobio', 'Blekinge', 'Bolivar',\n",
       "       'Bonaire, Sint Eustatius and Saba', 'Boyaca', 'Brandenburg',\n",
       "       'Bremen', 'British Columbia', 'British Virgin Islands',\n",
       "       'Bryansk Oblast', 'Buryatia Republic', 'C. Valenciana',\n",
       "       'Cajamarca', 'Calabria', 'Caldas', 'Callao', 'Campania',\n",
       "       'Campeche', 'Canarias', 'Cantabria', 'Capital District', 'Caqueta',\n",
       "       'Casanare', 'Castilla - La Mancha', 'Castilla y Leon', 'Catalonia',\n",
       "       'Cauca', 'Cayman Islands', 'Ceara', 'Cesar', 'Ceuta', 'Chandigarh',\n",
       "       'Channel Islands', 'Chechen Republic', 'Chelyabinsk Oblast',\n",
       "       'Cherkasy Oblast', 'Chernihiv Oblast', 'Chernivtsi Oblast',\n",
       "       'Chhattisgarh', 'Chiapas', 'Chiba', 'Chihuahua', 'Choco',\n",
       "       'Chongqing', 'Chukotka Autonomous Okrug', 'Chuvashia Republic',\n",
       "       'Ciudad de Mexico', 'Coahuila', 'Colima', 'Coquimbo', 'Cordoba',\n",
       "       'Crimea Republic*', 'Cundinamarca', 'Curacao', 'Cusco',\n",
       "       'Dadra and Nagar Haveli and Daman and Diu', 'Dagestan Republic',\n",
       "       'Dalarna', 'Delhi', 'Diamond Princess', 'Distrito Federal',\n",
       "       'Dnipropetrovsk Oblast', 'Donetsk Oblast', 'Durango', 'Ehime',\n",
       "       'Emilia-Romagna', 'England', 'Espirito Santo', 'Extremadura',\n",
       "       'Falkland Islands (Malvinas)', 'Faroe Islands', 'French Guiana',\n",
       "       'French Polynesia', 'Friuli Venezia Giulia', 'Fujian', 'Fukui',\n",
       "       'Fukuoka', 'Fukushima', 'Galicia', 'Gansu', 'Gavleborg',\n",
       "       'Gibraltar', 'Gifu', 'Gilgit-Baltistan', 'Goa', 'Goias', 'Gotland',\n",
       "       'Grand Princess', 'Greenland', 'Guadeloupe', 'Guainia', 'Guam',\n",
       "       'Guanajuato', 'Guangdong', 'Guangxi', 'Guaviare', 'Guerrero',\n",
       "       'Guizhou', 'Gujarat', 'Gunma', 'Hainan', 'Halland', 'Hamburg',\n",
       "       'Haryana', 'Hebei', 'Heilongjiang', 'Henan', 'Hessen', 'Hidalgo',\n",
       "       'Himachal Pradesh', 'Hiroshima', 'Hokkaido', 'Hong Kong',\n",
       "       'Huancavelica', 'Huanuco', 'Hubei', 'Huila', 'Hunan', 'Hyogo',\n",
       "       'Ibaraki', 'Ica', 'Ingushetia Republic', 'Inner Mongolia',\n",
       "       'Irkutsk Oblast', 'Ishikawa', 'Islamabad', 'Isle of Man',\n",
       "       'Ivano-Frankivsk Oblast', 'Ivanovo Oblast', 'Jalisco',\n",
       "       'Jammu and Kashmir', 'Jamtland Harjedalen',\n",
       "       'Jewish Autonomous Okrug', 'Jharkhand', 'Jiangsu', 'Jiangxi',\n",
       "       'Jilin', 'Jonkoping', 'Junin', 'Kabardino-Balkarian Republic',\n",
       "       'Kagawa', 'Kagoshima', 'Kaliningrad Oblast', 'Kalmar',\n",
       "       'Kalmykia Republic', 'Kaluga Oblast', 'Kamchatka Krai', 'Kanagawa',\n",
       "       'Karachay-Cherkess Republic', 'Karelia Republic', 'Karnataka',\n",
       "       'Kemerovo Oblast', 'Kerala', 'Khabarovsk Krai',\n",
       "       'Khakassia Republic', 'Khanty-Mansi Autonomous Okrug',\n",
       "       'Kharkiv Oblast', 'Kherson Oblast', 'Khmelnytskyi Oblast',\n",
       "       'Khyber Pakhtunkhwa', 'Kiev', 'Kiev Oblast', 'Kirov Oblast',\n",
       "       'Kirovohrad Oblast', 'Kochi', 'Komi Republic', 'Kostroma Oblast',\n",
       "       'Krasnodar Krai', 'Krasnoyarsk Krai', 'Kronoberg', 'Kumamoto',\n",
       "       'Kurgan Oblast', 'Kursk Oblast', 'Kyoto', 'La Guajira',\n",
       "       'La Libertad', 'La Rioja', 'Ladakh', 'Lambayeque', 'Lazio',\n",
       "       'Leningrad Oblast', 'Liaoning', 'Liguria', 'Lima',\n",
       "       'Lipetsk Oblast', 'Lombardia', 'Loreto', 'Los Lagos', 'Los Rios',\n",
       "       'Luhansk Oblast', 'Lviv Oblast', 'Macau', 'Madhya Pradesh',\n",
       "       'Madre de Dios', 'Madrid', 'Magadan Oblast', 'Magallanes',\n",
       "       'Magdalena', 'Maharashtra', 'Manipur', 'Manitoba', 'Maranhao',\n",
       "       'Marche', 'Mari El Republic', 'Martinique', 'Mato Grosso',\n",
       "       'Mato Grosso do Sul', 'Maule', 'Mayotte', 'Mecklenburg-Vorpommern',\n",
       "       'Meghalaya', 'Melilla', 'Meta', 'Metropolitana', 'Mexico',\n",
       "       'Michoacan', 'Mie', 'Minas Gerais', 'Miyagi', 'Miyazaki',\n",
       "       'Mizoram', 'Molise', 'Montserrat', 'Moquegua', 'Mordovia Republic',\n",
       "       'Morelos', 'Moscow', 'Moscow Oblast', 'Murcia', 'Murmansk Oblast',\n",
       "       'Mykolaiv Oblast', 'Nagaland', 'Nagano', 'Nagasaki', 'Nara',\n",
       "       'Narino', 'Navarra', 'Nayarit', 'Nenets Autonomous Okrug',\n",
       "       'New Brunswick', 'New Caledonia', 'New South Wales',\n",
       "       'Newfoundland and Labrador', 'Niedersachsen', 'Niigata', 'Ningxia',\n",
       "       'Nizhny Novgorod Oblast', 'Nordrhein-Westfalen', 'Norrbotten',\n",
       "       'Norte de Santander', 'North Ossetia - Alania Republic',\n",
       "       'Northern Ireland', 'Northern Mariana Islands',\n",
       "       'Northern Territory', 'Northwest Territories', 'Nova Scotia',\n",
       "       'Novgorod Oblast', 'Novosibirsk Oblast', 'Nuble', 'Nuevo Leon',\n",
       "       'OHiggins', 'Oaxaca', 'Odessa Oblast', 'Odisha', 'Oita', 'Okayama',\n",
       "       'Okinawa', 'Omsk Oblast', 'Ontario', 'Orebro', 'Orel Oblast',\n",
       "       'Orenburg Oblast', 'Osaka', 'Ostergotland', 'P.A. Bolzano',\n",
       "       'P.A. Trento', 'Pais Vasco', 'Para', 'Paraiba', 'Parana', 'Pasco',\n",
       "       'Penza Oblast', 'Perm Krai', 'Pernambuco', 'Piaui', 'Piemonte',\n",
       "       'Piura', 'Poltava Oblast', 'Port Quarantine', 'Primorsky Krai',\n",
       "       'Prince Edward Island', 'Pskov Oblast', 'Puducherry', 'Puebla',\n",
       "       'Puerto Rico', 'Puglia', 'Punjab', 'Puno', 'Putumayo', 'Qinghai',\n",
       "       'Quebec', 'Queensland', 'Queretaro', 'Quindio', 'Quintana Roo',\n",
       "       'Rajasthan', 'Recovered', 'Reunion', 'Rheinland-Pfalz',\n",
       "       'Rio Grande do Norte', 'Rio Grande do Sul', 'Rio de Janeiro',\n",
       "       'Risaralda', 'Rivne Oblast', 'Rondonia', 'Roraima',\n",
       "       'Rostov Oblast', 'Ryazan Oblast', 'Saarland', 'Sachsen',\n",
       "       'Sachsen-Anhalt', 'Saga', 'Saint Barthelemy', 'Saint Petersburg',\n",
       "       'Saint Pierre and Miquelon', 'Saitama',\n",
       "       'Sakha (Yakutiya) Republic', 'Sakhalin Oblast', 'Samara Oblast',\n",
       "       'San Andres y Providencia', 'San Luis Potosi', 'San Martin',\n",
       "       'Santa Catarina', 'Santander', 'Sao Paulo', 'Saratov Oblast',\n",
       "       'Sardegna', 'Saskatchewan', 'Schleswig-Holstein', 'Scotland',\n",
       "       'Sergipe', 'Sevastopol*', 'Shaanxi', 'Shandong', 'Shanghai',\n",
       "       'Shanxi', 'Shiga', 'Shimane', 'Shizuoka', 'Sichuan', 'Sicilia',\n",
       "       'Sikkim', 'Sinaloa', 'Sindh', 'Sint Maarten', 'Skane',\n",
       "       'Smolensk Oblast', 'Sonora', 'Sormland', 'South Australia',\n",
       "       'St Martin', 'Stavropol Krai', 'Stockholm', 'Sucre', 'Sumy Oblast',\n",
       "       'Sverdlovsk Oblast', 'Tabasco', 'Tacna', 'Tamaulipas',\n",
       "       'Tambov Oblast', 'Tamil Nadu', 'Tarapaca', 'Tasmania',\n",
       "       'Tatarstan Republic', 'Telangana', 'Ternopil Oblast', 'Thuringen',\n",
       "       'Tianjin', 'Tibet', 'Tlaxcala', 'Tocantins', 'Tochigi',\n",
       "       'Tokushima', 'Tokyo', 'Tolima', 'Tomsk Oblast', 'Toscana',\n",
       "       'Tottori', 'Toyama', 'Tripura', 'Tula Oblast', 'Tumbes',\n",
       "       'Turks and Caicos Islands', 'Tver Oblast', 'Tyumen Oblast',\n",
       "       'Tyva Republic', 'Ucayali', 'Udmurt Republic', 'Ulyanovsk Oblast',\n",
       "       'Umbria', 'Unknown', 'Uppsala', 'Uttar Pradesh', 'Uttarakhand',\n",
       "       \"Valle d'Aosta\", 'Valle del Cauca', 'Valparaiso', 'Varmland',\n",
       "       'Vasterbotten', 'Vasternorrland', 'Vastmanland', 'Vastra Gotaland',\n",
       "       'Vaupes', 'Veneto', 'Veracruz', 'Vichada', 'Victoria',\n",
       "       'Vinnytsia Oblast', 'Virgin Islands', 'Vladimir Oblast',\n",
       "       'Volgograd Oblast', 'Vologda Oblast', 'Volyn Oblast',\n",
       "       'Voronezh Oblast', 'Wakayama', 'Wales', 'West Bengal',\n",
       "       'Western Australia', 'Xinjiang', 'Yamagata', 'Yamaguchi',\n",
       "       'Yamalo-Nenets Autonomous Okrug', 'Yamanashi', 'Yaroslavl Oblast',\n",
       "       'Yucatan', 'Yukon', 'Yunnan', 'Zabaykalsky Krai', 'Zacatecas',\n",
       "       'Zakarpattia Oblast', 'Zaporizhia Oblast', 'Zhejiang',\n",
       "       'Zhytomyr Oblast', nan], dtype=object)"
      ]
     },
     "execution_count": 4,
     "metadata": {},
     "output_type": "execute_result"
    }
   ],
   "source": [
    "enigma.Province_State.unique()"
   ]
  },
  {
   "cell_type": "markdown",
   "metadata": {
    "slideshow": {
     "slide_type": "slide"
    }
   },
   "source": [
    "### Enigma / John Hopkins plot"
   ]
  },
  {
   "cell_type": "code",
   "execution_count": null,
   "metadata": {
    "slideshow": {
     "slide_type": "slide"
    }
   },
   "outputs": [],
   "source": [
    "#de-one hot encode by adding a single status column for deaths, recovered and active\n",
    "enigmaReportCols = [\"Deaths\",\"Recovered\",\"Active\"]\n",
    "\n",
    "meltedEnigma = enigma.melt(id_vars=enigma.drop(enigmaReportCols, axis=1), value_vars=enigmaReportCols, var_name=['Status'], value_name='Number') # Melting"
   ]
  },
  {
   "cell_type": "code",
   "execution_count": null,
   "metadata": {},
   "outputs": [],
   "source": [
    "meltedEnigma.head()"
   ]
  },
  {
   "cell_type": "code",
   "execution_count": null,
   "metadata": {},
   "outputs": [],
   "source": [
    "meltedEnigma.shape"
   ]
  },
  {
   "cell_type": "code",
   "execution_count": null,
   "metadata": {
    "slideshow": {
     "slide_type": "slide"
    }
   },
   "outputs": [],
   "source": [
    "#display as a grouped DF by country, sorted in descending order of confirmed cases \n",
    "meltedEnigmaSummary = meltedEnigma.groupby(['Country_Region','Status']).sum()\n",
    "meltedEnigmaSummary.head()\n",
    "meltedEnigmaSummary.shape\n",
    "meltedEnigmaSummary=pd.DataFrame(meltedEnigmaSummary.to_records())\n",
    "meltedEnigmaSummary = meltedEnigmaSummary.sort_values(['Confirmed'],ascending = False)\n",
    "meltedEnigmaSummary=meltedEnigmaSummary.head(30)\n",
    "\n",
    "#get top10 countries by confirmed cases\n",
    "top10=meltedEnigmaSummary.head(30).Country_Region.unique()\n",
    "top10\n",
    "top10_enigma = enigma[enigma[\"Country_Region\"].isin(top10)]\n",
    "top10_enigma_stats=top10_enigma[[\"Country_Region\",\"Deaths\",\"Recovered\",\"Active\",\"Confirmed\"]]\n",
    "top10_enigma_stats=top10_enigma_stats.groupby(\"Country_Region\").sum()\n",
    "top10_enigma_stats=top10_enigma_stats.sort_values(['Confirmed'],ascending = False)"
   ]
  },
  {
   "cell_type": "code",
   "execution_count": null,
   "metadata": {
    "scrolled": true,
    "slideshow": {
     "slide_type": "slide"
    }
   },
   "outputs": [],
   "source": [
    "#see also this link for adding datatable below\n",
    "#https://matplotlib.org/3.1.1/gallery/misc/table_demo.html#sphx-glr-gallery-misc-table-demo-py\n",
    "\n",
    "import numpy as np\n",
    "import matplotlib.pyplot as plt\n",
    "from matplotlib.ticker import FormatStrFormatter\n",
    "\n",
    "A = top10_enigma_stats.Deaths\n",
    "B = top10_enigma_stats.Recovered\n",
    "C = top10_enigma_stats.Active\n",
    "\n",
    "fig = plt.figure(facecolor=\"white\",figsize=(15,8))\n",
    "plt.title(\"Confirmed Cases by Country\", fontsize=18)\n",
    "\n",
    "ax = fig.add_subplot(1, 1, 1)\n",
    "bar_width = 0.5\n",
    "bar_l = np.arange(1, 11)\n",
    "tick_pos = [i-0.5 + bar_width for i in bar_l]\n",
    "\n",
    "ax1 = ax.bar(bar_l, A, width=bar_width, label=\"deaths\", color=\"red\") #deaths\n",
    "ax2 = ax.bar(bar_l, B, bottom=A, width=bar_width, label=\"recovered\", color=\"green\") #recovered\n",
    "ax3 = ax.bar(bar_l, C, bottom=A+B, width=bar_width, label=\"active\", color=\"orange\") #active\n",
    "\n",
    "ax.set_ylabel(\"Count (k)\", fontsize=14)\n",
    "ax.get_yaxis().set_major_formatter(plt.FuncFormatter(lambda x, loc: \"{:,}\".format(int(x))))\n",
    "\n",
    "#ax.set_xlabel(\"Country\", fontsize=18)\n",
    "ax.legend(loc=\"best\")\n",
    "plt.xticks(tick_pos, top10, fontsize=10)\n",
    "plt.yticks(fontsize=14)\n",
    "\n",
    "for r1, r2, r3 in zip(ax1, ax2, ax3):\n",
    "    h1 = r1.get_height()\n",
    "    h2 = r2.get_height()\n",
    "    h3 = r3.get_height()\n",
    "#     plt.text(r1.get_x() + r1.get_width()-0.25  , 10 , \"%d\" % h1, ha=\"center\", va=\"center\", color=\"white\", fontsize=10, fontweight=\"bold\")\n",
    "#     plt.text(r2.get_x() + r2.get_width()-0.25  , h1 + h2 / 3., \"%d\" % h2, ha=\"center\", va=\"bottom\", color=\"white\", fontsize=10, fontweight=\"bold\")\n",
    "#     plt.text(r3.get_x() + r3.get_width() -0.25 , h1 + h2 + h3 / 3., \"%d\" % h3, ha=\"center\", va=\"bottom\", color=\"black\", fontsize=10, fontweight=\"bold\")\n",
    "\n",
    "    plt.text(r1.get_x() + r1.get_width()-0.25  , 100 , f'{h1:,}', ha=\"center\", va=\"bottom\", color=\"white\", fontsize=10, fontweight=\"bold\")\n",
    "    plt.text(r2.get_x() + r2.get_width()-0.25  , h1 + h2 / 3., f'{h2:,}', ha=\"center\", va=\"bottom\", color=\"white\", fontsize=10,fontweight=\"bold\")\n",
    "    plt.text(r3.get_x() + r3.get_width() -0.25 , h1 + h2 + h3 / 3., f'{h3:,}', ha=\"center\", va=\"bottom\", color=\"black\", fontsize=10, fontweight=\"bold\")"
   ]
  },
  {
   "cell_type": "code",
   "execution_count": null,
   "metadata": {
    "slideshow": {
     "slide_type": "slide"
    }
   },
   "outputs": [],
   "source": [
    "fig"
   ]
  },
  {
   "cell_type": "code",
   "execution_count": null,
   "metadata": {
    "slideshow": {
     "slide_type": "slide"
    }
   },
   "outputs": [],
   "source": [
    "top10_enigma_stats"
   ]
  },
  {
   "cell_type": "markdown",
   "metadata": {
    "slideshow": {
     "slide_type": "slide"
    }
   },
   "source": [
    "### Filter by Country"
   ]
  },
  {
   "cell_type": "code",
   "execution_count": null,
   "metadata": {
    "slideshow": {
     "slide_type": "skip"
    }
   },
   "outputs": [],
   "source": [
    "#alternative\n",
    "\n",
    "# List of countries\n",
    "\n",
    "print(allData.countriesAndTerritories.unique())\n",
    "\n",
    "#alternative\n",
    "\n",
    "#userCountry = input(\"\\nchoose a country: \")"
   ]
  },
  {
   "cell_type": "code",
   "execution_count": null,
   "metadata": {
    "slideshow": {
     "slide_type": "slide"
    }
   },
   "outputs": [],
   "source": [
    "userOptions = wd.Dropdown(\n",
    "        options=allData.countriesAndTerritories.unique(),\n",
    "        value='Afghanistan',\n",
    "        description='Countries:',\n",
    "        disabled=False\n",
    "        )\n",
    "\n",
    "display(userOptions)"
   ]
  },
  {
   "cell_type": "code",
   "execution_count": null,
   "metadata": {
    "slideshow": {
     "slide_type": "slide"
    }
   },
   "outputs": [],
   "source": [
    "userCountry =userOptions.value\n",
    "\n",
    "filtered_df = allData.loc[allData['countriesAndTerritories'] == userCountry] #region filter\n",
    "\n",
    "filtered_df.head()"
   ]
  },
  {
   "cell_type": "code",
   "execution_count": null,
   "metadata": {
    "slideshow": {
     "slide_type": "skip"
    }
   },
   "outputs": [],
   "source": [
    "filtered_df.dtypes"
   ]
  },
  {
   "cell_type": "markdown",
   "metadata": {
    "slideshow": {
     "slide_type": "slide"
    }
   },
   "source": [
    "### Plotting"
   ]
  },
  {
   "cell_type": "code",
   "execution_count": null,
   "metadata": {
    "slideshow": {
     "slide_type": "slide"
    }
   },
   "outputs": [],
   "source": [
    "# config\n",
    "from datetime import datetime as dt\n",
    "\n",
    "plot_df=filtered_df # copy just for plotting\n",
    "\n",
    "#change to simpler date format, dont need year\n",
    "plot_df['dateRep'] = plot_df['dateRep'].dt.strftime('%d-%b')\n",
    "#sortindex in descending order so that x-axes moves eft to right from historic to present\n",
    "plot_df=plot_df.sort_index(axis=0, ascending=False)\n",
    "#set date as new index for plotting\n",
    "plot_df=plot_df.set_index('dateRep')\n",
    "\n",
    "x1 = plot_df.index\n",
    "x2 = plot_df.index\n",
    "y1 = plot_df.cases.values #drop .values if doing a line plot (see next cell*)\n",
    "y2 = plot_df.deaths.values #drop .values if doing a line plot (see next cell*)\n",
    "\n",
    "from matplotlib.ticker import (MultipleLocator, FormatStrFormatter,\n",
    "                               AutoMinorLocator)"
   ]
  },
  {
   "cell_type": "code",
   "execution_count": null,
   "metadata": {
    "slideshow": {
     "slide_type": "slide"
    }
   },
   "outputs": [],
   "source": [
    "fig, axes = plt.subplots(nrows=1, ncols=2, figsize=(12, 5))\n",
    "\n",
    "axes[0].bar(x1, y1,color='b') #.plot would give a line plot*\n",
    "axes[1].bar(x2, y2,color='r') #.plot would give a line plot*\n",
    "axes[0].xaxis.set_major_locator(MultipleLocator(28))\n",
    "axes[1].xaxis.set_major_locator(MultipleLocator(28))\n",
    "\n",
    "#axes[0].set_title('Cases (latest: ' + str(plot_df[\"cases\"][-1]) + ')')\n",
    "#axes[1].set_title('Deaths (latest: ' + str(plot_df[\"deaths\"][-1]) + ')')\n",
    "\n",
    "fig.suptitle(userCountry, x= 0.5, y = 1.05, fontsize=16)\n",
    "plt.figtext(0.2, 0.7, 'Cases:\\n\\n Total ' + str(plot_df.cases.sum()) + '\\nLatest ' + str(plot_df[\"cases\"][-1]), horizontalalignment='right')\n",
    "plt.figtext(0.7, 0.7, 'Deaths:\\n\\n Total ' + str(plot_df.deaths.sum()) + '\\nLatest ' + str(plot_df[\"deaths\"][-1]), horizontalalignment='right')\n",
    "\n",
    "fig.tight_layout()"
   ]
  },
  {
   "cell_type": "markdown",
   "metadata": {
    "slideshow": {
     "slide_type": "slide"
    }
   },
   "source": [
    "### Filter by Region"
   ]
  },
  {
   "cell_type": "code",
   "execution_count": 85,
   "metadata": {
    "slideshow": {
     "slide_type": "slide"
    }
   },
   "outputs": [],
   "source": [
    "#libraries again if needed\n",
    "\n",
    "import pandas as pd\n",
    "import numpy as np\n",
    "import matplotlib.pyplot as plt\n",
    "\n",
    "%matplotlib inline\n",
    "\n",
    "#for dropdown widget \n",
    "from ipywidgets import widgets as wd \n",
    "from IPython.display import display\n",
    "\n",
    "import datetime\n",
    "import os "
   ]
  },
  {
   "cell_type": "code",
   "execution_count": 149,
   "metadata": {},
   "outputs": [],
   "source": [
    "US_Confirmed = pd.read_csv(\"https://raw.githubusercontent.com/CSSEGISandData/COVID-19/master/csse_covid_19_data/csse_covid_19_time_series/time_series_covid19_confirmed_US.csv\")\n",
    "Global_Confirmed = pd.read_csv(\"https://raw.githubusercontent.com/CSSEGISandData/COVID-19/master/csse_covid_19_data/csse_covid_19_time_series/time_series_covid19_confirmed_global.csv\")\n",
    "US_Deaths = pd.read_csv(\"https://raw.githubusercontent.com/CSSEGISandData/COVID-19/master/csse_covid_19_data/csse_covid_19_time_series/time_series_covid19_deaths_US.csv\")\n",
    "Global_Deaths = pd.read_csv(\"https://raw.githubusercontent.com/CSSEGISandData/COVID-19/master/csse_covid_19_data/csse_covid_19_time_series/time_series_covid19_deaths_global.csv\")\n",
    "Global_Recovered = pd.read_csv(\"https://raw.githubusercontent.com/CSSEGISandData/COVID-19/master/csse_covid_19_data/csse_covid_19_time_series/time_series_covid19_recovered_global.csv\")"
   ]
  },
  {
   "cell_type": "code",
   "execution_count": 150,
   "metadata": {},
   "outputs": [],
   "source": [
    "#we just want state break down so aggregate\n",
    "US_Confirmed = US_Confirmed.groupby('Province_State', as_index=False).sum() \n",
    "US_Deaths = US_Deaths.groupby('Province_State', as_index=False).sum() "
   ]
  },
  {
   "cell_type": "code",
   "execution_count": 151,
   "metadata": {},
   "outputs": [],
   "source": [
    "Global_Confirmed = Global_Confirmed.groupby('Province/State', as_index=False).sum() \n",
    "Global_Deaths = Global_Deaths.groupby('Province/State', as_index=False).sum() \n",
    "Global_Recovered = Global_Recovered.groupby('Province/State', as_index=False).sum() "
   ]
  },
  {
   "cell_type": "markdown",
   "metadata": {},
   "source": [
    "####  Simplify and combine datasets for plotting"
   ]
  },
  {
   "cell_type": "code",
   "execution_count": 152,
   "metadata": {},
   "outputs": [],
   "source": [
    "#drop all columns except region and dates\n",
    "US_Confirmed = US_Confirmed.drop(columns=['UID', 'code3', 'FIPS', 'Lat', 'Long_'])\n",
    "#put dates in long format, not wide\n",
    "US_Confirmed = US_Confirmed.melt(id_vars=\"Province_State\",var_name=\"Date\",value_name=\"Confirmed\")"
   ]
  },
  {
   "cell_type": "code",
   "execution_count": 153,
   "metadata": {},
   "outputs": [],
   "source": [
    "#drop all columns except region and dates\n",
    "US_Deaths = US_Deaths.drop(columns=['UID', 'code3', 'FIPS', 'Lat', 'Long_', 'Population'])\n",
    "#put dates in long format, not wide\n",
    "US_Deaths = US_Deaths.melt(id_vars=\"Province_State\",var_name=\"Date\",value_name=\"Deaths\")"
   ]
  },
  {
   "cell_type": "code",
   "execution_count": 154,
   "metadata": {},
   "outputs": [],
   "source": [
    "# Join US Confirmed to Deaths\n",
    "US_all = US_Confirmed.merge(US_Deaths, on=['Province_State','Date'])"
   ]
  },
  {
   "cell_type": "code",
   "execution_count": 155,
   "metadata": {},
   "outputs": [],
   "source": [
    "#Global Confirmed\n",
    "#drop all columns except region and dates\n",
    "Global_Confirmed = Global_Confirmed.drop(columns=['Lat','Long'])\n",
    "#put dates in long format, not wide\n",
    "Global_Confirmed = Global_Confirmed.melt(id_vars=\"Province/State\",var_name=\"Date\",value_name=\"Confirmed\")"
   ]
  },
  {
   "cell_type": "code",
   "execution_count": 156,
   "metadata": {},
   "outputs": [],
   "source": [
    "#Global Confirmed\n",
    "#drop all columns except region and dates\n",
    "Global_Deaths = Global_Deaths.drop(columns=['Lat','Long'])\n",
    "#put dates in long format, not wide\n",
    "Global_Deaths = Global_Deaths.melt(id_vars=\"Province/State\",var_name=\"Date\",value_name=\"Deaths\")"
   ]
  },
  {
   "cell_type": "code",
   "execution_count": 157,
   "metadata": {
    "scrolled": true
   },
   "outputs": [],
   "source": [
    "#Global Recovered\n",
    "#drop all columns except region and dates\n",
    "Global_Recovered = Global_Recovered.drop(columns=['Lat','Long'])\n",
    "#put dates in long format, not wide\n",
    "Global_Recovered = Global_Recovered.melt(id_vars=\"Province/State\",var_name=\"Date\",value_name=\"Recovered\")"
   ]
  },
  {
   "cell_type": "code",
   "execution_count": 158,
   "metadata": {},
   "outputs": [],
   "source": [
    "# Join Global datasets\n",
    "Global_all = Global_Confirmed.merge(Global_Deaths, on=['Province/State','Date'])\n"
   ]
  },
  {
   "cell_type": "code",
   "execution_count": 159,
   "metadata": {},
   "outputs": [],
   "source": [
    "# Join Global datasets\n",
    "Global_all = Global_all.merge(Global_Recovered, on=['Province/State','Date'])"
   ]
  },
  {
   "cell_type": "code",
   "execution_count": 160,
   "metadata": {},
   "outputs": [
    {
     "data": {
      "text/html": [
       "<div>\n",
       "<style scoped>\n",
       "    .dataframe tbody tr th:only-of-type {\n",
       "        vertical-align: middle;\n",
       "    }\n",
       "\n",
       "    .dataframe tbody tr th {\n",
       "        vertical-align: top;\n",
       "    }\n",
       "\n",
       "    .dataframe thead th {\n",
       "        text-align: right;\n",
       "    }\n",
       "</style>\n",
       "<table border=\"1\" class=\"dataframe\">\n",
       "  <thead>\n",
       "    <tr style=\"text-align: right;\">\n",
       "      <th></th>\n",
       "      <th>Province/State</th>\n",
       "      <th>Date</th>\n",
       "      <th>Confirmed</th>\n",
       "      <th>Deaths</th>\n",
       "      <th>Recovered</th>\n",
       "    </tr>\n",
       "  </thead>\n",
       "  <tbody>\n",
       "    <tr>\n",
       "      <th>0</th>\n",
       "      <td>Anguilla</td>\n",
       "      <td>1/22/20</td>\n",
       "      <td>0</td>\n",
       "      <td>0</td>\n",
       "      <td>0</td>\n",
       "    </tr>\n",
       "    <tr>\n",
       "      <th>1</th>\n",
       "      <td>Anhui</td>\n",
       "      <td>1/22/20</td>\n",
       "      <td>1</td>\n",
       "      <td>0</td>\n",
       "      <td>0</td>\n",
       "    </tr>\n",
       "    <tr>\n",
       "      <th>2</th>\n",
       "      <td>Aruba</td>\n",
       "      <td>1/22/20</td>\n",
       "      <td>0</td>\n",
       "      <td>0</td>\n",
       "      <td>0</td>\n",
       "    </tr>\n",
       "    <tr>\n",
       "      <th>3</th>\n",
       "      <td>Australian Capital Territory</td>\n",
       "      <td>1/22/20</td>\n",
       "      <td>0</td>\n",
       "      <td>0</td>\n",
       "      <td>0</td>\n",
       "    </tr>\n",
       "    <tr>\n",
       "      <th>4</th>\n",
       "      <td>Beijing</td>\n",
       "      <td>1/22/20</td>\n",
       "      <td>14</td>\n",
       "      <td>0</td>\n",
       "      <td>0</td>\n",
       "    </tr>\n",
       "  </tbody>\n",
       "</table>\n",
       "</div>"
      ],
      "text/plain": [
       "                 Province/State     Date  Confirmed  Deaths  Recovered\n",
       "0                      Anguilla  1/22/20          0       0          0\n",
       "1                         Anhui  1/22/20          1       0          0\n",
       "2                         Aruba  1/22/20          0       0          0\n",
       "3  Australian Capital Territory  1/22/20          0       0          0\n",
       "4                       Beijing  1/22/20         14       0          0"
      ]
     },
     "execution_count": 160,
     "metadata": {},
     "output_type": "execute_result"
    }
   ],
   "source": [
    "Global_all.head()"
   ]
  },
  {
   "cell_type": "code",
   "execution_count": 161,
   "metadata": {},
   "outputs": [],
   "source": [
    "Global_all = Global_all.rename(columns={\"Province/State\": \"Province_State\"})"
   ]
  },
  {
   "cell_type": "code",
   "execution_count": 162,
   "metadata": {},
   "outputs": [],
   "source": [
    "all = US_all.append(Global_all)"
   ]
  },
  {
   "cell_type": "markdown",
   "metadata": {},
   "source": [
    "#### User prompt for region"
   ]
  },
  {
   "cell_type": "code",
   "execution_count": 163,
   "metadata": {
    "slideshow": {
     "slide_type": "slide"
    }
   },
   "outputs": [
    {
     "data": {
      "application/vnd.jupyter.widget-view+json": {
       "model_id": "6690b0cea5aa427e877ed7805b1b096d",
       "version_major": 2,
       "version_minor": 0
      },
      "text/plain": [
       "Dropdown(description='Regions:', index=2, options=('Alabama', 'Alaska', 'American Samoa', 'Arizona', 'Arkansas…"
      ]
     },
     "metadata": {},
     "output_type": "display_data"
    }
   ],
   "source": [
    "userOptionsRegion = wd.Dropdown(\n",
    "        options=all.Province_State.unique(),\n",
    "        value='American Samoa',\n",
    "        description='Regions:',\n",
    "        disabled=False\n",
    "        )\n",
    "\n",
    "display(userOptionsRegion)"
   ]
  },
  {
   "cell_type": "code",
   "execution_count": 174,
   "metadata": {
    "slideshow": {
     "slide_type": "slide"
    }
   },
   "outputs": [
    {
     "data": {
      "text/html": [
       "<div>\n",
       "<style scoped>\n",
       "    .dataframe tbody tr th:only-of-type {\n",
       "        vertical-align: middle;\n",
       "    }\n",
       "\n",
       "    .dataframe tbody tr th {\n",
       "        vertical-align: top;\n",
       "    }\n",
       "\n",
       "    .dataframe thead th {\n",
       "        text-align: right;\n",
       "    }\n",
       "</style>\n",
       "<table border=\"1\" class=\"dataframe\">\n",
       "  <thead>\n",
       "    <tr style=\"text-align: right;\">\n",
       "      <th></th>\n",
       "      <th>Province_State</th>\n",
       "      <th>Date</th>\n",
       "      <th>Confirmed</th>\n",
       "      <th>Deaths</th>\n",
       "      <th>Recovered</th>\n",
       "    </tr>\n",
       "  </thead>\n",
       "  <tbody>\n",
       "    <tr>\n",
       "      <th>4</th>\n",
       "      <td>Beijing</td>\n",
       "      <td>1/22/20</td>\n",
       "      <td>14</td>\n",
       "      <td>0</td>\n",
       "      <td>0.0</td>\n",
       "    </tr>\n",
       "    <tr>\n",
       "      <th>71</th>\n",
       "      <td>Beijing</td>\n",
       "      <td>1/23/20</td>\n",
       "      <td>22</td>\n",
       "      <td>0</td>\n",
       "      <td>0.0</td>\n",
       "    </tr>\n",
       "    <tr>\n",
       "      <th>138</th>\n",
       "      <td>Beijing</td>\n",
       "      <td>1/24/20</td>\n",
       "      <td>36</td>\n",
       "      <td>0</td>\n",
       "      <td>1.0</td>\n",
       "    </tr>\n",
       "    <tr>\n",
       "      <th>205</th>\n",
       "      <td>Beijing</td>\n",
       "      <td>1/25/20</td>\n",
       "      <td>41</td>\n",
       "      <td>0</td>\n",
       "      <td>2.0</td>\n",
       "    </tr>\n",
       "    <tr>\n",
       "      <th>272</th>\n",
       "      <td>Beijing</td>\n",
       "      <td>1/26/20</td>\n",
       "      <td>68</td>\n",
       "      <td>0</td>\n",
       "      <td>2.0</td>\n",
       "    </tr>\n",
       "  </tbody>\n",
       "</table>\n",
       "</div>"
      ],
      "text/plain": [
       "    Province_State     Date  Confirmed  Deaths  Recovered\n",
       "4          Beijing  1/22/20         14       0        0.0\n",
       "71         Beijing  1/23/20         22       0        0.0\n",
       "138        Beijing  1/24/20         36       0        1.0\n",
       "205        Beijing  1/25/20         41       0        2.0\n",
       "272        Beijing  1/26/20         68       0        2.0"
      ]
     },
     "execution_count": 174,
     "metadata": {},
     "output_type": "execute_result"
    }
   ],
   "source": [
    "userRegion =userOptionsRegion.value\n",
    "\n",
    "# filtered_regions_confirmed = all[Confirmed].loc[all['Province_State'] == userRegion] #region filter\n",
    "# filtered_regions_deaths = all.loc[all['Province_State'] == userRegion] #region filter\n",
    "\n",
    "filtered = all.loc[all['Province_State'] == userRegion] #region filter\n",
    "\n",
    "filtered.head()"
   ]
  },
  {
   "cell_type": "code",
   "execution_count": 175,
   "metadata": {},
   "outputs": [
    {
     "name": "stderr",
     "output_type": "stream",
     "text": [
      "C:\\Users\\barry.walsh\\anaconda3_installed_10Jun20\\lib\\site-packages\\ipykernel_launcher.py:3: SettingWithCopyWarning: \n",
      "A value is trying to be set on a copy of a slice from a DataFrame.\n",
      "Try using .loc[row_indexer,col_indexer] = value instead\n",
      "\n",
      "See the caveats in the documentation: https://pandas.pydata.org/pandas-docs/stable/user_guide/indexing.html#returning-a-view-versus-a-copy\n",
      "  This is separate from the ipykernel package so we can avoid doing imports until\n"
     ]
    }
   ],
   "source": [
    "# need to change Date to datetime\n",
    "\n",
    "filtered[\"Date\"] = pd.to_datetime(filtered[\"Date\"])"
   ]
  },
  {
   "cell_type": "code",
   "execution_count": 176,
   "metadata": {},
   "outputs": [
    {
     "name": "stderr",
     "output_type": "stream",
     "text": [
      "C:\\Users\\barry.walsh\\anaconda3_installed_10Jun20\\lib\\site-packages\\pandas\\core\\generic.py:5303: SettingWithCopyWarning: \n",
      "A value is trying to be set on a copy of a slice from a DataFrame.\n",
      "Try using .loc[row_indexer,col_indexer] = value instead\n",
      "\n",
      "See the caveats in the documentation: https://pandas.pydata.org/pandas-docs/stable/user_guide/indexing.html#returning-a-view-versus-a-copy\n",
      "  self[name] = value\n"
     ]
    }
   ],
   "source": [
    "# also as data is showing counts as cummulative, need to just show the daily totals\n",
    "\n",
    "#first sort by Province/State then Date\n",
    "#filtered=filtered.sort_values([\"Province_State\", \"Date\"], ascending = (True, True))\n",
    "\n",
    "# take the differences from one day to the next to get back to daily totals\n",
    "filtered.Confirmed=filtered.Confirmed.diff()\n",
    "filtered.Deaths=filtered.Deaths.diff()\n",
    "filtered.Recovered=filtered.Recovered.diff()"
   ]
  },
  {
   "cell_type": "markdown",
   "metadata": {
    "slideshow": {
     "slide_type": "slide"
    }
   },
   "source": [
    "### Plotting"
   ]
  },
  {
   "cell_type": "code",
   "execution_count": 177,
   "metadata": {
    "slideshow": {
     "slide_type": "slide"
    }
   },
   "outputs": [
    {
     "name": "stderr",
     "output_type": "stream",
     "text": [
      "C:\\Users\\barry.walsh\\anaconda3_installed_10Jun20\\lib\\site-packages\\ipykernel_launcher.py:5: SettingWithCopyWarning: \n",
      "A value is trying to be set on a copy of a slice from a DataFrame.\n",
      "Try using .loc[row_indexer,col_indexer] = value instead\n",
      "\n",
      "See the caveats in the documentation: https://pandas.pydata.org/pandas-docs/stable/user_guide/indexing.html#returning-a-view-versus-a-copy\n",
      "  \"\"\"\n"
     ]
    }
   ],
   "source": [
    "# config\n",
    "from datetime import datetime as dt\n",
    "\n",
    "#change to simpler date format, dont need year\n",
    "filtered['Date'] = filtered['Date'].dt.strftime('%d-%b')\n",
    "\n",
    "#set date as new index for plotting\n",
    "filtered=filtered.set_index('Date')\n",
    "\n",
    "x1 = filtered.index\n",
    "x2 = filtered.index\n",
    "y1 = filtered.Confirmed.values #drop .values if doing a line plot (see next cell*)\n",
    "y2 = filtered.Deaths.values #drop .values if doing a line plot (see next cell*)\n",
    "\n",
    "from matplotlib.ticker import (MultipleLocator, FormatStrFormatter,\n",
    "                               AutoMinorLocator)"
   ]
  },
  {
   "cell_type": "code",
   "execution_count": 178,
   "metadata": {
    "slideshow": {
     "slide_type": "slide"
    }
   },
   "outputs": [
    {
     "data": {
      "image/png": "[encoded data removed]",
      "text/plain": [
       "<Figure size 864x360 with 2 Axes>"
      ]
     },
     "metadata": {
      "needs_background": "light"
     },
     "output_type": "display_data"
    }
   ],
   "source": [
    "fig, axes = plt.subplots(nrows=1, ncols=2, figsize=(12, 5))\n",
    "\n",
    "axes[0].bar(x1, y1,color='b') #.plot would give a line plot*\n",
    "axes[1].bar(x2, y2,color='r') #.plot would give a line plot*\n",
    "axes[0].xaxis.set_major_locator(MultipleLocator(28))\n",
    "axes[1].xaxis.set_major_locator(MultipleLocator(28))\n",
    "\n",
    "fig.suptitle(userRegion, x= 0.5, y = 1.05, fontsize=16)\n",
    "plt.figtext(0.2, 0.7, 'Cases:\\n\\n Total ' + str(filtered.Confirmed.sum()) + '\\nLatest ' + str(filtered[\"Confirmed\"][-1]), horizontalalignment='right')\n",
    "plt.figtext(0.7, 0.7, 'Deaths:\\n\\n Total ' + str(filtered.Deaths.sum()) + '\\nLatest ' + str(filtered[\"Deaths\"][-1]), horizontalalignment='right')\n",
    "\n",
    "fig.tight_layout()"
   ]
  },
  {
   "cell_type": "markdown",
   "metadata": {},
   "source": [
    "### Additional"
   ]
  },
  {
   "cell_type": "code",
   "execution_count": null,
   "metadata": {},
   "outputs": [],
   "source": [
    "# test - stacked bar chart\n",
    "\n",
    "# check https://altair-viz.github.io/user_guide/customization.html#adjusting-axis-labels\n",
    "\n",
    "#%pip install altair\n",
    "\n",
    "import altair as alt\n",
    "import pandas as pd\n",
    "\n",
    "metricsOrder=[\"Deaths\",\"Recovered\",\"Active\"]\n",
    "\n",
    "bars=alt.Chart().mark_bar().encode(\n",
    "    x=alt.X('sum(Number)',stack='zero'), # this should be a new \"number\" column for number of Confirmed\tDeaths\tRecovered\tActive\n",
    "    y=alt.Y('Country_Region', sort=top10), # countries'\n",
    "    color=alt.Color('Status',sort=[\"Deaths\",\"Recovered\",\"Active\"],\n",
    "                   scale = alt.Scale(domain=[\"Deaths\",\"Recovered\",\"Active\"], range=['red','green', 'grey']))\n",
    ").properties(\n",
    "    width=400,\n",
    "    height=200)\n",
    "\n",
    "# text=alt.Chart().mark_text(dx=-15, dy=3).encode(\n",
    "#     y=alt.Y('Country_Region', sort=top10),\n",
    "#     x=alt.X('sum(Number)',  stack='zero'),\n",
    "#     color=alt.Color('Status', legend=None, scale=alt.Scale(range=['white']),sort=[\"Deaths\",\"Recovered\",\"Active\"]),\n",
    "#     text=alt.Text('sum(Number)',format='.0f')\n",
    "# )\n",
    "\n",
    "# horsepower = ranked_text.encode(text='Horsepower:N').properties(title='Horsepower')\n",
    "# mpg = ranked_text.encode(text='Miles_per_Gallon:N').properties(title='MPG')\n",
    "# origin = ranked_text.encode(text='Origin:N').properties(title='Origin')\n",
    "# text = alt.hconcat(horsepower, mpg, origin) # Combine data tables\n",
    "text = top10_enigma_stats # Combine data tables\n",
    "\n",
    "#scale = alt.Scale(domain=[\"Deaths\",\"Recovered\",\"Active\"], range=['red','green', 'amber'])\n",
    "\n",
    "alt.layer(bars, text, data=meltedEnigmaSummary).resolve_scale(color='independent')"
   ]
  },
  {
   "cell_type": "code",
   "execution_count": null,
   "metadata": {},
   "outputs": [],
   "source": [
    "meltedEnigmaSummary.head(25)"
   ]
  },
  {
   "cell_type": "code",
   "execution_count": null,
   "metadata": {},
   "outputs": [],
   "source": [
    "# test - stacked bar chart\n",
    "\n",
    "import altair as alt\n",
    "import pandas as pd\n",
    "from vega_datasets import data\n",
    "\n",
    "df=data.barley()\n",
    "\n",
    "bars=alt.Chart().mark_bar().encode(\n",
    "    x=alt.X('sum(yield)',stack='zero'), # this should be a new \"number\" column for number of Confirmed\tDeaths\tRecovered\tActive\n",
    "    y=alt.Y('variety'), ' countries'\n",
    "    color=alt.Color('site') # this should be a new \"status\" column: Confirmed\tDeaths\tRecovered\tActive\n",
    ")\n",
    "\n",
    "text=alt.Chart().mark_text(dx=-15, dy=3).encode(\n",
    "    y=alt.Y('variety'),\n",
    "    x=alt.X('sum(yield)',  stack='zero'),\n",
    "    color=alt.Color('site', legend=None, scale=alt.Scale(range=['white'])),\n",
    "    text=alt.Text('sum(yield)',format='.1f')\n",
    ")\n",
    "\n",
    "alt.layer(bars, text, data=df).resolve_scale(color='independent')"
   ]
  },
  {
   "cell_type": "markdown",
   "metadata": {},
   "source": [
    "### Other"
   ]
  },
  {
   "cell_type": "code",
   "execution_count": null,
   "metadata": {
    "slideshow": {
     "slide_type": "skip"
    }
   },
   "outputs": [],
   "source": [
    "# set MonthYear as index\n",
    "#filtered_df.set_index('dateRep', inplace=True)\n",
    "\n",
    "#plot cases and deaths\n",
    "\n",
    "fig = plt.figure(figsize=(12,8))\n",
    "\n",
    "fig.suptitle('Covd-19 latest cases and deaths distribution: ' , fontsize=12)\n",
    "\n",
    "ax1 = fig.add_subplot(111)\n",
    "ax1.plot(filtered_df[\"cases\"],label=\"Cases\")\n",
    "ax2 = ax1.twinx()\n",
    "ax2.plot(filtered_df[\"deaths\"], color='r',label=\"Deaths\")\n",
    "\n",
    "ax1.set_ylabel('Cases', fontsize=12 )\n",
    "ax2.set_ylabel('Deaths', fontsize=12)\n",
    "\n",
    "fig.legend(loc='best')"
   ]
  },
  {
   "cell_type": "code",
   "execution_count": null,
   "metadata": {
    "slideshow": {
     "slide_type": "skip"
    }
   },
   "outputs": [],
   "source": [
    "#alternative (basic)\n",
    "\n",
    "#filter plot data only\n",
    "plot_df=filtered_df[[ \"cases\",\"deaths\"]]\n",
    "plot_df.head()\n",
    "\n",
    "ax = plot_df.plot(figsize=(14,6), lw=2, style='k-')"
   ]
  },
  {
   "cell_type": "code",
   "execution_count": null,
   "metadata": {
    "scrolled": true,
    "slideshow": {
     "slide_type": "skip"
    }
   },
   "outputs": [],
   "source": [
    "#alternative (side by side)\n",
    "\n",
    "#filter plot data only\n",
    "plot_cases=filtered_df[[\"cases\"]]\n",
    "plot_deaths=filtered_df[[\"deaths\"]]\n",
    "\n",
    "plot_cases.plot(figsize=(6,4), color='b', lw=2)\n",
    "plot_deaths.plot(figsize=(6,4), color='r', lw=2)"
   ]
  }
 ],
 "metadata": {
  "celltoolbar": "Slideshow",
  "kernelspec": {
   "display_name": "Python 3",
   "language": "python",
   "name": "python3"
  },
  "language_info": {
   "codemirror_mode": {
    "name": "ipython",
    "version": 3
   },
   "file_extension": ".py",
   "mimetype": "text/x-python",
   "name": "python",
   "nbconvert_exporter": "python",
   "pygments_lexer": "ipython3",
   "version": "3.7.6"
  },
  "rise": {
   "autolaunch": true,
   "enable_chalkboard": true,
   "theme": "solarized"
  }
 },
 "nbformat": 4,
 "nbformat_minor": 2
}
