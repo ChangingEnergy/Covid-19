{
 "cells": [
  {
   "cell_type": "markdown",
   "metadata": {
    "slideshow": {
     "slide_type": "slide"
    }
   },
   "source": [
    "### Covid-19 Live Data\n",
    "<img src=\"qualitrolcorp.png\" alt=\"covid-19_qualitrolcorp\" width=\"500\"/>"
   ]
  },
  {
   "cell_type": "markdown",
   "metadata": {
    "slideshow": {
     "slide_type": "slide"
    }
   },
   "source": [
    "#### Slideshow Navigation\n",
    "\n",
    "<a href=\"#/2/1\">Import Libraries</a>\n",
    "\n",
    "<a href=\"#/3/1\">Quick Run - Top 10 Country View</a>\n",
    "\n",
    "<a href=\"#/3/1\">Quick Run - Country Breakdown (to 14Dec20)</a> <strong>DEPRECATED</strong>\n",
    "\n",
    "<a href=\"#/5/1\">Latest UK</a>\n",
    "\n",
    "<a href=\"#/2/1\">Latest UK-regions</a>  <strong>UNDER DEVELOPMENT</strong>\n",
    "\n",
    "<a href=\"#/8/1\">Quick Run - Country Breakdown (weekly from 14Dec20)</a>\n",
    "\n",
    "<a href=\"#/10/1\">UK Forecast - daily</a>\n",
    "\n",
    "<a href=\"#/13/1\">Country Forecast - weekly</a>\n",
    "\n",
    "<a href=\"#/17/1\">Quick Run - Global Regions</a>"
   ]
  },
  {
   "cell_type": "markdown",
   "metadata": {
    "slideshow": {
     "slide_type": "skip"
    }
   },
   "source": [
    "#### Notebook Navigation\n",
    "\n",
    "[Import Libraries](#Libraries)\n",
    "\n",
    "[Quick Run - Top 10 Country View](#Top10)\n",
    "\n",
    "[Quick Run - Country Breakdown (to 14Dec20)](#Countries_upto14Dec20)\n",
    "\n",
    "[Latest UK-wide only](#LatestUK)\n",
    "\n",
    "[Latest UK-regions](#LatestUKRegions)\n",
    "\n",
    "[Quick Run - Country Breakdown (weekly from 14Dec20)](#Countries_from14Dec20)\n",
    "\n",
    "[UK Forecast - daily](#UK_Forecast_daily)\n",
    "\n",
    "[Country Forecast - weekly](#Forecast_weekly)\n",
    "\n",
    "[Quick Run - Regional Breakdown](#Regions)"
   ]
  },
  {
   "cell_type": "markdown",
   "metadata": {
    "slideshow": {
     "slide_type": "slide"
    }
   },
   "source": [
    "<a id='Libraries'></a>\n",
    "### Libraries"
   ]
  },
  {
   "cell_type": "code",
   "execution_count": null,
   "metadata": {
    "slideshow": {
     "slide_type": "subslide"
    }
   },
   "outputs": [],
   "source": [
    "import pandas as pd\n",
    "from pandas import read_csv#\n",
    "from pandas import to_datetime\n",
    "from pandas import DataFrame\n",
    "\n",
    "import numpy as np\n",
    "import matplotlib.pyplot as plt\n",
    "\n",
    "%matplotlib inline\n",
    "\n",
    "#for dropdown widget \n",
    "from ipywidgets import widgets as wd \n",
    "from IPython.display import display\n",
    "\n",
    "import datetime\n",
    "import os \n",
    "\n",
    "\n",
    "\n",
    "from fbprophet import Prophet"
   ]
  },
  {
   "cell_type": "markdown",
   "metadata": {
    "slideshow": {
     "slide_type": "slide"
    }
   },
   "source": [
    "<a id='Top10'></a>\n",
    "### Quick Run - Top 10 Country View"
   ]
  },
  {
   "cell_type": "code",
   "execution_count": null,
   "metadata": {
    "slideshow": {
     "slide_type": "subslide"
    }
   },
   "outputs": [],
   "source": [
    "# changed line below due to error when running via Binder - need openpyxl\n",
    "# allData_to14Dec20 = pd.read_excel(\"https://www.ecdc.europa.eu/sites/default/files/documents/COVID-19-geographic-disbtribution-worldwide.xlsx\")\n",
    "allData_to14Dec20 = pd.read_excel(\"https://www.ecdc.europa.eu/sites/default/files/documents/COVID-19-geographic-disbtribution-worldwide.xlsx\", engine='openpyxl')\n",
    "\n",
    "allData_from14Dec20 = pd.read_excel(\"https://opendata.ecdc.europa.eu/covid19/nationalcasedeath/xlsx\")\n",
    "\n",
    "#and John Hopkins data\n",
    "\n",
    "lastDataDate = datetime.date.strftime(datetime.date.today()- datetime.timedelta(1),\"%m-%d-%Y\")\n",
    "\n",
    "enigma = pd.read_csv(os.path.join(\"https://raw.githubusercontent.com/CSSEGISandData/COVID-19/master/csse_covid_19_data/csse_covid_19_daily_reports/\", lastDataDate + \".csv\"))\n",
    "\n",
    "\n",
    "# Enigma / John Hopkins plot\n",
    "\n",
    "#de-one hot encode by adding a single status column for deaths, recovered and active\n",
    "enigmaReportCols = [\"Deaths\",\"Recovered\",\"Active\"]\n",
    "\n",
    "meltedEnigma = enigma.melt(id_vars=enigma.drop(enigmaReportCols, axis=1), value_vars=enigmaReportCols, var_name=['Status'], value_name='Number') # Melting\n",
    "\n",
    "\n",
    "#display as a grouped DF by country, sorted in descending order of confirmed cases \n",
    "meltedEnigmaSummary = meltedEnigma.groupby(['Country_Region','Status']).sum()\n",
    "meltedEnigmaSummary.head()\n",
    "meltedEnigmaSummary.shape\n",
    "meltedEnigmaSummary=pd.DataFrame(meltedEnigmaSummary.to_records())\n",
    "meltedEnigmaSummary = meltedEnigmaSummary.sort_values(['Confirmed'],ascending = False)\n",
    "meltedEnigmaSummary=meltedEnigmaSummary.head(30)\n",
    "\n",
    "#get top10 countries by confirmed cases\n",
    "top10=meltedEnigmaSummary.head(30).Country_Region.unique()\n",
    "top10\n",
    "top10_enigma = enigma[enigma[\"Country_Region\"].isin(top10)]\n",
    "top10_enigma_stats=top10_enigma[[\"Country_Region\",\"Deaths\",\"Recovered\",\"Active\",\"Confirmed\"]]\n",
    "top10_enigma_stats=top10_enigma_stats.groupby(\"Country_Region\").sum()\n",
    "top10_enigma_stats=top10_enigma_stats.sort_values(['Confirmed'],ascending = False)\n",
    "\n",
    "#make sure all data is integer for plotting below\n",
    "top10_enigma_stats.Deaths  = top10_enigma_stats.Deaths.astype(\"int\")\n",
    "top10_enigma_stats.Recovered = top10_enigma_stats.Recovered.astype(\"int\")\n",
    "top10_enigma_stats.Active = top10_enigma_stats.Active.astype(\"int\")\n",
    "top10_enigma_stats.Confirmed = top10_enigma_stats.Confirmed.astype(\"int\")\n",
    "\n",
    "#see also this link for adding datatable below\n",
    "#https://matplotlib.org/3.1.1/gallery/misc/table_demo.html#sphx-glr-gallery-misc-table-demo-py\n",
    "\n",
    "import numpy as np\n",
    "import matplotlib.pyplot as plt\n",
    "from matplotlib.ticker import FormatStrFormatter\n",
    "\n",
    "A = top10_enigma_stats.Deaths\n",
    "B = top10_enigma_stats.Recovered\n",
    "C = top10_enigma_stats.Active\n",
    "\n",
    "fig = plt.figure(facecolor=\"white\",figsize=(15,8))\n",
    "plt.title(\"Confirmed Cases by Country\", fontsize=18)\n",
    "\n",
    "ax = fig.add_subplot(1, 1, 1)\n",
    "bar_width = 0.5\n",
    "bar_l = np.arange(1, 11)\n",
    "tick_pos = [i-0.5 + bar_width for i in bar_l]\n",
    "\n",
    "ax1 = ax.bar(bar_l, A, width=bar_width, label=\"deaths\", color=\"red\") #deaths\n",
    "ax2 = ax.bar(bar_l, B, bottom=A, width=bar_width, label=\"recovered\", color=\"green\") #recovered\n",
    "ax3 = ax.bar(bar_l, C, bottom=A+B, width=bar_width, label=\"active\", color=\"orange\") #active\n",
    "\n",
    "ax.set_ylabel(\"Count (k)\", fontsize=14)\n",
    "ax.get_yaxis().set_major_formatter(plt.FuncFormatter(lambda x, loc: \"{:,}\".format(int(x))))\n",
    "\n",
    "#ax.set_xlabel(\"Country\", fontsize=18)\n",
    "ax.legend(loc=\"best\")\n",
    "plt.xticks(tick_pos, top10, fontsize=10)\n",
    "plt.yticks(fontsize=14)\n",
    "\n",
    "for r1, r2, r3 in zip(ax1, ax2, ax3):\n",
    "    h1 = r1.get_height()\n",
    "    h2 = r2.get_height()\n",
    "    h3 = r3.get_height()\n",
    "#     plt.text(r1.get_x() + r1.get_width()-0.25  , 10 , \"%d\" % h1, ha=\"center\", va=\"center\", color=\"white\", fontsize=10, fontweight=\"bold\")\n",
    "#     plt.text(r2.get_x() + r2.get_width()-0.25  , h1 + h2 / 3., \"%d\" % h2, ha=\"center\", va=\"bottom\", color=\"white\", fontsize=10, fontweight=\"bold\")\n",
    "#     plt.text(r3.get_x() + r3.get_width() -0.25 , h1 + h2 + h3 / 3., \"%d\" % h3, ha=\"center\", va=\"bottom\", color=\"black\", fontsize=10, fontweight=\"bold\")\n",
    "\n",
    "    plt.text(r1.get_x() + r1.get_width()-0.25  , 100 , f'{h1:,}', ha=\"center\", va=\"bottom\", color=\"white\", fontsize=10, fontweight=\"bold\")\n",
    "    plt.text(r2.get_x() + r2.get_width()-0.25  , h1 + h2 / 3., f'{h2:,}', ha=\"center\", va=\"bottom\", color=\"white\", fontsize=8,fontweight=\"bold\")\n",
    "    plt.text(r3.get_x() + r3.get_width() -0.25 , h1 + h2 + h3 / 3., f'{h3:,}', ha=\"center\", va=\"bottom\", color=\"black\", fontsize=10, fontweight=\"bold\")"
   ]
  },
  {
   "cell_type": "code",
   "execution_count": null,
   "metadata": {
    "slideshow": {
     "slide_type": "slide"
    }
   },
   "outputs": [],
   "source": [
    "print(top10_enigma_stats)\n",
    "\n",
    "fig"
   ]
  },
  {
   "cell_type": "markdown",
   "metadata": {
    "slideshow": {
     "slide_type": "skip"
    }
   },
   "source": [
    "<a id='Countries_upto14Dec20'></a>\n",
    "### Quick Run - Country Breakdown (to 14Dec20)"
   ]
  },
  {
   "cell_type": "code",
   "execution_count": null,
   "metadata": {
    "slideshow": {
     "slide_type": "skip"
    }
   },
   "outputs": [],
   "source": [
    "userOptions = wd.Dropdown(\n",
    "        options=allData_to14Dec20.countriesAndTerritories.unique(),\n",
    "        value='Afghanistan',\n",
    "        description='Countries:',\n",
    "        disabled=False\n",
    "        )\n",
    "\n",
    "display(userOptions)"
   ]
  },
  {
   "cell_type": "code",
   "execution_count": null,
   "metadata": {
    "slideshow": {
     "slide_type": "skip"
    }
   },
   "outputs": [],
   "source": [
    "userCountry =userOptions.value\n",
    "\n",
    "filtered_df_to14Dec20 = allData_to14Dec20.loc[allData_to14Dec20['countriesAndTerritories'] == userCountry] #region filter\n",
    "\n",
    "filtered_df_to14Dec20.head()\n",
    "\n",
    "# Plotting\n",
    "\n",
    "# config\n",
    "from datetime import datetime as dt\n",
    "\n",
    "plot_df_to14Dec20=filtered_df_to14Dec20 # copy just for plotting\n",
    "\n",
    "#change to simpler date format, dont need year\n",
    "plot_df_to14Dec20['dateRep'] = plot_df_to14Dec20['dateRep'].dt.strftime('%d-%b')\n",
    "#sortindex in descending order so that x-axes moves eft to right from historic to present\n",
    "plot_df_to14Dec20=plot_df_to14Dec20.sort_index(axis=0, ascending=False)\n",
    "#set date as new index for plotting\n",
    "plot_df_to14Dec20=plot_df_to14Dec20.set_index('dateRep')\n",
    "\n",
    "x1 = plot_df_to14Dec20.index\n",
    "x2 = plot_df_to14Dec20.index\n",
    "y1 = plot_df_to14Dec20.cases.values #drop .values if doing a line plot (see next cell*)\n",
    "y2 = plot_df_to14Dec20.deaths.values #drop .values if doing a line plot (see next cell*)"
   ]
  },
  {
   "cell_type": "code",
   "execution_count": null,
   "metadata": {
    "slideshow": {
     "slide_type": "skip"
    }
   },
   "outputs": [],
   "source": [
    "plot_df_to14Dec20.dtypes"
   ]
  },
  {
   "cell_type": "code",
   "execution_count": null,
   "metadata": {
    "slideshow": {
     "slide_type": "skip"
    }
   },
   "outputs": [],
   "source": [
    "from matplotlib.ticker import (MultipleLocator, FormatStrFormatter, AutoMinorLocator)\n",
    "\n",
    "fig, axes = plt.subplots(nrows=1, ncols=2, figsize=(20, 8))\n",
    "\n",
    "axes[0].bar(x1, y1,color='b') #.plot would give a line plot*\n",
    "axes[1].bar(x2, y2,color='r') #.plot would give a line plot*\n",
    "axes[0].xaxis.set_major_locator(MultipleLocator(28))\n",
    "axes[1].xaxis.set_major_locator(MultipleLocator(28))\n",
    "\n",
    "axes[0].tick_params(axis='both', which='major', labelsize=12)\n",
    "axes[1].tick_params(axis='both', which='major', labelsize=12)\n",
    "\n",
    "#axes[0].set_title('Cases (latest: ' + str(plot_df[\"cases\"][-1]) + ')')\n",
    "#axes[1].set_title('Deaths (latest: ' + str(plot_df[\"deaths\"][-1]) + ')')\n",
    "\n",
    "fig.suptitle(userCountry, x= 0.5, y = 1.05, fontsize=16)\n",
    "plt.figtext(0.2, 0.7, 'Cases:\\n\\n Total ' + str(plot_df_to14Dec20.cases.sum()) + '\\nLatest ' + str(plot_df_to14Dec20[\"cases\"][-1]), fontsize=14, horizontalalignment='right')\n",
    "plt.figtext(0.9, 0.7, 'Deaths:\\n\\n Total ' + str(plot_df_to14Dec20.deaths.sum()) + '\\nLatest ' + str(plot_df_to14Dec20[\"deaths\"][-1]), fontsize=14, horizontalalignment='right')\n",
    "\n",
    "fig.tight_layout()"
   ]
  },
  {
   "cell_type": "markdown",
   "metadata": {
    "slideshow": {
     "slide_type": "slide"
    }
   },
   "source": [
    "<a id='LatestUK'></a>\n",
    "### Latest UK"
   ]
  },
  {
   "cell_type": "markdown",
   "metadata": {
    "slideshow": {
     "slide_type": "skip"
    }
   },
   "source": [
    "Exploratory Data Analysis"
   ]
  },
  {
   "cell_type": "code",
   "execution_count": null,
   "metadata": {
    "slideshow": {
     "slide_type": "skip"
    }
   },
   "outputs": [],
   "source": [
    "UKcases = pd.read_csv(\"https://coronavirus.data.gov.uk/api/v1/data?filters=areaType=overview&structure=%7B%22areaType%22:%22areaType%22,%22areaName%22:%22areaName%22,%22areaCode%22:%22areaCode%22,%22date%22:%22date%22,%22newCasesBySpecimenDate%22:%22newCasesBySpecimenDate%22,%22cumCasesBySpecimenDate%22:%22cumCasesBySpecimenDate%22%7D&format=csv\")\n",
    "UKcases.head()"
   ]
  },
  {
   "cell_type": "code",
   "execution_count": null,
   "metadata": {
    "slideshow": {
     "slide_type": "skip"
    }
   },
   "outputs": [],
   "source": [
    "UKdeaths = pd.read_csv(\"https://coronavirus.data.gov.uk/api/v1/data?filters=areaType=overview&structure=%7B%22areaType%22:%22areaType%22,%22areaName%22:%22areaName%22,%22areaCode%22:%22areaCode%22,%22date%22:%22date%22,%22newDeaths28DaysByDeathDate%22:%22newDeaths28DaysByDeathDate%22,%22cumDeaths28DaysByDeathDate%22:%22cumDeaths28DaysByDeathDate%22%7D&format=csv\")\n",
    "UKdeaths.head()"
   ]
  },
  {
   "cell_type": "code",
   "execution_count": null,
   "metadata": {
    "slideshow": {
     "slide_type": "skip"
    }
   },
   "outputs": [],
   "source": [
    "UKcases.dtypes"
   ]
  },
  {
   "cell_type": "code",
   "execution_count": null,
   "metadata": {
    "slideshow": {
     "slide_type": "skip"
    }
   },
   "outputs": [],
   "source": [
    "UKdeaths.dtypes"
   ]
  },
  {
   "cell_type": "code",
   "execution_count": null,
   "metadata": {
    "slideshow": {
     "slide_type": "slide"
    }
   },
   "outputs": [],
   "source": [
    "UKcases = pd.read_csv(\"https://coronavirus.data.gov.uk/api/v1/data?filters=areaType=overview&structure=%7B%22areaType%22:%22areaType%22,%22areaName%22:%22areaName%22,%22areaCode%22:%22areaCode%22,%22date%22:%22date%22,%22newCasesBySpecimenDate%22:%22newCasesBySpecimenDate%22,%22cumCasesBySpecimenDate%22:%22cumCasesBySpecimenDate%22%7D&format=csv\")\n",
    "UKdeaths = pd.read_csv(\"https://coronavirus.data.gov.uk/api/v1/data?filters=areaType=overview&structure=%7B%22areaType%22:%22areaType%22,%22areaName%22:%22areaName%22,%22areaCode%22:%22areaCode%22,%22date%22:%22date%22,%22newDeaths28DaysByDeathDate%22:%22newDeaths28DaysByDeathDate%22,%22cumDeaths28DaysByDeathDate%22:%22cumDeaths28DaysByDeathDate%22%7D&format=csv\")\n",
    "\n",
    "# Plotting\n",
    "\n",
    "# config\n",
    "from datetime import datetime as dt\n",
    "\n",
    "# convert date object to datetime\n",
    "UKcases.date = list(map(lambda x: datetime.datetime.strptime(x,\"%Y-%m-%d\"), UKcases.date ))\n",
    "UKdeaths.date = list(map(lambda x: datetime.datetime.strptime(x,\"%Y-%m-%d\"), UKdeaths.date ))\n",
    "\n",
    "#change to simpler date format, dont need year\n",
    "UKcases['date'] = UKcases['date'].dt.strftime('%d-%b')\n",
    "UKdeaths['date'] = UKdeaths['date'].dt.strftime('%d-%b')\n",
    "#sortindex in descending order so that x-axes moves left to right from historic to present\n",
    "UKcases=UKcases.sort_index(axis=0, ascending=False)\n",
    "UKdeaths=UKdeaths.sort_index(axis=0, ascending=False)\n",
    "#set date as new index for plotting\n",
    "UKcases=UKcases.set_index('date')\n",
    "UKdeaths=UKdeaths.set_index('date')\n",
    "\n",
    "x1 = UKcases.index\n",
    "x2 = UKdeaths.index\n",
    "y1 = UKcases.newCasesBySpecimenDate.values #drop .values if doing a line plot (see next cell*)\n",
    "y2 = UKdeaths.newDeaths28DaysByDeathDate.values #drop .values if doing a line plot (see next cell*)"
   ]
  },
  {
   "cell_type": "code",
   "execution_count": null,
   "metadata": {
    "slideshow": {
     "slide_type": "slide"
    }
   },
   "outputs": [],
   "source": [
    "from matplotlib.ticker import (MultipleLocator, FormatStrFormatter, AutoMinorLocator)\n",
    "\n",
    "fig, axes = plt.subplots(nrows=1, ncols=2, figsize=(20, 8))\n",
    "\n",
    "axes[0].bar(x1, y1,color='b') #.plot would give a line plot*\n",
    "axes[1].bar(x2, y2,color='r') #.plot would give a line plot*\n",
    "axes[0].xaxis.set_major_locator(MultipleLocator(28))\n",
    "axes[1].xaxis.set_major_locator(MultipleLocator(28))\n",
    "\n",
    "axes[0].tick_params(axis='both', which='major', labelsize=12)\n",
    "axes[1].tick_params(axis='both', which='major', labelsize=12)\n",
    "\n",
    "#axes[0].set_title('Cases (latest: ' + str(plot_df[\"cases\"][-1]) + ')')\n",
    "#axes[1].set_title('Deaths (latest: ' + str(plot_df[\"deaths\"][-1]) + ')')\n",
    "\n",
    "fig.suptitle(\"UK\", x= 0.5, y = 1.05, fontsize=16)\n",
    "plt.figtext(0.2, 0.7, 'Cases:\\n\\n Total ' + str(UKcases.newCasesBySpecimenDate.sum()) + '\\nLatest ' + str(UKcases.newCasesBySpecimenDate[-1]), fontsize=14, horizontalalignment='right')\n",
    "plt.figtext(0.9, 0.7, 'Deaths:\\n\\n Total ' + str(UKdeaths.newDeaths28DaysByDeathDate.sum()) + '\\nLatest ' + str(UKdeaths.newDeaths28DaysByDeathDate[-1]), fontsize=14, horizontalalignment='right')\n",
    "\n",
    "fig.tight_layout()"
   ]
  },
  {
   "cell_type": "markdown",
   "metadata": {
    "slideshow": {
     "slide_type": "skip"
    }
   },
   "source": [
    "<a id='LatestUKRegions'></a>\n",
    "### Latest UK-regions"
   ]
  },
  {
   "cell_type": "code",
   "execution_count": null,
   "metadata": {
    "slideshow": {
     "slide_type": "skip"
    }
   },
   "outputs": [],
   "source": [
    "UKregions_cases = pd.read_csv(\"https://developertools.esd.org.uk/csv?dataUrl=https%3A%2F%2Fwebservices.esd.org.uk%2Fdata%3Fvalue.valueType%3Draw%26metricType%3D13226%252C13227%252C13368%252C13369%26area%3DE92000001%252CAllRegions_England%252CAllLaInCountry_England%26period%3Dlatest%253A30%26query2.value.valueType%3Draw%26query2.virtualMetricType.numerator%3D13226%26query2.virtualMetricType.denominator%3D3281%26query2.virtualMetricType.multiple%3D100000.0%26query2.virtualMetricType.label%3DDaily%2520lab-confirmed%2520cases%2520of%2520COVID-19%2520per%2520100%26query2.virtualMetricType.identifier%3D13226%252F3281*100000.0%26query2.virtualMetricType.type%3DvirtualMetricType%26query3.value.valueType%3Draw%26query3.virtualMetricType.numerator%3D13227%26query3.virtualMetricType.denominator%3D3281%26query3.virtualMetricType.multiple%3D100000.0%26query3.virtualMetricType.label%3DCumulative%2520lab-confirmed%2520cases%2520of%2520COVID-19%2520per%2520100%26query3.virtualMetricType.identifier%3D13227%252F3281*100000.0%26query3.virtualMetricType.type%3DvirtualMetricType%26query4.value.valueType%3Draw%26query4.virtualMetricType.numerator%3D13368%26query4.virtualMetricType.denominator%3D3281%26query4.virtualMetricType.multiple%3D100000.0%26query4.virtualMetricType.label%3DDaily%2520COVID-19%2520associated%2520deaths%2520per%2520100%26query4.virtualMetricType.identifier%3D13368%252F3281*100000.0%26query4.virtualMetricType.type%3DvirtualMetricType%26query5.value.valueType%3Draw%26query5.virtualMetricType.numerator%3D13369%26query5.virtualMetricType.denominator%3D3281%26query5.virtualMetricType.multiple%3D100000.0%26query5.virtualMetricType.label%3DCumulative%2520COVID-19%2520associated%2520deaths%2520per%2520100%26query5.virtualMetricType.identifier%3D13369%252F3281*100000.0%26query5.virtualMetricType.type%3DvirtualMetricType%26columnGrouping%3DmetricType%26columnGrouping%3Dperiod%26rowGrouping%3Darea%26ApplicationKey%3DExamplePPK%26Signature%3DtNu9Wu55TNlZy9jS2tPGNRV18DU%3D\")\n",
    "UKregions_cases.head()"
   ]
  },
  {
   "cell_type": "code",
   "execution_count": null,
   "metadata": {
    "slideshow": {
     "slide_type": "skip"
    }
   },
   "outputs": [],
   "source": [
    "UKregions_deaths = pd.read_excel(\"https://www.england.nhs.uk/statistics/wp-content/uploads/sites/2/2021/01/COVID-19-total-announced-deaths-1-January-2021.xlsx\", sheet_name = \"Tab1 Deaths by region\", header = 15)\n",
    "UKregions_deaths"
   ]
  },
  {
   "cell_type": "code",
   "execution_count": null,
   "metadata": {
    "slideshow": {
     "slide_type": "skip"
    }
   },
   "outputs": [],
   "source": []
  },
  {
   "cell_type": "markdown",
   "metadata": {
    "slideshow": {
     "slide_type": "skip"
    }
   },
   "source": [
    "<a id='LatestUKHealthcare'></a>\n",
    "### Latest UK-healthcare"
   ]
  },
  {
   "cell_type": "code",
   "execution_count": null,
   "metadata": {
    "slideshow": {
     "slide_type": "skip"
    }
   },
   "outputs": [],
   "source": [
    "UKhealthcare = pd.read_csv(\"https://coronavirus.data.gov.uk/api/v1/data?filters=areaType=overview&structure=%7B%22areaType%22:%22areaType%22,%22areaName%22:%22areaName%22,%22areaCode%22:%22areaCode%22,%22date%22:%22date%22,%22newAdmissions%22:%22newAdmissions%22,%22cumAdmissions%22:%22cumAdmissions%22%7D&format=csv\")\n",
    "UKhealthcare.head()"
   ]
  },
  {
   "cell_type": "markdown",
   "metadata": {
    "slideshow": {
     "slide_type": "skip"
    }
   },
   "source": [
    "<a id='LatestUKTesting'></a>\n",
    "### Latest UK-testing"
   ]
  },
  {
   "cell_type": "code",
   "execution_count": null,
   "metadata": {
    "slideshow": {
     "slide_type": "skip"
    }
   },
   "outputs": [],
   "source": [
    "UKtesting = pd.read_csv(\"https://coronavirus.data.gov.uk/api/v1/data?filters=areaName=United%2520Kingdom;areaType=overview&structure=%7B%22areaType%22:%22areaType%22,%22areaName%22:%22areaName%22,%22areaCode%22:%22areaCode%22,%22date%22:%22date%22,%22newVirusTests%22:%22newVirusTests%22,%22cumVirusTests%22:%22cumVirusTests%22%7D&format=csv\")\n",
    "UKtesting.head()"
   ]
  },
  {
   "cell_type": "markdown",
   "metadata": {
    "slideshow": {
     "slide_type": "slide"
    }
   },
   "source": [
    "<a id='Countries_from14Dec20'></a>\n",
    "### Quick Run - Country Breakdown (weekly from 14Dec20)"
   ]
  },
  {
   "cell_type": "markdown",
   "metadata": {
    "slideshow": {
     "slide_type": "skip"
    }
   },
   "source": [
    "first explore the data"
   ]
  },
  {
   "cell_type": "code",
   "execution_count": null,
   "metadata": {
    "slideshow": {
     "slide_type": "skip"
    }
   },
   "outputs": [],
   "source": [
    "allData_from14Dec20.head()"
   ]
  },
  {
   "cell_type": "code",
   "execution_count": null,
   "metadata": {
    "slideshow": {
     "slide_type": "skip"
    }
   },
   "outputs": [],
   "source": [
    "# check unique enrries in indicator column\n",
    "allData_from14Dec20.indicator.unique()"
   ]
  },
  {
   "cell_type": "code",
   "execution_count": null,
   "metadata": {
    "slideshow": {
     "slide_type": "skip"
    }
   },
   "outputs": [],
   "source": [
    "# isolate cases and deaths in separate columns\n",
    "\n",
    "allData_from14Dec20.pivot(index=['country', 'year_week'], columns='indicator', values='rate_14_day').reset_index()"
   ]
  },
  {
   "cell_type": "code",
   "execution_count": null,
   "metadata": {
    "slideshow": {
     "slide_type": "skip"
    }
   },
   "outputs": [],
   "source": [
    "allData_from14Dec20.loc[allData_from14Dec20['country'] == \"United Kingdom\"]"
   ]
  },
  {
   "cell_type": "code",
   "execution_count": null,
   "metadata": {
    "slideshow": {
     "slide_type": "subslide"
    }
   },
   "outputs": [],
   "source": [
    "allData_from14Dec20 = pd.read_excel(\"https://opendata.ecdc.europa.eu/covid19/nationalcasedeath/xlsx\")\n",
    "\n",
    "userOptions = wd.Dropdown(\n",
    "        options=allData_from14Dec20.country.unique(),\n",
    "        value='Afghanistan',\n",
    "        description='Countries:',\n",
    "        disabled=False\n",
    "        )\n",
    "\n",
    "display(userOptions)"
   ]
  },
  {
   "cell_type": "code",
   "execution_count": null,
   "metadata": {
    "slideshow": {
     "slide_type": "subslide"
    }
   },
   "outputs": [],
   "source": [
    "userCountry =userOptions.value\n",
    "\n",
    "filtered_df_from14Dec20 = allData_from14Dec20.loc[allData_from14Dec20['country'] == userCountry] #region filter\n",
    "\n",
    "filtered_df_from14Dec20.head()\n",
    "\n",
    "# Plotting\n",
    "\n",
    "# config\n",
    "from datetime import datetime as dt\n",
    "\n",
    "# pivot so that cases and deaths in unique columns for plotting below\n",
    "plot_df_from14Dec20=filtered_df_from14Dec20.pivot(index=['country', 'year_week'], columns='indicator', values='weekly_count').reset_index()"
   ]
  },
  {
   "cell_type": "code",
   "execution_count": null,
   "metadata": {
    "slideshow": {
     "slide_type": "skip"
    }
   },
   "outputs": [],
   "source": [
    "plot_df_from14Dec20.tail()"
   ]
  },
  {
   "cell_type": "code",
   "execution_count": null,
   "metadata": {
    "slideshow": {
     "slide_type": "subslide"
    }
   },
   "outputs": [],
   "source": [
    "#change to simpler date format, dont need year\n",
    "#plot_df['year_week'] = plot_df['year_week'].dt.strftime('%d-%b')\n",
    "#sortindex in descending order so that x-axes moves left to right from historic to present\n",
    "#plot_df=plot_df.sort_index(axis=0, ascending=False)\n",
    "#set date as new index for plotting\n",
    "plot_df_from14Dec20=plot_df_from14Dec20.set_index('year_week')\n",
    "\n",
    "x1 = plot_df_from14Dec20.index\n",
    "x2 = plot_df_from14Dec20.index\n",
    "y1 = plot_df_from14Dec20.cases.values #drop .values if doing a line plot (see next cell*)\n",
    "y2 = plot_df_from14Dec20.deaths.values #drop .values if doing a line plot (see next cell*)"
   ]
  },
  {
   "cell_type": "code",
   "execution_count": null,
   "metadata": {
    "slideshow": {
     "slide_type": "skip"
    }
   },
   "outputs": [],
   "source": [
    "plot_df_from14Dec20.columns"
   ]
  },
  {
   "cell_type": "code",
   "execution_count": null,
   "metadata": {
    "slideshow": {
     "slide_type": "slide"
    }
   },
   "outputs": [],
   "source": [
    "from matplotlib.ticker import (MultipleLocator, FormatStrFormatter, AutoMinorLocator)\n",
    "\n",
    "fig, axes = plt.subplots(nrows=1, ncols=2, figsize=(20, 8))\n",
    "\n",
    "axes[0].bar(x1, y1,color='b') #.plot would give a line plot*\n",
    "axes[1].bar(x2, y2,color='r') #.plot would give a line plot*\n",
    "axes[0].xaxis.set_major_locator(MultipleLocator(10))\n",
    "axes[1].xaxis.set_major_locator(MultipleLocator(10))\n",
    "\n",
    "axes[0].tick_params(axis='both', which='major', labelsize=12)\n",
    "axes[1].tick_params(axis='both', which='major', labelsize=12)\n",
    "\n",
    "axes[0].get_yaxis().set_major_formatter(plt.FuncFormatter(lambda x, loc: \"{:,}\".format(int(x))))\n",
    "axes[1].get_yaxis().set_major_formatter(plt.FuncFormatter(lambda x, loc: \"{:,}\".format(int(x))))\n",
    "\n",
    "# check also below link to convert week number to date\n",
    "# https://stackoverflow.com/questions/17087314/get-date-from-week-number\n",
    "\n",
    "#axes[0].set_title('Cases (latest: ' + str(plot_df[\"cases\"][-1]) + ')')\n",
    "#axes[1].set_title('Deaths (latest: ' + str(plot_df[\"deaths\"][-1]) + ')')\n",
    "\n",
    "fig.suptitle(userCountry + \": weekly Covid trend\", x= 0.5, y = 1.05, fontsize=16)\n",
    "axes[0].set_xlabel(\"Week Number\")\n",
    "axes[1].set_xlabel(\"Week Number\")\n",
    "plt.figtext(0.2, 0.7, 'Cases:\\n\\n Total ' + str(round(plot_df_from14Dec20.cases.sum())) + '\\nLatest ' + str(round(plot_df_from14Dec20[\"cases\"][-1])), fontsize=14, horizontalalignment='right')\n",
    "plt.figtext(0.9, 0.7, 'Deaths:\\n\\n Total ' + str(round(plot_df_from14Dec20.deaths.sum())) + '\\nLatest ' + str(round(plot_df_from14Dec20[\"deaths\"][-1])), fontsize=14, horizontalalignment='right')\n",
    "\n",
    "fig.tight_layout()"
   ]
  },
  {
   "cell_type": "markdown",
   "metadata": {
    "slideshow": {
     "slide_type": "slide"
    }
   },
   "source": [
    "<a id='UK_Forecast_daily'></a>\n",
    "### UK Forecast - daily"
   ]
  },
  {
   "cell_type": "code",
   "execution_count": null,
   "metadata": {
    "slideshow": {
     "slide_type": "skip"
    }
   },
   "outputs": [],
   "source": [
    "#one off install\n",
    "#!conda install -c conda-forge fbprophet -y"
   ]
  },
  {
   "cell_type": "markdown",
   "metadata": {
    "slideshow": {
     "slide_type": "skip"
    }
   },
   "source": [
    "Reference for below:\n",
    "https://machinelearningmastery.com/time-series-forecasting-with-prophet-in-python/"
   ]
  },
  {
   "cell_type": "code",
   "execution_count": null,
   "metadata": {
    "slideshow": {
     "slide_type": "skip"
    }
   },
   "outputs": [],
   "source": [
    "# cross-validation - used for hyperparameter tuning below\n",
    "\n",
    "# Python\n",
    "import itertools\n",
    "import numpy as np\n",
    "import pandas as pd\n",
    "\n",
    "from fbprophet.diagnostics import cross_validation\n",
    "from fbprophet.diagnostics import performance_metrics\n",
    "\n",
    "param_grid = {  \n",
    "    'changepoint_prior_scale': [0.001, 0.01, 0.1, 0.5],\n",
    "    'seasonality_prior_scale': [0.01, 0.1, 1.0, 10.0],\n",
    "}\n",
    "\n",
    "# Generate all combinations of parameters\n",
    "all_params = [dict(zip(param_grid.keys(), v)) for v in itertools.product(*param_grid.values())]\n",
    "rmses = []  # Store the RMSEs for each params here\n",
    "\n",
    "# Use cross validation to evaluate all parameters\n",
    "for params in all_params:\n",
    "    m = Prophet(**params).fit(df)  # Fit model with given params\n",
    "    df_cv = cross_validation(m, initial='56 days', period='28 days', horizon = '28 days',parallel=\"processes\")\n",
    "    df_p = performance_metrics(df_cv, rolling_window=1)\n",
    "    rmses.append(df_p['rmse'].values[0])\n",
    "\n",
    "# Find the best parameters\n",
    "tuning_results = pd.DataFrame(all_params)\n",
    "tuning_results['rmse'] = rmses\n",
    "print(tuning_results)"
   ]
  },
  {
   "cell_type": "code",
   "execution_count": null,
   "metadata": {
    "slideshow": {
     "slide_type": "slide"
    }
   },
   "outputs": [],
   "source": [
    "# make an in-sample forecast\n",
    "from pandas import read_csv#\n",
    "import datetime\n",
    "from pandas import to_datetime\n",
    "from pandas import DataFrame\n",
    "\n",
    "\n",
    "from fbprophet import Prophet\n",
    "\n",
    "\n",
    "#df=plot_df[\"deaths\"]\n",
    "df=UKdeaths.newDeaths28DaysByDeathDate\n",
    "\n",
    "df = df.iloc[1:] #ignore first row as starts from 31 Dec 2019\n",
    "df=df.reset_index()\n",
    "# prepare expected column names\n",
    "df.columns = ['ds', 'y']\n",
    "\n",
    "df['ds']= pd.to_datetime(df['ds'], format='%d-%b', errors='coerce') # we need to coerce erros as Feb 29th throws and error\n",
    "df=df.dropna() # we just drop Feb 29th from plot as not really required\n",
    "\n",
    "df['ds'] = df['ds'] + pd.DateOffset(years=120) # finally have to change default year of 1900\n",
    "\n",
    "# define the model\n",
    "#hyperparameters chosen from cross validation run below\n",
    "model = Prophet(yearly_seasonality=True, daily_seasonality=True, changepoint_prior_scale=0.01,seasonality_prior_scale=0.01,)\n",
    "# fit the model\n",
    "model.fit(df)\n",
    "\n",
    "# define the period for which we want a prediction\n",
    "future = list()\n",
    "for i in range(0, 366+365+1):\n",
    "    date = datetime.datetime(2020, 1, 1)\n",
    "    date += datetime.timedelta(days=i)\n",
    "    #date = '2020-%02d' % i\n",
    "    future.append([date])\n",
    "future = DataFrame(future)\n",
    "future.columns = ['ds']\n",
    "future['ds']= to_datetime(future['ds'])\n",
    "# use the model to make a forecast\n",
    "forecast = model.predict(future)\n",
    "# summarize the forecast\n",
    "print(forecast[['ds', 'yhat', 'yhat_lower', 'yhat_upper']].head())\n",
    "# plot forecast\n",
    "model.plot(forecast)\n",
    "\n",
    "plt.xlabel(\"Month\")\n",
    "plt.ylabel(\"Deaths\")\n",
    "\n",
    "plt.show()"
   ]
  },
  {
   "cell_type": "code",
   "execution_count": null,
   "metadata": {
    "slideshow": {
     "slide_type": "slide"
    }
   },
   "outputs": [],
   "source": [
    "model.plot(forecast)\n",
    "\n",
    "plt.xlabel(\"Month\")\n",
    "plt.ylabel(\"Deaths\")\n",
    "\n",
    "plt.show()"
   ]
  },
  {
   "cell_type": "markdown",
   "metadata": {
    "slideshow": {
     "slide_type": "slide"
    }
   },
   "source": [
    "<a id='Forecast_weekly'></a>\n",
    "### Country Forecast - weekly"
   ]
  },
  {
   "cell_type": "code",
   "execution_count": null,
   "metadata": {
    "slideshow": {
     "slide_type": "slide"
    }
   },
   "outputs": [],
   "source": [
    "# make an in-sample forecast\n",
    "\n",
    "df=plot_df_from14Dec20[\"deaths\"]\n",
    "\n",
    "df=df.reset_index()\n",
    "# prepare expected column names\n",
    "df.columns = ['ds', 'y']"
   ]
  },
  {
   "cell_type": "code",
   "execution_count": null,
   "metadata": {
    "slideshow": {
     "slide_type": "slide"
    }
   },
   "outputs": [],
   "source": [
    "# add on \"-1\" to date for week number conversion below to work\n",
    "df['ds'] = df['ds'] + '-1'\n",
    "\n",
    "df['ds'] = list(map(lambda x: datetime.datetime.strptime(x,'%G-%V-%u'), df['ds'] ))\n",
    "\n",
    "model = Prophet(yearly_seasonality=True, weekly_seasonality=True, daily_seasonality=True)\n",
    "# fit the model\n",
    "model.fit(df)\n",
    "\n",
    "# define the period for which we want a prediction\n",
    "future = list()\n",
    "for i in range(0, 366+365+1):\n",
    "    date = datetime.datetime(2020, 1, 1)\n",
    "    date += datetime.timedelta(days=i)\n",
    "    #date = '2020-%02d' % i\n",
    "    future.append([date])\n",
    "future = DataFrame(future)\n",
    "future.columns = ['ds']\n",
    "future['ds']= to_datetime(future['ds'])\n",
    "# use the model to make a forecast\n",
    "forecast = model.predict(future)\n",
    "# summarize the forecast\n",
    "print(forecast[['ds', 'yhat', 'yhat_lower', 'yhat_upper']].head())\n",
    "# plot forecast\n",
    "model.plot(forecast)\n",
    "\n",
    "plt.xlabel(\"Month\")\n",
    "plt.ylabel(\"Deaths\")\n",
    "\n",
    "plt.show()"
   ]
  },
  {
   "cell_type": "code",
   "execution_count": null,
   "metadata": {
    "slideshow": {
     "slide_type": "slide"
    }
   },
   "outputs": [],
   "source": [
    "model.plot(forecast)\n",
    "\n",
    "plt.xlabel(\"Month\")\n",
    "plt.ylabel(\"Weekly Deaths\")\n",
    "\n",
    "plt.show()"
   ]
  },
  {
   "cell_type": "markdown",
   "metadata": {
    "slideshow": {
     "slide_type": "slide"
    }
   },
   "source": [
    "<a id='Regions'></a>\n",
    "### Quick Run - Regional Breakdown"
   ]
  },
  {
   "cell_type": "code",
   "execution_count": null,
   "metadata": {
    "slideshow": {
     "slide_type": "subslide"
    }
   },
   "outputs": [],
   "source": [
    "#import live data\n",
    "US_Confirmed = pd.read_csv(\"https://raw.githubusercontent.com/CSSEGISandData/COVID-19/master/csse_covid_19_data/csse_covid_19_time_series/time_series_covid19_confirmed_US.csv\")\n",
    "Global_Confirmed = pd.read_csv(\"https://raw.githubusercontent.com/CSSEGISandData/COVID-19/master/csse_covid_19_data/csse_covid_19_time_series/time_series_covid19_confirmed_global.csv\")\n",
    "US_Deaths = pd.read_csv(\"https://raw.githubusercontent.com/CSSEGISandData/COVID-19/master/csse_covid_19_data/csse_covid_19_time_series/time_series_covid19_deaths_US.csv\")\n",
    "Global_Deaths = pd.read_csv(\"https://raw.githubusercontent.com/CSSEGISandData/COVID-19/master/csse_covid_19_data/csse_covid_19_time_series/time_series_covid19_deaths_global.csv\")\n",
    "Global_Recovered = pd.read_csv(\"https://raw.githubusercontent.com/CSSEGISandData/COVID-19/master/csse_covid_19_data/csse_covid_19_time_series/time_series_covid19_recovered_global.csv\")\n",
    "\n",
    "#we just want state break down so aggregate\n",
    "US_Confirmed = US_Confirmed.groupby('Province_State', as_index=False).sum() \n",
    "US_Deaths = US_Deaths.groupby('Province_State', as_index=False).sum() \n",
    "Global_Confirmed = Global_Confirmed.groupby('Province/State', as_index=False).sum() \n",
    "Global_Deaths = Global_Deaths.groupby('Province/State', as_index=False).sum() \n",
    "Global_Recovered = Global_Recovered.groupby('Province/State', as_index=False).sum() \n",
    "\n",
    "#Simplify and combine datasets for plotting\n",
    "\n",
    "#drop all columns except region and dates\n",
    "US_Confirmed = US_Confirmed.drop(columns=['UID', 'code3', 'FIPS', 'Lat', 'Long_'])\n",
    "US_Deaths = US_Deaths.drop(columns=['UID', 'code3', 'FIPS', 'Lat', 'Long_', 'Population'])\n",
    "Global_Confirmed = Global_Confirmed.drop(columns=['Lat','Long'])\n",
    "Global_Deaths = Global_Deaths.drop(columns=['Lat','Long'])\n",
    "Global_Recovered = Global_Recovered.drop(columns=['Lat','Long'])\n",
    "\n",
    "\n",
    "#put dates in long format, not wide\n",
    "US_Confirmed = US_Confirmed.melt(id_vars=\"Province_State\",var_name=\"Date\",value_name=\"Confirmed\")\n",
    "US_Deaths = US_Deaths.melt(id_vars=\"Province_State\",var_name=\"Date\",value_name=\"Deaths\")\n",
    "Global_Confirmed = Global_Confirmed.melt(id_vars=\"Province/State\",var_name=\"Date\",value_name=\"Confirmed\")\n",
    "Global_Deaths = Global_Deaths.melt(id_vars=\"Province/State\",var_name=\"Date\",value_name=\"Deaths\")\n",
    "Global_Recovered = Global_Recovered.melt(id_vars=\"Province/State\",var_name=\"Date\",value_name=\"Recovered\")\n",
    "\n",
    "\n",
    "# Join US Confirmed to Deaths\n",
    "US_all = US_Confirmed.merge(US_Deaths, on=['Province_State','Date'])\n",
    "Global_all = Global_Confirmed.merge(Global_Deaths, on=['Province/State','Date'])\n",
    "#and join with global recoveries\n",
    "Global_all = Global_all.merge(Global_Recovered, on=['Province/State','Date'])\n",
    "#rename column\n",
    "Global_all = Global_all.rename(columns={\"Province/State\": \"Province_State\"})\n",
    "\n",
    "#final dataset for plotting\n",
    "all = US_all.append(Global_all)"
   ]
  },
  {
   "cell_type": "code",
   "execution_count": null,
   "metadata": {
    "slideshow": {
     "slide_type": "slide"
    }
   },
   "outputs": [],
   "source": [
    "#user prompt for regions\n",
    "\n",
    "userOptionsRegion = wd.Dropdown(\n",
    "        options=all.Province_State.unique(),\n",
    "        value='American Samoa',\n",
    "        description='Regions:',\n",
    "        disabled=False\n",
    "        )\n",
    "\n",
    "display(userOptionsRegion)"
   ]
  },
  {
   "cell_type": "code",
   "execution_count": null,
   "metadata": {
    "slideshow": {
     "slide_type": "subslide"
    }
   },
   "outputs": [],
   "source": [
    "userRegion =userOptionsRegion.value\n",
    "\n",
    "filtered = all.loc[all['Province_State'] == userRegion] #region filter\n",
    "\n",
    "# need to change Date to datetime\n",
    "filtered[\"Date\"] = pd.to_datetime(filtered[\"Date\"])\n",
    "\n",
    "# take the differences from one day to the next to get back to daily totals\n",
    "filtered.Confirmed=filtered.Confirmed.diff()\n",
    "filtered.Deaths=filtered.Deaths.diff()\n",
    "filtered.Recovered=filtered.Recovered.diff()\n",
    "\n",
    "from datetime import datetime as dt\n",
    "\n",
    "#change to simpler date format, dont need year\n",
    "filtered['Date'] = filtered['Date'].dt.strftime('%d-%b')\n",
    "\n",
    "#set date as new index for plotting\n",
    "filtered=filtered.set_index('Date')\n",
    "\n",
    "x1 = filtered.index\n",
    "x2 = filtered.index\n",
    "y1 = filtered.Confirmed.values #drop .values if doing a line plot (see next cell*)\n",
    "y2 = filtered.Deaths.values #drop .values if doing a line plot (see next cell*)"
   ]
  },
  {
   "cell_type": "code",
   "execution_count": null,
   "metadata": {
    "slideshow": {
     "slide_type": "slide"
    }
   },
   "outputs": [],
   "source": [
    "from matplotlib.ticker import (MultipleLocator, FormatStrFormatter,AutoMinorLocator)\n",
    "\n",
    "fig, axes = plt.subplots(nrows=1, ncols=2, figsize=(20, 8))\n",
    "\n",
    "axes[0].bar(x1, y1,color='b') #.plot would give a line plot*\n",
    "axes[1].bar(x2, y2,color='r') #.plot would give a line plot*\n",
    "axes[0].xaxis.set_major_locator(MultipleLocator(28))\n",
    "axes[1].xaxis.set_major_locator(MultipleLocator(28))\n",
    "\n",
    "fig.suptitle(userRegion, x= 0.5, y = 1.05, fontsize=16)\n",
    "plt.figtext(0.2, 0.7, 'Cases:\\n\\n Total ' + str(filtered.Confirmed.sum()) + '\\nLatest ' + str(filtered[\"Confirmed\"][-1]), horizontalalignment='right')\n",
    "plt.figtext(0.7, 0.7, 'Deaths:\\n\\n Total ' + str(filtered.Deaths.sum()) + '\\nLatest ' + str(filtered[\"Deaths\"][-1]), horizontalalignment='right')\n",
    "\n",
    "fig.tight_layout()"
   ]
  },
  {
   "cell_type": "code",
   "execution_count": null,
   "metadata": {
    "slideshow": {
     "slide_type": "skip"
    }
   },
   "outputs": [],
   "source": []
  },
  {
   "cell_type": "markdown",
   "metadata": {
    "slideshow": {
     "slide_type": "slide"
    }
   },
   "source": [
    "## Full Run - Top 10 Country View"
   ]
  },
  {
   "cell_type": "code",
   "execution_count": null,
   "metadata": {
    "slideshow": {
     "slide_type": "subslide"
    }
   },
   "outputs": [],
   "source": [
    "import pandas as pd\n",
    "import numpy as np\n",
    "import matplotlib.pyplot as plt\n",
    "\n",
    "%matplotlib inline\n",
    "\n",
    "#for dropdown widget \n",
    "from ipywidgets import widgets as wd \n",
    "from IPython.display import display\n",
    "\n",
    "import datetime\n",
    "import os \n",
    "\n",
    "allData = pd.read_excel(\"https://www.ecdc.europa.eu/sites/default/files/documents/COVID-19-geographic-disbtribution-worldwide.xlsx\")\n",
    "\n",
    "allData.head()\n",
    "\n",
    "#and John Hopkins data\n",
    "\n",
    "lastDataDate = datetime.date.strftime(datetime.date.today()- datetime.timedelta(1),\"%m-%d-%Y\")\n",
    "\n",
    "enigma = pd.read_csv(os.path.join(\"https://raw.githubusercontent.com/CSSEGISandData/COVID-19/master/csse_covid_19_data/csse_covid_19_daily_reports/\", lastDataDate + \".csv\"))"
   ]
  },
  {
   "cell_type": "markdown",
   "metadata": {
    "slideshow": {
     "slide_type": "slide"
    }
   },
   "source": [
    "### Enigma / John Hopkins University data exploration"
   ]
  },
  {
   "cell_type": "code",
   "execution_count": null,
   "metadata": {
    "slideshow": {
     "slide_type": "slide"
    }
   },
   "outputs": [],
   "source": [
    "enigma.head()"
   ]
  },
  {
   "cell_type": "code",
   "execution_count": null,
   "metadata": {
    "slideshow": {
     "slide_type": "-"
    }
   },
   "outputs": [],
   "source": [
    "enigma.tail()"
   ]
  },
  {
   "cell_type": "code",
   "execution_count": null,
   "metadata": {
    "slideshow": {
     "slide_type": "-"
    }
   },
   "outputs": [],
   "source": [
    "enigma.shape"
   ]
  },
  {
   "cell_type": "code",
   "execution_count": null,
   "metadata": {
    "slideshow": {
     "slide_type": "-"
    }
   },
   "outputs": [],
   "source": [
    "enigma.nunique()"
   ]
  },
  {
   "cell_type": "code",
   "execution_count": null,
   "metadata": {
    "slideshow": {
     "slide_type": "-"
    }
   },
   "outputs": [],
   "source": [
    "enigma.Country_Region.unique()"
   ]
  },
  {
   "cell_type": "code",
   "execution_count": null,
   "metadata": {},
   "outputs": [],
   "source": [
    "enigma.Province_State.unique()"
   ]
  },
  {
   "cell_type": "markdown",
   "metadata": {
    "slideshow": {
     "slide_type": "slide"
    }
   },
   "source": [
    "### Enigma / John Hopkins plot"
   ]
  },
  {
   "cell_type": "code",
   "execution_count": null,
   "metadata": {
    "slideshow": {
     "slide_type": "slide"
    }
   },
   "outputs": [],
   "source": [
    "#de-one hot encode by adding a single status column for deaths, recovered and active\n",
    "enigmaReportCols = [\"Deaths\",\"Recovered\",\"Active\"]\n",
    "\n",
    "meltedEnigma = enigma.melt(id_vars=enigma.drop(enigmaReportCols, axis=1), value_vars=enigmaReportCols, var_name=['Status'], value_name='Number') # Melting"
   ]
  },
  {
   "cell_type": "code",
   "execution_count": null,
   "metadata": {},
   "outputs": [],
   "source": [
    "meltedEnigma.head()"
   ]
  },
  {
   "cell_type": "code",
   "execution_count": null,
   "metadata": {},
   "outputs": [],
   "source": [
    "meltedEnigma.shape"
   ]
  },
  {
   "cell_type": "code",
   "execution_count": null,
   "metadata": {
    "slideshow": {
     "slide_type": "slide"
    }
   },
   "outputs": [],
   "source": [
    "#display as a grouped DF by country, sorted in descending order of confirmed cases \n",
    "meltedEnigmaSummary = meltedEnigma.groupby(['Country_Region','Status']).sum()\n",
    "meltedEnigmaSummary.head()\n",
    "meltedEnigmaSummary.shape\n",
    "meltedEnigmaSummary=pd.DataFrame(meltedEnigmaSummary.to_records())\n",
    "meltedEnigmaSummary = meltedEnigmaSummary.sort_values(['Confirmed'],ascending = False)\n",
    "meltedEnigmaSummary=meltedEnigmaSummary.head(30)\n",
    "\n",
    "#get top10 countries by confirmed cases\n",
    "top10=meltedEnigmaSummary.head(30).Country_Region.unique()\n",
    "top10\n",
    "top10_enigma = enigma[enigma[\"Country_Region\"].isin(top10)]\n",
    "top10_enigma_stats=top10_enigma[[\"Country_Region\",\"Deaths\",\"Recovered\",\"Active\",\"Confirmed\"]]\n",
    "top10_enigma_stats=top10_enigma_stats.groupby(\"Country_Region\").sum()\n",
    "top10_enigma_stats=top10_enigma_stats.sort_values(['Confirmed'],ascending = False)"
   ]
  },
  {
   "cell_type": "code",
   "execution_count": null,
   "metadata": {
    "scrolled": true,
    "slideshow": {
     "slide_type": "slide"
    }
   },
   "outputs": [],
   "source": [
    "#see also this link for adding datatable below\n",
    "#https://matplotlib.org/3.1.1/gallery/misc/table_demo.html#sphx-glr-gallery-misc-table-demo-py\n",
    "\n",
    "import numpy as np\n",
    "import matplotlib.pyplot as plt\n",
    "from matplotlib.ticker import FormatStrFormatter\n",
    "\n",
    "A = top10_enigma_stats.Deaths\n",
    "B = top10_enigma_stats.Recovered\n",
    "C = top10_enigma_stats.Active\n",
    "\n",
    "fig = plt.figure(facecolor=\"white\",figsize=(15,8))\n",
    "plt.title(\"Confirmed Cases by Country\", fontsize=18)\n",
    "\n",
    "ax = fig.add_subplot(1, 1, 1)\n",
    "bar_width = 0.5\n",
    "bar_l = np.arange(1, 11)\n",
    "tick_pos = [i-0.5 + bar_width for i in bar_l]\n",
    "\n",
    "ax1 = ax.bar(bar_l, A, width=bar_width, label=\"deaths\", color=\"red\") #deaths\n",
    "ax2 = ax.bar(bar_l, B, bottom=A, width=bar_width, label=\"recovered\", color=\"green\") #recovered\n",
    "ax3 = ax.bar(bar_l, C, bottom=A+B, width=bar_width, label=\"active\", color=\"orange\") #active\n",
    "\n",
    "ax.set_ylabel(\"Count (k)\", fontsize=14)\n",
    "ax.get_yaxis().set_major_formatter(plt.FuncFormatter(lambda x, loc: \"{:,}\".format(int(x))))\n",
    "\n",
    "#ax.set_xlabel(\"Country\", fontsize=18)\n",
    "ax.legend(loc=\"best\")\n",
    "plt.xticks(tick_pos, top10, fontsize=10)\n",
    "plt.yticks(fontsize=14)\n",
    "\n",
    "for r1, r2, r3 in zip(ax1, ax2, ax3):\n",
    "    h1 = r1.get_height()\n",
    "    h2 = r2.get_height()\n",
    "    h3 = r3.get_height()\n",
    "#     plt.text(r1.get_x() + r1.get_width()-0.25  , 10 , \"%d\" % h1, ha=\"center\", va=\"center\", color=\"white\", fontsize=10, fontweight=\"bold\")\n",
    "#     plt.text(r2.get_x() + r2.get_width()-0.25  , h1 + h2 / 3., \"%d\" % h2, ha=\"center\", va=\"bottom\", color=\"white\", fontsize=10, fontweight=\"bold\")\n",
    "#     plt.text(r3.get_x() + r3.get_width() -0.25 , h1 + h2 + h3 / 3., \"%d\" % h3, ha=\"center\", va=\"bottom\", color=\"black\", fontsize=10, fontweight=\"bold\")\n",
    "\n",
    "    plt.text(r1.get_x() + r1.get_width()-0.25  , 100 , f'{h1:,}', ha=\"center\", va=\"bottom\", color=\"white\", fontsize=10, fontweight=\"bold\")\n",
    "    plt.text(r2.get_x() + r2.get_width()-0.25  , h1 + h2 / 3., f'{h2:,}', ha=\"center\", va=\"bottom\", color=\"white\", fontsize=10,fontweight=\"bold\")\n",
    "    plt.text(r3.get_x() + r3.get_width() -0.25 , h1 + h2 + h3 / 3., f'{h3:,}', ha=\"center\", va=\"bottom\", color=\"black\", fontsize=10, fontweight=\"bold\")"
   ]
  },
  {
   "cell_type": "code",
   "execution_count": null,
   "metadata": {
    "slideshow": {
     "slide_type": "slide"
    }
   },
   "outputs": [],
   "source": [
    "fig"
   ]
  },
  {
   "cell_type": "code",
   "execution_count": null,
   "metadata": {
    "slideshow": {
     "slide_type": "slide"
    }
   },
   "outputs": [],
   "source": [
    "top10_enigma_stats"
   ]
  },
  {
   "cell_type": "markdown",
   "metadata": {
    "slideshow": {
     "slide_type": "slide"
    }
   },
   "source": [
    "### Filter by Country"
   ]
  },
  {
   "cell_type": "code",
   "execution_count": null,
   "metadata": {
    "slideshow": {
     "slide_type": "skip"
    }
   },
   "outputs": [],
   "source": [
    "#alternative\n",
    "\n",
    "# List of countries\n",
    "\n",
    "print(allData.countriesAndTerritories.unique())\n",
    "\n",
    "#alternative\n",
    "\n",
    "#userCountry = input(\"\\nchoose a country: \")"
   ]
  },
  {
   "cell_type": "code",
   "execution_count": null,
   "metadata": {
    "slideshow": {
     "slide_type": "slide"
    }
   },
   "outputs": [],
   "source": [
    "userOptions = wd.Dropdown(\n",
    "        options=allData.countriesAndTerritories.unique(),\n",
    "        value='Afghanistan',\n",
    "        description='Countries:',\n",
    "        disabled=False\n",
    "        )\n",
    "\n",
    "display(userOptions)"
   ]
  },
  {
   "cell_type": "code",
   "execution_count": null,
   "metadata": {
    "slideshow": {
     "slide_type": "slide"
    }
   },
   "outputs": [],
   "source": [
    "userCountry =userOptions.value\n",
    "\n",
    "filtered_df = allData.loc[allData['countriesAndTerritories'] == userCountry] #region filter\n",
    "\n",
    "filtered_df.head()"
   ]
  },
  {
   "cell_type": "code",
   "execution_count": null,
   "metadata": {
    "slideshow": {
     "slide_type": "skip"
    }
   },
   "outputs": [],
   "source": [
    "filtered_df.dtypes"
   ]
  },
  {
   "cell_type": "markdown",
   "metadata": {
    "slideshow": {
     "slide_type": "slide"
    }
   },
   "source": [
    "### Plotting"
   ]
  },
  {
   "cell_type": "code",
   "execution_count": null,
   "metadata": {
    "slideshow": {
     "slide_type": "slide"
    }
   },
   "outputs": [],
   "source": [
    "# config\n",
    "from datetime import datetime as dt\n",
    "\n",
    "plot_df=filtered_df # copy just for plotting\n",
    "\n",
    "#change to simpler date format, dont need year\n",
    "plot_df['dateRep'] = plot_df['dateRep'].dt.strftime('%d-%b')\n",
    "#sortindex in descending order so that x-axes moves eft to right from historic to present\n",
    "plot_df=plot_df.sort_index(axis=0, ascending=False)\n",
    "#set date as new index for plotting\n",
    "plot_df=plot_df.set_index('dateRep')\n",
    "\n",
    "x1 = plot_df.index\n",
    "x2 = plot_df.index\n",
    "y1 = plot_df.cases.values #drop .values if doing a line plot (see next cell*)\n",
    "y2 = plot_df.deaths.values #drop .values if doing a line plot (see next cell*)\n",
    "\n",
    "from matplotlib.ticker import (MultipleLocator, FormatStrFormatter,\n",
    "                               AutoMinorLocator)"
   ]
  },
  {
   "cell_type": "code",
   "execution_count": null,
   "metadata": {
    "slideshow": {
     "slide_type": "slide"
    }
   },
   "outputs": [],
   "source": [
    "fig, axes = plt.subplots(nrows=1, ncols=2, figsize=(12, 5))\n",
    "\n",
    "axes[0].bar(x1, y1,color='b') #.plot would give a line plot*\n",
    "axes[1].bar(x2, y2,color='r') #.plot would give a line plot*\n",
    "axes[0].xaxis.set_major_locator(MultipleLocator(28))\n",
    "axes[1].xaxis.set_major_locator(MultipleLocator(28))\n",
    "\n",
    "#axes[0].set_title('Cases (latest: ' + str(plot_df[\"cases\"][-1]) + ')')\n",
    "#axes[1].set_title('Deaths (latest: ' + str(plot_df[\"deaths\"][-1]) + ')')\n",
    "\n",
    "fig.suptitle(userCountry, x= 0.5, y = 1.05, fontsize=16)\n",
    "plt.figtext(0.2, 0.7, 'Cases:\\n\\n Total ' + str(plot_df.cases.sum()) + '\\nLatest ' + str(plot_df[\"cases\"][-1]), horizontalalignment='right')\n",
    "plt.figtext(0.7, 0.7, 'Deaths:\\n\\n Total ' + str(plot_df.deaths.sum()) + '\\nLatest ' + str(plot_df[\"deaths\"][-1]), horizontalalignment='right')\n",
    "\n",
    "fig.tight_layout()"
   ]
  },
  {
   "cell_type": "markdown",
   "metadata": {
    "slideshow": {
     "slide_type": "slide"
    }
   },
   "source": [
    "### Filter by Region"
   ]
  },
  {
   "cell_type": "code",
   "execution_count": null,
   "metadata": {
    "slideshow": {
     "slide_type": "slide"
    }
   },
   "outputs": [],
   "source": [
    "#libraries again if needed\n",
    "\n",
    "import pandas as pd\n",
    "import numpy as np\n",
    "import matplotlib.pyplot as plt\n",
    "\n",
    "%matplotlib inline\n",
    "\n",
    "#for dropdown widget \n",
    "from ipywidgets import widgets as wd \n",
    "from IPython.display import display\n",
    "\n",
    "import datetime\n",
    "import os "
   ]
  },
  {
   "cell_type": "code",
   "execution_count": null,
   "metadata": {},
   "outputs": [],
   "source": [
    "US_Confirmed = pd.read_csv(\"https://raw.githubusercontent.com/CSSEGISandData/COVID-19/master/csse_covid_19_data/csse_covid_19_time_series/time_series_covid19_confirmed_US.csv\")\n",
    "Global_Confirmed = pd.read_csv(\"https://raw.githubusercontent.com/CSSEGISandData/COVID-19/master/csse_covid_19_data/csse_covid_19_time_series/time_series_covid19_confirmed_global.csv\")\n",
    "US_Deaths = pd.read_csv(\"https://raw.githubusercontent.com/CSSEGISandData/COVID-19/master/csse_covid_19_data/csse_covid_19_time_series/time_series_covid19_deaths_US.csv\")\n",
    "Global_Deaths = pd.read_csv(\"https://raw.githubusercontent.com/CSSEGISandData/COVID-19/master/csse_covid_19_data/csse_covid_19_time_series/time_series_covid19_deaths_global.csv\")\n",
    "Global_Recovered = pd.read_csv(\"https://raw.githubusercontent.com/CSSEGISandData/COVID-19/master/csse_covid_19_data/csse_covid_19_time_series/time_series_covid19_recovered_global.csv\")"
   ]
  },
  {
   "cell_type": "code",
   "execution_count": null,
   "metadata": {},
   "outputs": [],
   "source": [
    "#we just want state break down so aggregate\n",
    "US_Confirmed = US_Confirmed.groupby('Province_State', as_index=False).sum() \n",
    "US_Deaths = US_Deaths.groupby('Province_State', as_index=False).sum() "
   ]
  },
  {
   "cell_type": "code",
   "execution_count": null,
   "metadata": {},
   "outputs": [],
   "source": [
    "Global_Confirmed = Global_Confirmed.groupby('Province/State', as_index=False).sum() \n",
    "Global_Deaths = Global_Deaths.groupby('Province/State', as_index=False).sum() \n",
    "Global_Recovered = Global_Recovered.groupby('Province/State', as_index=False).sum() "
   ]
  },
  {
   "cell_type": "markdown",
   "metadata": {},
   "source": [
    "####  Simplify and combine datasets for plotting"
   ]
  },
  {
   "cell_type": "code",
   "execution_count": null,
   "metadata": {},
   "outputs": [],
   "source": [
    "#drop all columns except region and dates\n",
    "US_Confirmed = US_Confirmed.drop(columns=['UID', 'code3', 'FIPS', 'Lat', 'Long_'])\n",
    "#put dates in long format, not wide\n",
    "US_Confirmed = US_Confirmed.melt(id_vars=\"Province_State\",var_name=\"Date\",value_name=\"Confirmed\")"
   ]
  },
  {
   "cell_type": "code",
   "execution_count": null,
   "metadata": {},
   "outputs": [],
   "source": [
    "#drop all columns except region and dates\n",
    "US_Deaths = US_Deaths.drop(columns=['UID', 'code3', 'FIPS', 'Lat', 'Long_', 'Population'])\n",
    "#put dates in long format, not wide\n",
    "US_Deaths = US_Deaths.melt(id_vars=\"Province_State\",var_name=\"Date\",value_name=\"Deaths\")"
   ]
  },
  {
   "cell_type": "code",
   "execution_count": null,
   "metadata": {},
   "outputs": [],
   "source": [
    "# Join US Confirmed to Deaths\n",
    "US_all = US_Confirmed.merge(US_Deaths, on=['Province_State','Date'])"
   ]
  },
  {
   "cell_type": "code",
   "execution_count": null,
   "metadata": {},
   "outputs": [],
   "source": [
    "#Global Confirmed\n",
    "#drop all columns except region and dates\n",
    "Global_Confirmed = Global_Confirmed.drop(columns=['Lat','Long'])\n",
    "#put dates in long format, not wide\n",
    "Global_Confirmed = Global_Confirmed.melt(id_vars=\"Province/State\",var_name=\"Date\",value_name=\"Confirmed\")"
   ]
  },
  {
   "cell_type": "code",
   "execution_count": null,
   "metadata": {},
   "outputs": [],
   "source": [
    "#Global Confirmed\n",
    "#drop all columns except region and dates\n",
    "Global_Deaths = Global_Deaths.drop(columns=['Lat','Long'])\n",
    "#put dates in long format, not wide\n",
    "Global_Deaths = Global_Deaths.melt(id_vars=\"Province/State\",var_name=\"Date\",value_name=\"Deaths\")"
   ]
  },
  {
   "cell_type": "code",
   "execution_count": null,
   "metadata": {
    "scrolled": true
   },
   "outputs": [],
   "source": [
    "#Global Recovered\n",
    "#drop all columns except region and dates\n",
    "Global_Recovered = Global_Recovered.drop(columns=['Lat','Long'])\n",
    "#put dates in long format, not wide\n",
    "Global_Recovered = Global_Recovered.melt(id_vars=\"Province/State\",var_name=\"Date\",value_name=\"Recovered\")"
   ]
  },
  {
   "cell_type": "code",
   "execution_count": null,
   "metadata": {},
   "outputs": [],
   "source": [
    "# Join Global datasets\n",
    "Global_all = Global_Confirmed.merge(Global_Deaths, on=['Province/State','Date'])\n"
   ]
  },
  {
   "cell_type": "code",
   "execution_count": null,
   "metadata": {},
   "outputs": [],
   "source": [
    "# Join Global datasets\n",
    "Global_all = Global_all.merge(Global_Recovered, on=['Province/State','Date'])"
   ]
  },
  {
   "cell_type": "code",
   "execution_count": null,
   "metadata": {},
   "outputs": [],
   "source": [
    "Global_all.head()"
   ]
  },
  {
   "cell_type": "code",
   "execution_count": null,
   "metadata": {},
   "outputs": [],
   "source": [
    "Global_all = Global_all.rename(columns={\"Province/State\": \"Province_State\"})"
   ]
  },
  {
   "cell_type": "code",
   "execution_count": null,
   "metadata": {},
   "outputs": [],
   "source": [
    "all = US_all.append(Global_all)"
   ]
  },
  {
   "cell_type": "markdown",
   "metadata": {},
   "source": [
    "#### User prompt for region"
   ]
  },
  {
   "cell_type": "code",
   "execution_count": null,
   "metadata": {
    "slideshow": {
     "slide_type": "slide"
    }
   },
   "outputs": [],
   "source": [
    "userOptionsRegion = wd.Dropdown(\n",
    "        options=all.Province_State.unique(),\n",
    "        value='American Samoa',\n",
    "        description='Regions:',\n",
    "        disabled=False\n",
    "        )\n",
    "\n",
    "display(userOptionsRegion)"
   ]
  },
  {
   "cell_type": "code",
   "execution_count": null,
   "metadata": {
    "slideshow": {
     "slide_type": "slide"
    }
   },
   "outputs": [],
   "source": [
    "userRegion =userOptionsRegion.value\n",
    "\n",
    "# filtered_regions_confirmed = all[Confirmed].loc[all['Province_State'] == userRegion] #region filter\n",
    "# filtered_regions_deaths = all.loc[all['Province_State'] == userRegion] #region filter\n",
    "\n",
    "filtered = all.loc[all['Province_State'] == userRegion] #region filter\n",
    "\n",
    "filtered.head()"
   ]
  },
  {
   "cell_type": "code",
   "execution_count": null,
   "metadata": {},
   "outputs": [],
   "source": [
    "# need to change Date to datetime\n",
    "\n",
    "filtered[\"Date\"] = pd.to_datetime(filtered[\"Date\"])"
   ]
  },
  {
   "cell_type": "code",
   "execution_count": null,
   "metadata": {},
   "outputs": [],
   "source": [
    "# also as data is showing counts as cummulative, need to just show the daily totals\n",
    "\n",
    "#first sort by Province/State then Date\n",
    "#filtered=filtered.sort_values([\"Province_State\", \"Date\"], ascending = (True, True))\n",
    "\n",
    "# take the differences from one day to the next to get back to daily totals\n",
    "filtered.Confirmed=filtered.Confirmed.diff()\n",
    "filtered.Deaths=filtered.Deaths.diff()\n",
    "filtered.Recovered=filtered.Recovered.diff()"
   ]
  },
  {
   "cell_type": "markdown",
   "metadata": {
    "slideshow": {
     "slide_type": "slide"
    }
   },
   "source": [
    "### Plotting"
   ]
  },
  {
   "cell_type": "code",
   "execution_count": null,
   "metadata": {
    "slideshow": {
     "slide_type": "slide"
    }
   },
   "outputs": [],
   "source": [
    "# config\n",
    "from datetime import datetime as dt\n",
    "\n",
    "#change to simpler date format, dont need year\n",
    "filtered['Date'] = filtered['Date'].dt.strftime('%d-%b')\n",
    "\n",
    "#set date as new index for plotting\n",
    "filtered=filtered.set_index('Date')\n",
    "\n",
    "x1 = filtered.index\n",
    "x2 = filtered.index\n",
    "y1 = filtered.Confirmed.values #drop .values if doing a line plot (see next cell*)\n",
    "y2 = filtered.Deaths.values #drop .values if doing a line plot (see next cell*)\n",
    "\n",
    "from matplotlib.ticker import (MultipleLocator, FormatStrFormatter,\n",
    "                               AutoMinorLocator)"
   ]
  },
  {
   "cell_type": "code",
   "execution_count": null,
   "metadata": {
    "slideshow": {
     "slide_type": "slide"
    }
   },
   "outputs": [],
   "source": [
    "fig, axes = plt.subplots(nrows=1, ncols=2, figsize=(12, 5))\n",
    "\n",
    "axes[0].bar(x1, y1,color='b') #.plot would give a line plot*\n",
    "axes[1].bar(x2, y2,color='r') #.plot would give a line plot*\n",
    "axes[0].xaxis.set_major_locator(MultipleLocator(28))\n",
    "axes[1].xaxis.set_major_locator(MultipleLocator(28))\n",
    "\n",
    "fig.suptitle(userRegion, x= 0.5, y = 1.05, fontsize=16)\n",
    "plt.figtext(0.2, 0.7, 'Cases:\\n\\n Total ' + str(filtered.Confirmed.sum()) + '\\nLatest ' + str(filtered[\"Confirmed\"][-1]), horizontalalignment='right')\n",
    "plt.figtext(0.7, 0.7, 'Deaths:\\n\\n Total ' + str(filtered.Deaths.sum()) + '\\nLatest ' + str(filtered[\"Deaths\"][-1]), horizontalalignment='right')\n",
    "\n",
    "fig.tight_layout()"
   ]
  },
  {
   "cell_type": "markdown",
   "metadata": {},
   "source": [
    "### Additional"
   ]
  },
  {
   "cell_type": "code",
   "execution_count": null,
   "metadata": {},
   "outputs": [],
   "source": [
    "# test - stacked bar chart\n",
    "\n",
    "# check https://altair-viz.github.io/user_guide/customization.html#adjusting-axis-labels\n",
    "\n",
    "#%pip install altair\n",
    "\n",
    "import altair as alt\n",
    "import pandas as pd\n",
    "\n",
    "metricsOrder=[\"Deaths\",\"Recovered\",\"Active\"]\n",
    "\n",
    "bars=alt.Chart().mark_bar().encode(\n",
    "    x=alt.X('sum(Number)',stack='zero'), # this should be a new \"number\" column for number of Confirmed\tDeaths\tRecovered\tActive\n",
    "    y=alt.Y('Country_Region', sort=top10), # countries'\n",
    "    color=alt.Color('Status',sort=[\"Deaths\",\"Recovered\",\"Active\"],\n",
    "                   scale = alt.Scale(domain=[\"Deaths\",\"Recovered\",\"Active\"], range=['red','green', 'grey']))\n",
    ").properties(\n",
    "    width=400,\n",
    "    height=200)\n",
    "\n",
    "# text=alt.Chart().mark_text(dx=-15, dy=3).encode(\n",
    "#     y=alt.Y('Country_Region', sort=top10),\n",
    "#     x=alt.X('sum(Number)',  stack='zero'),\n",
    "#     color=alt.Color('Status', legend=None, scale=alt.Scale(range=['white']),sort=[\"Deaths\",\"Recovered\",\"Active\"]),\n",
    "#     text=alt.Text('sum(Number)',format='.0f')\n",
    "# )\n",
    "\n",
    "# horsepower = ranked_text.encode(text='Horsepower:N').properties(title='Horsepower')\n",
    "# mpg = ranked_text.encode(text='Miles_per_Gallon:N').properties(title='MPG')\n",
    "# origin = ranked_text.encode(text='Origin:N').properties(title='Origin')\n",
    "# text = alt.hconcat(horsepower, mpg, origin) # Combine data tables\n",
    "text = top10_enigma_stats # Combine data tables\n",
    "\n",
    "#scale = alt.Scale(domain=[\"Deaths\",\"Recovered\",\"Active\"], range=['red','green', 'amber'])\n",
    "\n",
    "alt.layer(bars, text, data=meltedEnigmaSummary).resolve_scale(color='independent')"
   ]
  },
  {
   "cell_type": "code",
   "execution_count": null,
   "metadata": {},
   "outputs": [],
   "source": [
    "meltedEnigmaSummary.head(25)"
   ]
  },
  {
   "cell_type": "code",
   "execution_count": null,
   "metadata": {},
   "outputs": [],
   "source": [
    "# test - stacked bar chart\n",
    "\n",
    "import altair as alt\n",
    "import pandas as pd\n",
    "from vega_datasets import data\n",
    "\n",
    "df=data.barley()\n",
    "\n",
    "bars=alt.Chart().mark_bar().encode(\n",
    "    x=alt.X('sum(yield)',stack='zero'), # this should be a new \"number\" column for number of Confirmed\tDeaths\tRecovered\tActive\n",
    "    y=alt.Y('variety'), ' countries'\n",
    "    color=alt.Color('site') # this should be a new \"status\" column: Confirmed\tDeaths\tRecovered\tActive\n",
    ")\n",
    "\n",
    "text=alt.Chart().mark_text(dx=-15, dy=3).encode(\n",
    "    y=alt.Y('variety'),\n",
    "    x=alt.X('sum(yield)',  stack='zero'),\n",
    "    color=alt.Color('site', legend=None, scale=alt.Scale(range=['white'])),\n",
    "    text=alt.Text('sum(yield)',format='.1f')\n",
    ")\n",
    "\n",
    "alt.layer(bars, text, data=df).resolve_scale(color='independent')"
   ]
  },
  {
   "cell_type": "markdown",
   "metadata": {},
   "source": [
    "### Other"
   ]
  },
  {
   "cell_type": "code",
   "execution_count": null,
   "metadata": {
    "slideshow": {
     "slide_type": "skip"
    }
   },
   "outputs": [],
   "source": [
    "# set MonthYear as index\n",
    "#filtered_df.set_index('dateRep', inplace=True)\n",
    "\n",
    "#plot cases and deaths\n",
    "\n",
    "fig = plt.figure(figsize=(12,8))\n",
    "\n",
    "fig.suptitle('Covd-19 latest cases and deaths distribution: ' , fontsize=12)\n",
    "\n",
    "ax1 = fig.add_subplot(111)\n",
    "ax1.plot(filtered_df[\"cases\"],label=\"Cases\")\n",
    "ax2 = ax1.twinx()\n",
    "ax2.plot(filtered_df[\"deaths\"], color='r',label=\"Deaths\")\n",
    "\n",
    "ax1.set_ylabel('Cases', fontsize=12 )\n",
    "ax2.set_ylabel('Deaths', fontsize=12)\n",
    "\n",
    "fig.legend(loc='best')"
   ]
  },
  {
   "cell_type": "code",
   "execution_count": null,
   "metadata": {
    "slideshow": {
     "slide_type": "skip"
    }
   },
   "outputs": [],
   "source": [
    "#alternative (basic)\n",
    "\n",
    "#filter plot data only\n",
    "plot_df=filtered_df[[ \"cases\",\"deaths\"]]\n",
    "plot_df.head()\n",
    "\n",
    "ax = plot_df.plot(figsize=(14,6), lw=2, style='k-')"
   ]
  },
  {
   "cell_type": "code",
   "execution_count": null,
   "metadata": {
    "scrolled": true,
    "slideshow": {
     "slide_type": "skip"
    }
   },
   "outputs": [],
   "source": [
    "#alternative (side by side)\n",
    "\n",
    "#filter plot data only\n",
    "plot_cases=filtered_df[[\"cases\"]]\n",
    "plot_deaths=filtered_df[[\"deaths\"]]\n",
    "\n",
    "plot_cases.plot(figsize=(6,4), color='b', lw=2)\n",
    "plot_deaths.plot(figsize=(6,4), color='r', lw=2)"
   ]
  }
 ],
 "metadata": {
  "celltoolbar": "Slideshow",
  "kernelspec": {
   "display_name": "Python 3",
   "language": "python",
   "name": "python3"
  },
  "language_info": {
   "codemirror_mode": {
    "name": "ipython",
    "version": 3
   },
   "file_extension": ".py",
   "mimetype": "text/x-python",
   "name": "python",
   "nbconvert_exporter": "python",
   "pygments_lexer": "ipython3",
   "version": "3.8.5"
  },
  "rise": {
   "autolaunch": true,
   "enable_chalkboard": true,
   "theme": "solarized"
  }
 },
 "nbformat": 4,
 "nbformat_minor": 2
}
